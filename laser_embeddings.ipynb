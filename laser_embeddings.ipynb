{
  "nbformat": 4,
  "nbformat_minor": 0,
  "metadata": {
    "kernelspec": {
      "language": "python",
      "display_name": "Python 3",
      "name": "python3"
    },
    "language_info": {
      "name": "python",
      "version": "3.7.6",
      "mimetype": "text/x-python",
      "codemirror_mode": {
        "name": "ipython",
        "version": 3
      },
      "pygments_lexer": "ipython3",
      "nbconvert_exporter": "python",
      "file_extension": ".py"
    },
    "colab": {
      "name": "laser-embeddings.ipynb",
      "provenance": [],
      "collapsed_sections": []
    }
  },
  "cells": [
    {
      "cell_type": "markdown",
      "metadata": {
        "id": "ad2vGHBh9TEK"
      },
      "source": [
        "# Laser-Embeddings Approach\n",
        "By: Haasitha Pidaparthi\n",
        "\n",
        "Reference: \n",
        "- https://github.com/facebookresearch/LASER\n",
        "- https://engineering.fb.com/2019/01/22/ai-research/laser-multilingual-sentence-embeddings/\n",
        "- https://github.com/yannvgn/laserembeddings/tree/ceb3818c998099d315a935210d3962640922fa8b\n",
        "- https://pypi.org/project/laserembeddings/\n",
        "- https://www.kaggle.com/kiatweitan/contradictory-oh-my-dear-watson-laser-embedding\n",
        "- https://www.kaggle.com/camnugent/faa-laser-days-of-the-week-hypothesis-test/comments#214360\n",
        "\n",
        "## 1. Import libraries and datasets"
      ]
    },
    {
      "cell_type": "code",
      "metadata": {
        "_uuid": "8f2839f25d086af736a60e9eeb907d3b93b6e0e5",
        "_cell_guid": "b1076dfc-b9ad-4769-8c92-a6c4dae69d19",
        "execution": {
          "iopub.status.busy": "2021-11-30T21:38:57.077400Z",
          "iopub.execute_input": "2021-11-30T21:38:57.077798Z",
          "iopub.status.idle": "2021-11-30T21:39:05.427047Z",
          "shell.execute_reply.started": "2021-11-30T21:38:57.077764Z",
          "shell.execute_reply": "2021-11-30T21:39:05.426049Z"
        },
        "trusted": true,
        "id": "9l2iJPwN6x9d"
      },
      "source": [
        "!pip install laserembeddings"
      ],
      "execution_count": null,
      "outputs": []
    },
    {
      "cell_type": "code",
      "metadata": {
        "execution": {
          "iopub.status.busy": "2021-11-30T21:39:05.429383Z",
          "iopub.execute_input": "2021-11-30T21:39:05.429781Z",
          "iopub.status.idle": "2021-11-30T21:39:05.437641Z",
          "shell.execute_reply.started": "2021-11-30T21:39:05.429740Z",
          "shell.execute_reply": "2021-11-30T21:39:05.436638Z"
        },
        "trusted": true,
        "id": "-9hmqS-I6x9e"
      },
      "source": [
        "import pandas as pd\n",
        "import numpy as np\n",
        "from matplotlib import pyplot as plt\n",
        "\n",
        "# modeling\n",
        "import laserembeddings\n",
        "from laserembeddings import Laser\n",
        "import tensorflow as tf\n",
        "from sklearn.model_selection import train_test_split\n",
        "from sklearn.metrics.pairwise import cosine_similarity\n",
        "from sklearn.preprocessing import OneHotEncoder\n",
        "\n",
        "from fastcache import clru_cache\n",
        "from typing import List, Union"
      ],
      "execution_count": null,
      "outputs": []
    },
    {
      "cell_type": "code",
      "metadata": {
        "execution": {
          "iopub.status.busy": "2021-11-30T21:39:05.438958Z",
          "iopub.execute_input": "2021-11-30T21:39:05.439345Z",
          "iopub.status.idle": "2021-11-30T21:39:05.542216Z",
          "shell.execute_reply.started": "2021-11-30T21:39:05.439308Z",
          "shell.execute_reply": "2021-11-30T21:39:05.541374Z"
        },
        "trusted": true,
        "id": "HndQJK366x9e"
      },
      "source": [
        "df_train = pd.read_csv('../input/contradictory-my-dear-watson/train.csv', index_col=0).fillna('')\n",
        "df_test  = pd.read_csv('../input/contradictory-my-dear-watson/test.csv',  index_col=0).fillna('')\n",
        "df_train"
      ],
      "execution_count": null,
      "outputs": []
    },
    {
      "cell_type": "markdown",
      "metadata": {
        "id": "2H9AziHX6x9e"
      },
      "source": [
        "## 2. LASER Embeddings\n"
      ]
    },
    {
      "cell_type": "code",
      "metadata": {
        "execution": {
          "iopub.status.busy": "2021-11-30T21:39:05.543630Z",
          "iopub.execute_input": "2021-11-30T21:39:05.544135Z",
          "iopub.status.idle": "2021-11-30T21:39:08.713733Z",
          "shell.execute_reply.started": "2021-11-30T21:39:05.544094Z",
          "shell.execute_reply": "2021-11-30T21:39:08.712558Z"
        },
        "trusted": true,
        "id": "2PY6gI8r6x9f"
      },
      "source": [
        "%%bash\n",
        "mkdir -p models/laser/\n",
        "for FILE in bilstm.93langs.2018-12-26.pt 93langs.fcodes 93langs.fvocab; do\n",
        "    wget -cq https://dl.fbaipublicfiles.com/laser/models/$FILE -O models/laser/$FILE\n",
        "done"
      ],
      "execution_count": null,
      "outputs": []
    },
    {
      "cell_type": "code",
      "metadata": {
        "execution": {
          "iopub.status.busy": "2021-11-30T21:39:08.717784Z",
          "iopub.execute_input": "2021-11-30T21:39:08.718236Z",
          "iopub.status.idle": "2021-11-30T21:39:08.770070Z",
          "shell.execute_reply.started": "2021-11-30T21:39:08.718191Z",
          "shell.execute_reply": "2021-11-30T21:39:08.769041Z"
        },
        "trusted": true,
        "id": "RDOziNvD6x9f"
      },
      "source": [
        "config = {\n",
        "    \"laser\": {\n",
        "        \"base_dir\":  \"./models/laser\",\n",
        "        \"bpe_codes\": \"./models/laser/93langs.fcodes\",\n",
        "        \"bpe_vocab\": \"./models/laser/93langs.fvocab\",\n",
        "        \"encoder\":   \"./models/laser/bilstm.93langs.2018-12-26.pt\",\n",
        "    }\n",
        "}\n",
        "\n",
        "@clru_cache(None)\n",
        "def get_laser_model():\n",
        "    laser_model = Laser(\n",
        "        bpe_codes = config['laser']['bpe_codes'],\n",
        "        bpe_vocab = config['laser']['bpe_vocab'],\n",
        "        encoder = config['laser']['encoder'],\n",
        "        tokenizer_options = None,\n",
        "        embedding_options = None\n",
        "    )\n",
        "    return laser_model\n",
        "\n",
        "# Template for encoding text\n",
        "def laser_encode(text: Union[str, List[str]], lang='en', normalize=True) -> np.ndarray:\n",
        "    laser_model = get_laser_model()\n",
        "    \n",
        "    if isinstance(text, str):\n",
        "        sentences = [ text ]\n",
        "    else:\n",
        "        sentences = list(text)\n",
        "\n",
        "    embedding = laser_model.embed_sentences(sentences, lang=lang)\n",
        "    if normalize:\n",
        "        embedding = embedding / np.sqrt(np.sum(embedding**2, axis=1)).reshape(-1,1)\n",
        "        \n",
        "    return embedding"
      ],
      "execution_count": null,
      "outputs": []
    },
    {
      "cell_type": "code",
      "metadata": {
        "execution": {
          "iopub.status.busy": "2021-11-30T21:39:08.772254Z",
          "iopub.execute_input": "2021-11-30T21:39:08.772664Z",
          "iopub.status.idle": "2021-11-30T21:39:08.790504Z",
          "shell.execute_reply.started": "2021-11-30T21:39:08.772625Z",
          "shell.execute_reply": "2021-11-30T21:39:08.789829Z"
        },
        "trusted": true,
        "id": "k9NVhzr76x9g"
      },
      "source": [
        "def encode_X(df):\n",
        "    premise    = laser_encode(df['premise'],    lang=df['lang_abv'])\n",
        "    hypothesis = laser_encode(df['hypothesis'], lang=df['lang_abv'])\n",
        "    cosine = np.array([\n",
        "        cosine_similarity( premise[n].reshape(1,-1), hypothesis[n].reshape(1,-1) )\n",
        "        for n in range(len(df))\n",
        "    ]).reshape(-1,1)\n",
        "    X = np.array([\n",
        "        np.concatenate([ premise[n], hypothesis[n], cosine[n] ])\n",
        "        for n in range(len(df))\n",
        "    ])\n",
        "    return X\n",
        "    \n",
        "def encode_Y(df):\n",
        "    encoder = OneHotEncoder().fit([ [0], [1], [2] ])\n",
        "    return encoder.transform( df['label'].to_numpy().reshape(-1,1) ).toarray()\n",
        "\n",
        "def decode_Y(one_hot_encoded):\n",
        "    decoded = tf.argmax(one_hot_encoded, axis=1)\n",
        "    return decoded.numpy().astype(np.int32)"
      ],
      "execution_count": null,
      "outputs": []
    },
    {
      "cell_type": "code",
      "metadata": {
        "execution": {
          "iopub.status.busy": "2021-11-30T21:39:08.792091Z",
          "iopub.execute_input": "2021-11-30T21:39:08.792644Z",
          "iopub.status.idle": "2021-11-30T21:39:32.438381Z",
          "shell.execute_reply.started": "2021-11-30T21:39:08.792596Z",
          "shell.execute_reply": "2021-11-30T21:39:32.435563Z"
        },
        "trusted": true,
        "id": "c-WVk5fc6x9g"
      },
      "source": [
        "%%time\n",
        "X_train = encode_X(df_train)\n",
        "Y_train = encode_Y(df_train)"
      ],
      "execution_count": null,
      "outputs": []
    },
    {
      "cell_type": "markdown",
      "metadata": {
        "id": "PKCDHZr16x9h"
      },
      "source": [
        "## 3. Neural Network"
      ]
    },
    {
      "cell_type": "code",
      "metadata": {
        "execution": {
          "iopub.status.busy": "2021-11-30T21:39:32.440213Z",
          "iopub.execute_input": "2021-11-30T21:39:32.440708Z",
          "iopub.status.idle": "2021-11-30T21:39:32.446616Z",
          "shell.execute_reply.started": "2021-11-30T21:39:32.440664Z",
          "shell.execute_reply": "2021-11-30T21:39:32.445733Z"
        },
        "trusted": true,
        "id": "n2vvlsKj6x9h"
      },
      "source": [
        "# Parameters\n",
        "test_size = 0.2\n",
        "epochs = 100\n",
        "batch_size = 32\n",
        "verbose = 2"
      ],
      "execution_count": null,
      "outputs": []
    },
    {
      "cell_type": "code",
      "metadata": {
        "execution": {
          "iopub.status.busy": "2021-11-30T21:39:32.668152Z",
          "iopub.execute_input": "2021-11-30T21:39:32.668395Z",
          "iopub.status.idle": "2021-11-30T21:39:32.705957Z",
          "shell.execute_reply.started": "2021-11-30T21:39:32.668371Z",
          "shell.execute_reply": "2021-11-30T21:39:32.705137Z"
        },
        "trusted": true,
        "id": "0GdRHjHC6x9i"
      },
      "source": [
        "# split data into training and testing: 80 to 20\n",
        "X_train, X_test, Y_train, Y_test = train_test_split(X_train, Y_train, test_size=test_size, randon_state=42)"
      ],
      "execution_count": null,
      "outputs": []
    },
    {
      "cell_type": "code",
      "metadata": {
        "execution": {
          "iopub.status.busy": "2021-11-30T21:39:32.447932Z",
          "iopub.execute_input": "2021-11-30T21:39:32.448466Z",
          "iopub.status.idle": "2021-11-30T21:39:32.637724Z",
          "shell.execute_reply.started": "2021-11-30T21:39:32.448411Z",
          "shell.execute_reply": "2021-11-30T21:39:32.637056Z"
        },
        "trusted": true,
        "id": "FpqB7W_C6x9h"
      },
      "source": [
        "model = tf.keras.Sequential([\n",
        "            tf.keras.Input(shape=(X_train.shape[1],)),\n",
        "            tf.keras.layers.Dense(512, activation=tf.keras.layers.LeakyReLU(alpha=0.1)),\n",
        "                tf.keras.layers.BatchNormalization(),\n",
        "                tf.keras.layers.Dropout(0.25),\n",
        "            tf.keras.layers.Dense(128, activation=tf.keras.layers.LeakyReLU(alpha=0.1)),\n",
        "                tf.keras.layers.BatchNormalization(),\n",
        "                tf.keras.layers.Dropout(0.25),\n",
        "            tf.keras.layers.Dense(32, activation=tf.keras.layers.LeakyReLU(alpha=0.1)),\n",
        "                tf.keras.layers.BatchNormalization(),\n",
        "                tf.keras.layers.Dropout(0.25),\n",
        "            tf.keras.layers.Dense(8, activation=tf.keras.layers.LeakyReLU(alpha=0.1)),\n",
        "                tf.keras.layers.BatchNormalization(),\n",
        "                tf.keras.layers.Dropout(0.25),\n",
        "            tf.keras.layers.Dense(Y_train.shape[1], activation=tf.keras.activations.sigmoid),\n",
        "        ])\n",
        "model.summary()"
      ],
      "execution_count": null,
      "outputs": []
    },
    {
      "cell_type": "code",
      "metadata": {
        "execution": {
          "iopub.status.busy": "2021-11-30T21:39:32.640420Z",
          "iopub.execute_input": "2021-11-30T21:39:32.640777Z",
          "iopub.status.idle": "2021-11-30T21:39:32.664298Z",
          "shell.execute_reply.started": "2021-11-30T21:39:32.640741Z",
          "shell.execute_reply": "2021-11-30T21:39:32.663658Z"
        },
        "trusted": true,
        "id": "ElVQ03ly6x9h"
      },
      "source": [
        "model.compile(\n",
        "        loss = tf.keras.losses.CategoricalCrossentropy(from_logits=True),\n",
        "        optimizer = tf.keras.optimizers.Adam(learning_rate=1e-5),\n",
        "        metrics = [ tf.keras.metrics.CategoricalAccuracy() ],\n",
        "    )"
      ],
      "execution_count": null,
      "outputs": []
    },
    {
      "cell_type": "code",
      "metadata": {
        "execution": {
          "iopub.status.busy": "2021-11-30T21:39:32.707542Z",
          "iopub.execute_input": "2021-11-30T21:39:32.707905Z",
          "iopub.status.idle": "2021-11-30T21:41:09.776327Z",
          "shell.execute_reply.started": "2021-11-30T21:39:32.707867Z",
          "shell.execute_reply": "2021-11-30T21:41:09.775422Z"
        },
        "collapsed": true,
        "jupyter": {
          "outputs_hidden": true
        },
        "trusted": true,
        "id": "TRHWgDS76x9i"
      },
      "source": [
        "%%time\n",
        "history = model.fit(\n",
        "            X_train, Y_train, \n",
        "            batch_size = batch_size, \n",
        "            epochs     = epochs, \n",
        "            validation_split = test_size,\n",
        "            callbacks = [\n",
        "                tf.keras.callbacks.EarlyStopping(\n",
        "                    monitor  = 'val_loss', \n",
        "                    mode     = 'min', \n",
        "                    verbose  = 0, \n",
        "                    patience = 100\n",
        "                ),\n",
        "                tf.keras.callbacks.ModelCheckpoint(\n",
        "                    'model.h5', \n",
        "                    monitor = 'val_categorical_accuracy', \n",
        "                    mode    = 'max', \n",
        "                    verbose = 0, \n",
        "                    save_best_only = True\n",
        "                )\n",
        "            ],\n",
        "            verbose = verbose\n",
        "        )"
      ],
      "execution_count": null,
      "outputs": []
    },
    {
      "cell_type": "code",
      "metadata": {
        "execution": {
          "iopub.status.busy": "2021-11-30T21:41:09.778000Z",
          "iopub.execute_input": "2021-11-30T21:41:09.778639Z",
          "iopub.status.idle": "2021-11-30T21:41:10.935767Z",
          "shell.execute_reply.started": "2021-11-30T21:41:09.778595Z",
          "shell.execute_reply": "2021-11-30T21:41:10.933551Z"
        },
        "trusted": true,
        "id": "hEeutryY6x9i"
      },
      "source": [
        "print()\n",
        "print('Train Accuracy')\n",
        "model.evaluate(X_train, Y_train)\n",
        "\n",
        "print('Test Accuracy')\n",
        "model.evaluate(X_test, Y_test)"
      ],
      "execution_count": null,
      "outputs": []
    },
    {
      "cell_type": "markdown",
      "metadata": {
        "id": "4wT8FADl6x9i"
      },
      "source": [
        "## 4. Visualize Model Training"
      ]
    },
    {
      "cell_type": "code",
      "metadata": {
        "execution": {
          "iopub.status.busy": "2021-11-30T21:41:10.958827Z",
          "iopub.execute_input": "2021-11-30T21:41:10.959681Z",
          "iopub.status.idle": "2021-11-30T21:41:11.119069Z",
          "shell.execute_reply.started": "2021-11-30T21:41:10.959642Z",
          "shell.execute_reply": "2021-11-30T21:41:11.118160Z"
        },
        "trusted": true,
        "id": "kkWND78M6x9i"
      },
      "source": [
        "plt.plot(history.history['loss'])\n",
        "plt.plot(history.history['val_loss'])\n",
        "plt.title('Model Loss')\n",
        "plt.ylabel('loss')\n",
        "plt.xlabel('epoch')\n",
        "plt.legend(['train', 'val'], loc='upper left')\n",
        "plt.show()"
      ],
      "execution_count": null,
      "outputs": []
    },
    {
      "cell_type": "markdown",
      "metadata": {
        "id": "ROTyFjv-6x9j"
      },
      "source": [
        "## 5. Submission"
      ]
    },
    {
      "cell_type": "code",
      "metadata": {
        "execution": {
          "iopub.status.busy": "2021-11-30T21:41:11.120340Z",
          "iopub.execute_input": "2021-11-30T21:41:11.120964Z",
          "iopub.status.idle": "2021-11-30T21:41:20.880247Z",
          "shell.execute_reply.started": "2021-11-30T21:41:11.120918Z",
          "shell.execute_reply": "2021-11-30T21:41:20.879354Z"
        },
        "trusted": true,
        "id": "zfwyYAz06x9j"
      },
      "source": [
        "%%time \n",
        "X_test = encode_X( df_test)\n",
        "Y_test = decode_Y( model.predict(X_test) )"
      ],
      "execution_count": null,
      "outputs": []
    },
    {
      "cell_type": "code",
      "metadata": {
        "execution": {
          "iopub.status.busy": "2021-11-30T21:41:20.881517Z",
          "iopub.execute_input": "2021-11-30T21:41:20.881999Z",
          "iopub.status.idle": "2021-11-30T21:41:21.608954Z",
          "shell.execute_reply.started": "2021-11-30T21:41:20.881956Z",
          "shell.execute_reply": "2021-11-30T21:41:21.608056Z"
        },
        "trusted": true,
        "id": "5S8g9IRS6x9j"
      },
      "source": [
        "df_submission = pd.read_csv('../input/contradictory-my-dear-watson/sample_submission.csv', index_col=0).fillna('')\n",
        "df_submission['prediction'] = Y_test\n",
        "df_submission.to_csv('submission.csv')\n",
        "!head submission.csv"
      ],
      "execution_count": null,
      "outputs": []
    }
  ]
}