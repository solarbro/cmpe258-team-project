{
  "nbformat": 4,
  "nbformat_minor": 5,
  "metadata": {
    "kernelspec": {
      "display_name": "Python 3",
      "language": "python",
      "name": "python3"
    },
    "language_info": {
      "codemirror_mode": {
        "name": "ipython",
        "version": 3
      },
      "file_extension": ".py",
      "mimetype": "text/x-python",
      "name": "python",
      "nbconvert_exporter": "python",
      "pygments_lexer": "ipython3",
      "version": "3.7.10"
    },
    "papermill": {
      "default_parameters": {},
      "duration": 1430.856095,
      "end_time": "2021-11-27T00:40:22.656587",
      "environment_variables": {},
      "exception": null,
      "input_path": "__notebook__.ipynb",
      "output_path": "__notebook__.ipynb",
      "parameters": {},
      "start_time": "2021-11-27T00:16:31.800492",
      "version": "2.3.3"
    },
    "widgets": {
      "application/vnd.jupyter.widget-state+json": {}
    },
    "colab": {
      "name": "simple-transformer-v1.ipynb",
      "provenance": [],
      "collapsed_sections": []
    }
  },
  "cells": [
    {
      "cell_type": "markdown",
      "metadata": {
        "id": "28mALe7dXZ7a"
      },
      "source": [
        "# Setting path for data files"
      ],
      "id": "28mALe7dXZ7a"
    },
    {
      "cell_type": "code",
      "metadata": {
        "execution": {
          "iopub.execute_input": "2021-11-27T00:16:39.342526Z",
          "iopub.status.busy": "2021-11-27T00:16:39.340960Z",
          "iopub.status.idle": "2021-11-27T00:16:39.352410Z",
          "shell.execute_reply": "2021-11-27T00:16:39.351900Z",
          "shell.execute_reply.started": "2021-11-26T23:45:45.429696Z"
        },
        "papermill": {
          "duration": 0.041749,
          "end_time": "2021-11-27T00:16:39.352567",
          "exception": false,
          "start_time": "2021-11-27T00:16:39.310818",
          "status": "completed"
        },
        "tags": [],
        "id": "cd2066cc",
        "outputId": "76b07d2a-0754-4c1c-a288-9e53cdbbca57"
      },
      "source": [
        "import os\n",
        "for dirname, _, filenames in os.walk('/kaggle/input'):\n",
        "    for filename in filenames:\n",
        "        print(os.path.join(dirname, filename))"
      ],
      "id": "cd2066cc",
      "execution_count": null,
      "outputs": [
        {
          "name": "stdout",
          "output_type": "stream",
          "text": [
            "/kaggle/input/contradictory-my-dear-watson/sample_submission.csv\n",
            "/kaggle/input/contradictory-my-dear-watson/train.csv\n",
            "/kaggle/input/contradictory-my-dear-watson/test.csv\n"
          ]
        }
      ]
    },
    {
      "cell_type": "markdown",
      "metadata": {
        "id": "v9eC3PCFXe_F"
      },
      "source": [
        "# Importing required libraries"
      ],
      "id": "v9eC3PCFXe_F"
    },
    {
      "cell_type": "code",
      "metadata": {
        "execution": {
          "iopub.execute_input": "2021-11-27T00:16:39.406011Z",
          "iopub.status.busy": "2021-11-27T00:16:39.405366Z",
          "iopub.status.idle": "2021-11-27T00:16:44.216624Z",
          "shell.execute_reply": "2021-11-27T00:16:44.216064Z",
          "shell.execute_reply.started": "2021-11-26T23:45:47.612790Z"
        },
        "id": "d73e6c1e",
        "papermill": {
          "duration": 4.839416,
          "end_time": "2021-11-27T00:16:44.216766",
          "exception": false,
          "start_time": "2021-11-27T00:16:39.377350",
          "status": "completed"
        },
        "tags": []
      },
      "source": [
        "import matplotlib.pyplot as plt\n",
        "import keras\n",
        "import pandas as pd\n",
        "import numpy as np"
      ],
      "id": "d73e6c1e",
      "execution_count": null,
      "outputs": []
    },
    {
      "cell_type": "code",
      "metadata": {
        "execution": {
          "iopub.execute_input": "2021-11-27T00:16:44.269423Z",
          "iopub.status.busy": "2021-11-27T00:16:44.268688Z",
          "iopub.status.idle": "2021-11-27T00:16:44.782888Z",
          "shell.execute_reply": "2021-11-27T00:16:44.782349Z",
          "shell.execute_reply.started": "2021-11-26T23:45:51.721872Z"
        },
        "id": "2f0d7859",
        "papermill": {
          "duration": 0.541948,
          "end_time": "2021-11-27T00:16:44.783027",
          "exception": false,
          "start_time": "2021-11-27T00:16:44.241079",
          "status": "completed"
        },
        "tags": []
      },
      "source": [
        "import sklearn"
      ],
      "id": "2f0d7859",
      "execution_count": null,
      "outputs": []
    },
    {
      "cell_type": "markdown",
      "metadata": {
        "id": "06PkN7SMXiIS"
      },
      "source": [
        "#Loading Train Data"
      ],
      "id": "06PkN7SMXiIS"
    },
    {
      "cell_type": "code",
      "metadata": {
        "execution": {
          "iopub.execute_input": "2021-11-27T00:16:44.834422Z",
          "iopub.status.busy": "2021-11-27T00:16:44.833335Z",
          "iopub.status.idle": "2021-11-27T00:16:45.018663Z",
          "shell.execute_reply": "2021-11-27T00:16:45.019064Z",
          "shell.execute_reply.started": "2021-11-26T23:45:53.855380Z"
        },
        "id": "9f1db2c3",
        "papermill": {
          "duration": 0.211985,
          "end_time": "2021-11-27T00:16:45.019213",
          "exception": false,
          "start_time": "2021-11-27T00:16:44.807228",
          "status": "completed"
        },
        "tags": [],
        "outputId": "144bec9d-da95-42f7-bf19-dd8411739448"
      },
      "source": [
        "train_df=pd.read_csv(\"../input/contradictory-my-dear-watson/train.csv\")\n",
        "print('Number of rows and columns in train set:', train_df.shape)\n",
        "train_df.head(5)"
      ],
      "id": "9f1db2c3",
      "execution_count": null,
      "outputs": [
        {
          "name": "stdout",
          "output_type": "stream",
          "text": [
            "Number of rows and columns in train set: (12120, 6)\n"
          ]
        },
        {
          "data": {
            "text/html": [
              "<div>\n",
              "<style scoped>\n",
              "    .dataframe tbody tr th:only-of-type {\n",
              "        vertical-align: middle;\n",
              "    }\n",
              "\n",
              "    .dataframe tbody tr th {\n",
              "        vertical-align: top;\n",
              "    }\n",
              "\n",
              "    .dataframe thead th {\n",
              "        text-align: right;\n",
              "    }\n",
              "</style>\n",
              "<table border=\"1\" class=\"dataframe\">\n",
              "  <thead>\n",
              "    <tr style=\"text-align: right;\">\n",
              "      <th></th>\n",
              "      <th>id</th>\n",
              "      <th>premise</th>\n",
              "      <th>hypothesis</th>\n",
              "      <th>lang_abv</th>\n",
              "      <th>language</th>\n",
              "      <th>label</th>\n",
              "    </tr>\n",
              "  </thead>\n",
              "  <tbody>\n",
              "    <tr>\n",
              "      <th>0</th>\n",
              "      <td>5130fd2cb5</td>\n",
              "      <td>and these comments were considered in formulat...</td>\n",
              "      <td>The rules developed in the interim were put to...</td>\n",
              "      <td>en</td>\n",
              "      <td>English</td>\n",
              "      <td>0</td>\n",
              "    </tr>\n",
              "    <tr>\n",
              "      <th>1</th>\n",
              "      <td>5b72532a0b</td>\n",
              "      <td>These are issues that we wrestle with in pract...</td>\n",
              "      <td>Practice groups are not permitted to work on t...</td>\n",
              "      <td>en</td>\n",
              "      <td>English</td>\n",
              "      <td>2</td>\n",
              "    </tr>\n",
              "    <tr>\n",
              "      <th>2</th>\n",
              "      <td>3931fbe82a</td>\n",
              "      <td>Des petites choses comme celles-là font une di...</td>\n",
              "      <td>J'essayais d'accomplir quelque chose.</td>\n",
              "      <td>fr</td>\n",
              "      <td>French</td>\n",
              "      <td>0</td>\n",
              "    </tr>\n",
              "    <tr>\n",
              "      <th>3</th>\n",
              "      <td>5622f0c60b</td>\n",
              "      <td>you know they can't really defend themselves l...</td>\n",
              "      <td>They can't defend themselves because of their ...</td>\n",
              "      <td>en</td>\n",
              "      <td>English</td>\n",
              "      <td>0</td>\n",
              "    </tr>\n",
              "    <tr>\n",
              "      <th>4</th>\n",
              "      <td>86aaa48b45</td>\n",
              "      <td>ในการเล่นบทบาทสมมุติก็เช่นกัน โอกาสที่จะได้แสด...</td>\n",
              "      <td>เด็กสามารถเห็นได้ว่าชาติพันธุ์แตกต่างกันอย่างไร</td>\n",
              "      <td>th</td>\n",
              "      <td>Thai</td>\n",
              "      <td>1</td>\n",
              "    </tr>\n",
              "  </tbody>\n",
              "</table>\n",
              "</div>"
            ],
            "text/plain": [
              "           id                                            premise  \\\n",
              "0  5130fd2cb5  and these comments were considered in formulat...   \n",
              "1  5b72532a0b  These are issues that we wrestle with in pract...   \n",
              "2  3931fbe82a  Des petites choses comme celles-là font une di...   \n",
              "3  5622f0c60b  you know they can't really defend themselves l...   \n",
              "4  86aaa48b45  ในการเล่นบทบาทสมมุติก็เช่นกัน โอกาสที่จะได้แสด...   \n",
              "\n",
              "                                          hypothesis lang_abv language  label  \n",
              "0  The rules developed in the interim were put to...       en  English      0  \n",
              "1  Practice groups are not permitted to work on t...       en  English      2  \n",
              "2              J'essayais d'accomplir quelque chose.       fr   French      0  \n",
              "3  They can't defend themselves because of their ...       en  English      0  \n",
              "4    เด็กสามารถเห็นได้ว่าชาติพันธุ์แตกต่างกันอย่างไร       th     Thai      1  "
            ]
          },
          "execution_count": 4,
          "metadata": {},
          "output_type": "execute_result"
        }
      ]
    },
    {
      "cell_type": "code",
      "metadata": {
        "execution": {
          "iopub.execute_input": "2021-11-27T00:16:45.071532Z",
          "iopub.status.busy": "2021-11-27T00:16:45.071009Z",
          "iopub.status.idle": "2021-11-27T00:16:45.075879Z",
          "shell.execute_reply": "2021-11-27T00:16:45.076250Z",
          "shell.execute_reply.started": "2021-11-26T23:45:57.524976Z"
        },
        "id": "13c23b86",
        "papermill": {
          "duration": 0.033273,
          "end_time": "2021-11-27T00:16:45.076377",
          "exception": false,
          "start_time": "2021-11-27T00:16:45.043104",
          "status": "completed"
        },
        "tags": [],
        "outputId": "2c6abee6-38e2-4795-f00e-7c6381263a19"
      },
      "source": [
        "# Checking the data types for each column\n",
        "train_df.dtypes"
      ],
      "id": "13c23b86",
      "execution_count": null,
      "outputs": [
        {
          "data": {
            "text/plain": [
              "id            object\n",
              "premise       object\n",
              "hypothesis    object\n",
              "lang_abv      object\n",
              "language      object\n",
              "label          int64\n",
              "dtype: object"
            ]
          },
          "execution_count": 5,
          "metadata": {},
          "output_type": "execute_result"
        }
      ]
    },
    {
      "cell_type": "code",
      "metadata": {
        "execution": {
          "iopub.execute_input": "2021-11-27T00:16:45.132925Z",
          "iopub.status.busy": "2021-11-27T00:16:45.132128Z",
          "iopub.status.idle": "2021-11-27T00:16:45.137622Z",
          "shell.execute_reply": "2021-11-27T00:16:45.138033Z",
          "shell.execute_reply.started": "2021-11-26T23:46:00.085432Z"
        },
        "id": "5bc21502",
        "papermill": {
          "duration": 0.038448,
          "end_time": "2021-11-27T00:16:45.138162",
          "exception": false,
          "start_time": "2021-11-27T00:16:45.099714",
          "status": "completed"
        },
        "tags": [],
        "outputId": "e7a0a617-378d-41ed-b081-b35bb37b6b46"
      },
      "source": [
        "# Checking for null values\n",
        "print(train_df.isnull().sum())"
      ],
      "id": "5bc21502",
      "execution_count": null,
      "outputs": [
        {
          "name": "stdout",
          "output_type": "stream",
          "text": [
            "id            0\n",
            "premise       0\n",
            "hypothesis    0\n",
            "lang_abv      0\n",
            "language      0\n",
            "label         0\n",
            "dtype: int64\n"
          ]
        }
      ]
    },
    {
      "cell_type": "markdown",
      "metadata": {
        "id": "AAE3MnIGXmo1"
      },
      "source": [
        "# Loading Test Data"
      ],
      "id": "AAE3MnIGXmo1"
    },
    {
      "cell_type": "code",
      "metadata": {
        "execution": {
          "iopub.execute_input": "2021-11-27T00:16:45.189963Z",
          "iopub.status.busy": "2021-11-27T00:16:45.189358Z",
          "iopub.status.idle": "2021-11-27T00:16:45.270398Z",
          "shell.execute_reply": "2021-11-27T00:16:45.270863Z",
          "shell.execute_reply.started": "2021-11-26T23:46:02.996532Z"
        },
        "id": "a41d685f",
        "papermill": {
          "duration": 0.108304,
          "end_time": "2021-11-27T00:16:45.271008",
          "exception": false,
          "start_time": "2021-11-27T00:16:45.162704",
          "status": "completed"
        },
        "tags": [],
        "outputId": "221dd082-9503-4fa1-e14d-6b6e70216a13"
      },
      "source": [
        "test_df=pd.read_csv(\"../input/contradictory-my-dear-watson/test.csv\")\n",
        "print('Number of rows and columns in test set:', test_df.shape)\n",
        "test_df.head(5)"
      ],
      "id": "a41d685f",
      "execution_count": null,
      "outputs": [
        {
          "name": "stdout",
          "output_type": "stream",
          "text": [
            "Number of rows and columns in test set: (5195, 5)\n"
          ]
        },
        {
          "data": {
            "text/html": [
              "<div>\n",
              "<style scoped>\n",
              "    .dataframe tbody tr th:only-of-type {\n",
              "        vertical-align: middle;\n",
              "    }\n",
              "\n",
              "    .dataframe tbody tr th {\n",
              "        vertical-align: top;\n",
              "    }\n",
              "\n",
              "    .dataframe thead th {\n",
              "        text-align: right;\n",
              "    }\n",
              "</style>\n",
              "<table border=\"1\" class=\"dataframe\">\n",
              "  <thead>\n",
              "    <tr style=\"text-align: right;\">\n",
              "      <th></th>\n",
              "      <th>id</th>\n",
              "      <th>premise</th>\n",
              "      <th>hypothesis</th>\n",
              "      <th>lang_abv</th>\n",
              "      <th>language</th>\n",
              "    </tr>\n",
              "  </thead>\n",
              "  <tbody>\n",
              "    <tr>\n",
              "      <th>0</th>\n",
              "      <td>c6d58c3f69</td>\n",
              "      <td>بکس، کیسی، راہیل، یسعیاہ، کیلی، کیلی، اور کولم...</td>\n",
              "      <td>کیسی کے لئے کوئی یادگار نہیں ہوگا, کولمین ہائی...</td>\n",
              "      <td>ur</td>\n",
              "      <td>Urdu</td>\n",
              "    </tr>\n",
              "    <tr>\n",
              "      <th>1</th>\n",
              "      <td>cefcc82292</td>\n",
              "      <td>هذا هو ما تم نصحنا به.</td>\n",
              "      <td>عندما يتم إخبارهم بما يجب عليهم فعله ، فشلت ال...</td>\n",
              "      <td>ar</td>\n",
              "      <td>Arabic</td>\n",
              "    </tr>\n",
              "    <tr>\n",
              "      <th>2</th>\n",
              "      <td>e98005252c</td>\n",
              "      <td>et cela est en grande partie dû au fait que le...</td>\n",
              "      <td>Les mères se droguent.</td>\n",
              "      <td>fr</td>\n",
              "      <td>French</td>\n",
              "    </tr>\n",
              "    <tr>\n",
              "      <th>3</th>\n",
              "      <td>58518c10ba</td>\n",
              "      <td>与城市及其他公民及社区组织代表就IMA的艺术发展进行对话&amp;amp</td>\n",
              "      <td>IMA与其他组织合作，因为它们都依靠共享资金。</td>\n",
              "      <td>zh</td>\n",
              "      <td>Chinese</td>\n",
              "    </tr>\n",
              "    <tr>\n",
              "      <th>4</th>\n",
              "      <td>c32b0d16df</td>\n",
              "      <td>Она все еще была там.</td>\n",
              "      <td>Мы думали, что она ушла, однако, она осталась.</td>\n",
              "      <td>ru</td>\n",
              "      <td>Russian</td>\n",
              "    </tr>\n",
              "  </tbody>\n",
              "</table>\n",
              "</div>"
            ],
            "text/plain": [
              "           id                                            premise  \\\n",
              "0  c6d58c3f69  بکس، کیسی، راہیل، یسعیاہ، کیلی، کیلی، اور کولم...   \n",
              "1  cefcc82292                             هذا هو ما تم نصحنا به.   \n",
              "2  e98005252c  et cela est en grande partie dû au fait que le...   \n",
              "3  58518c10ba                   与城市及其他公民及社区组织代表就IMA的艺术发展进行对话&amp   \n",
              "4  c32b0d16df                              Она все еще была там.   \n",
              "\n",
              "                                          hypothesis lang_abv language  \n",
              "0  کیسی کے لئے کوئی یادگار نہیں ہوگا, کولمین ہائی...       ur     Urdu  \n",
              "1  عندما يتم إخبارهم بما يجب عليهم فعله ، فشلت ال...       ar   Arabic  \n",
              "2                             Les mères se droguent.       fr   French  \n",
              "3                            IMA与其他组织合作，因为它们都依靠共享资金。       zh  Chinese  \n",
              "4     Мы думали, что она ушла, однако, она осталась.       ru  Russian  "
            ]
          },
          "execution_count": 7,
          "metadata": {},
          "output_type": "execute_result"
        }
      ]
    },
    {
      "cell_type": "code",
      "metadata": {
        "execution": {
          "iopub.execute_input": "2021-11-27T00:16:45.327881Z",
          "iopub.status.busy": "2021-11-27T00:16:45.322772Z",
          "iopub.status.idle": "2021-11-27T00:16:45.332314Z",
          "shell.execute_reply": "2021-11-27T00:16:45.332952Z",
          "shell.execute_reply.started": "2021-11-26T23:46:05.819618Z"
        },
        "id": "a221eecb",
        "papermill": {
          "duration": 0.036985,
          "end_time": "2021-11-27T00:16:45.333119",
          "exception": false,
          "start_time": "2021-11-27T00:16:45.296134",
          "status": "completed"
        },
        "tags": [],
        "outputId": "7312db7b-9ab8-4aaf-e958-7f85eef69446"
      },
      "source": [
        "# Checking for null values in test set\n",
        "print(test_df.isnull().sum())"
      ],
      "id": "a221eecb",
      "execution_count": null,
      "outputs": [
        {
          "name": "stdout",
          "output_type": "stream",
          "text": [
            "id            0\n",
            "premise       0\n",
            "hypothesis    0\n",
            "lang_abv      0\n",
            "language      0\n",
            "dtype: int64\n"
          ]
        }
      ]
    },
    {
      "cell_type": "markdown",
      "metadata": {
        "id": "kdUGuB83Xo8X"
      },
      "source": [
        "# Loading sammple submission file"
      ],
      "id": "kdUGuB83Xo8X"
    },
    {
      "cell_type": "code",
      "metadata": {
        "execution": {
          "iopub.execute_input": "2021-11-27T00:16:45.387937Z",
          "iopub.status.busy": "2021-11-27T00:16:45.387313Z",
          "iopub.status.idle": "2021-11-27T00:16:45.411442Z",
          "shell.execute_reply": "2021-11-27T00:16:45.411974Z",
          "shell.execute_reply.started": "2021-11-26T23:46:08.734988Z"
        },
        "id": "a9e3eb52",
        "papermill": {
          "duration": 0.053318,
          "end_time": "2021-11-27T00:16:45.412100",
          "exception": false,
          "start_time": "2021-11-27T00:16:45.358782",
          "status": "completed"
        },
        "tags": [],
        "outputId": "5e0cfae6-d4e7-45fb-9364-ba1dcced71e5"
      },
      "source": [
        "sample_sub_df=pd.read_csv(\"../input/contradictory-my-dear-watson/sample_submission.csv\")\n",
        "print('Number of rows and columns in sample set:', sample_sub_df.shape)\n",
        "sample_sub_df.head(5)"
      ],
      "id": "a9e3eb52",
      "execution_count": null,
      "outputs": [
        {
          "name": "stdout",
          "output_type": "stream",
          "text": [
            "Number of rows and columns in sample set: (5195, 2)\n"
          ]
        },
        {
          "data": {
            "text/html": [
              "<div>\n",
              "<style scoped>\n",
              "    .dataframe tbody tr th:only-of-type {\n",
              "        vertical-align: middle;\n",
              "    }\n",
              "\n",
              "    .dataframe tbody tr th {\n",
              "        vertical-align: top;\n",
              "    }\n",
              "\n",
              "    .dataframe thead th {\n",
              "        text-align: right;\n",
              "    }\n",
              "</style>\n",
              "<table border=\"1\" class=\"dataframe\">\n",
              "  <thead>\n",
              "    <tr style=\"text-align: right;\">\n",
              "      <th></th>\n",
              "      <th>id</th>\n",
              "      <th>prediction</th>\n",
              "    </tr>\n",
              "  </thead>\n",
              "  <tbody>\n",
              "    <tr>\n",
              "      <th>0</th>\n",
              "      <td>c6d58c3f69</td>\n",
              "      <td>1</td>\n",
              "    </tr>\n",
              "    <tr>\n",
              "      <th>1</th>\n",
              "      <td>cefcc82292</td>\n",
              "      <td>1</td>\n",
              "    </tr>\n",
              "    <tr>\n",
              "      <th>2</th>\n",
              "      <td>e98005252c</td>\n",
              "      <td>1</td>\n",
              "    </tr>\n",
              "    <tr>\n",
              "      <th>3</th>\n",
              "      <td>58518c10ba</td>\n",
              "      <td>1</td>\n",
              "    </tr>\n",
              "    <tr>\n",
              "      <th>4</th>\n",
              "      <td>c32b0d16df</td>\n",
              "      <td>1</td>\n",
              "    </tr>\n",
              "  </tbody>\n",
              "</table>\n",
              "</div>"
            ],
            "text/plain": [
              "           id  prediction\n",
              "0  c6d58c3f69           1\n",
              "1  cefcc82292           1\n",
              "2  e98005252c           1\n",
              "3  58518c10ba           1\n",
              "4  c32b0d16df           1"
            ]
          },
          "execution_count": 9,
          "metadata": {},
          "output_type": "execute_result"
        }
      ]
    },
    {
      "cell_type": "markdown",
      "metadata": {
        "id": "tQ_fIP_VX6Iv"
      },
      "source": [
        "# Filtering the columns needed for sentence -pair classifier model"
      ],
      "id": "tQ_fIP_VX6Iv"
    },
    {
      "cell_type": "code",
      "metadata": {
        "execution": {
          "iopub.execute_input": "2021-11-27T00:16:45.469407Z",
          "iopub.status.busy": "2021-11-27T00:16:45.468685Z",
          "iopub.status.idle": "2021-11-27T00:16:45.480556Z",
          "shell.execute_reply": "2021-11-27T00:16:45.480066Z",
          "shell.execute_reply.started": "2021-11-26T23:46:11.488863Z"
        },
        "id": "273894af",
        "papermill": {
          "duration": 0.042647,
          "end_time": "2021-11-27T00:16:45.480686",
          "exception": false,
          "start_time": "2021-11-27T00:16:45.438039",
          "status": "completed"
        },
        "tags": [],
        "outputId": "0283a955-24ff-4e28-ce98-a97b672ff7e6"
      },
      "source": [
        "train_final = train_df.filter(['premise','hypothesis','label'], axis=1)\n",
        "train_final.head(5)"
      ],
      "id": "273894af",
      "execution_count": null,
      "outputs": [
        {
          "data": {
            "text/html": [
              "<div>\n",
              "<style scoped>\n",
              "    .dataframe tbody tr th:only-of-type {\n",
              "        vertical-align: middle;\n",
              "    }\n",
              "\n",
              "    .dataframe tbody tr th {\n",
              "        vertical-align: top;\n",
              "    }\n",
              "\n",
              "    .dataframe thead th {\n",
              "        text-align: right;\n",
              "    }\n",
              "</style>\n",
              "<table border=\"1\" class=\"dataframe\">\n",
              "  <thead>\n",
              "    <tr style=\"text-align: right;\">\n",
              "      <th></th>\n",
              "      <th>premise</th>\n",
              "      <th>hypothesis</th>\n",
              "      <th>label</th>\n",
              "    </tr>\n",
              "  </thead>\n",
              "  <tbody>\n",
              "    <tr>\n",
              "      <th>0</th>\n",
              "      <td>and these comments were considered in formulat...</td>\n",
              "      <td>The rules developed in the interim were put to...</td>\n",
              "      <td>0</td>\n",
              "    </tr>\n",
              "    <tr>\n",
              "      <th>1</th>\n",
              "      <td>These are issues that we wrestle with in pract...</td>\n",
              "      <td>Practice groups are not permitted to work on t...</td>\n",
              "      <td>2</td>\n",
              "    </tr>\n",
              "    <tr>\n",
              "      <th>2</th>\n",
              "      <td>Des petites choses comme celles-là font une di...</td>\n",
              "      <td>J'essayais d'accomplir quelque chose.</td>\n",
              "      <td>0</td>\n",
              "    </tr>\n",
              "    <tr>\n",
              "      <th>3</th>\n",
              "      <td>you know they can't really defend themselves l...</td>\n",
              "      <td>They can't defend themselves because of their ...</td>\n",
              "      <td>0</td>\n",
              "    </tr>\n",
              "    <tr>\n",
              "      <th>4</th>\n",
              "      <td>ในการเล่นบทบาทสมมุติก็เช่นกัน โอกาสที่จะได้แสด...</td>\n",
              "      <td>เด็กสามารถเห็นได้ว่าชาติพันธุ์แตกต่างกันอย่างไร</td>\n",
              "      <td>1</td>\n",
              "    </tr>\n",
              "  </tbody>\n",
              "</table>\n",
              "</div>"
            ],
            "text/plain": [
              "                                             premise  \\\n",
              "0  and these comments were considered in formulat...   \n",
              "1  These are issues that we wrestle with in pract...   \n",
              "2  Des petites choses comme celles-là font une di...   \n",
              "3  you know they can't really defend themselves l...   \n",
              "4  ในการเล่นบทบาทสมมุติก็เช่นกัน โอกาสที่จะได้แสด...   \n",
              "\n",
              "                                          hypothesis  label  \n",
              "0  The rules developed in the interim were put to...      0  \n",
              "1  Practice groups are not permitted to work on t...      2  \n",
              "2              J'essayais d'accomplir quelque chose.      0  \n",
              "3  They can't defend themselves because of their ...      0  \n",
              "4    เด็กสามารถเห็นได้ว่าชาติพันธุ์แตกต่างกันอย่างไร      1  "
            ]
          },
          "execution_count": 10,
          "metadata": {},
          "output_type": "execute_result"
        }
      ]
    },
    {
      "cell_type": "markdown",
      "metadata": {
        "id": "PgZLMxcqXy0H"
      },
      "source": [
        "# Renaming columns as needed by simpletransformer library"
      ],
      "id": "PgZLMxcqXy0H"
    },
    {
      "cell_type": "code",
      "metadata": {
        "execution": {
          "iopub.execute_input": "2021-11-27T00:16:45.537624Z",
          "iopub.status.busy": "2021-11-27T00:16:45.536818Z",
          "iopub.status.idle": "2021-11-27T00:16:45.538883Z",
          "shell.execute_reply": "2021-11-27T00:16:45.539270Z",
          "shell.execute_reply.started": "2021-11-26T23:46:14.007271Z"
        },
        "id": "2c4a2239",
        "papermill": {
          "duration": 0.032524,
          "end_time": "2021-11-27T00:16:45.539408",
          "exception": false,
          "start_time": "2021-11-27T00:16:45.506884",
          "status": "completed"
        },
        "tags": []
      },
      "source": [
        "train_final.rename(columns={\"premise\": \"text_a\", \"hypothesis\": \"text_b\",\"label\":\"labels\"}, inplace=True)"
      ],
      "id": "2c4a2239",
      "execution_count": null,
      "outputs": []
    },
    {
      "cell_type": "code",
      "metadata": {
        "execution": {
          "iopub.execute_input": "2021-11-27T00:16:45.598603Z",
          "iopub.status.busy": "2021-11-27T00:16:45.598070Z",
          "iopub.status.idle": "2021-11-27T00:16:45.603524Z",
          "shell.execute_reply": "2021-11-27T00:16:45.603072Z",
          "shell.execute_reply.started": "2021-11-26T23:46:16.521027Z"
        },
        "id": "ae45a85d",
        "papermill": {
          "duration": 0.037819,
          "end_time": "2021-11-27T00:16:45.603638",
          "exception": false,
          "start_time": "2021-11-27T00:16:45.565819",
          "status": "completed"
        },
        "tags": [],
        "outputId": "213984be-d4c3-4af8-d36f-8864e8771795"
      },
      "source": [
        "train_final.head(4)\n",
        "#train_final.shape"
      ],
      "id": "ae45a85d",
      "execution_count": null,
      "outputs": [
        {
          "data": {
            "text/html": [
              "<div>\n",
              "<style scoped>\n",
              "    .dataframe tbody tr th:only-of-type {\n",
              "        vertical-align: middle;\n",
              "    }\n",
              "\n",
              "    .dataframe tbody tr th {\n",
              "        vertical-align: top;\n",
              "    }\n",
              "\n",
              "    .dataframe thead th {\n",
              "        text-align: right;\n",
              "    }\n",
              "</style>\n",
              "<table border=\"1\" class=\"dataframe\">\n",
              "  <thead>\n",
              "    <tr style=\"text-align: right;\">\n",
              "      <th></th>\n",
              "      <th>text_a</th>\n",
              "      <th>text_b</th>\n",
              "      <th>labels</th>\n",
              "    </tr>\n",
              "  </thead>\n",
              "  <tbody>\n",
              "    <tr>\n",
              "      <th>0</th>\n",
              "      <td>and these comments were considered in formulat...</td>\n",
              "      <td>The rules developed in the interim were put to...</td>\n",
              "      <td>0</td>\n",
              "    </tr>\n",
              "    <tr>\n",
              "      <th>1</th>\n",
              "      <td>These are issues that we wrestle with in pract...</td>\n",
              "      <td>Practice groups are not permitted to work on t...</td>\n",
              "      <td>2</td>\n",
              "    </tr>\n",
              "    <tr>\n",
              "      <th>2</th>\n",
              "      <td>Des petites choses comme celles-là font une di...</td>\n",
              "      <td>J'essayais d'accomplir quelque chose.</td>\n",
              "      <td>0</td>\n",
              "    </tr>\n",
              "    <tr>\n",
              "      <th>3</th>\n",
              "      <td>you know they can't really defend themselves l...</td>\n",
              "      <td>They can't defend themselves because of their ...</td>\n",
              "      <td>0</td>\n",
              "    </tr>\n",
              "  </tbody>\n",
              "</table>\n",
              "</div>"
            ],
            "text/plain": [
              "                                              text_a  \\\n",
              "0  and these comments were considered in formulat...   \n",
              "1  These are issues that we wrestle with in pract...   \n",
              "2  Des petites choses comme celles-là font une di...   \n",
              "3  you know they can't really defend themselves l...   \n",
              "\n",
              "                                              text_b  labels  \n",
              "0  The rules developed in the interim were put to...       0  \n",
              "1  Practice groups are not permitted to work on t...       2  \n",
              "2              J'essayais d'accomplir quelque chose.       0  \n",
              "3  They can't defend themselves because of their ...       0  "
            ]
          },
          "execution_count": 12,
          "metadata": {},
          "output_type": "execute_result"
        }
      ]
    },
    {
      "cell_type": "markdown",
      "metadata": {
        "id": "U6tckpCAYAi3"
      },
      "source": [
        "# Splitting train data in train set and validation set"
      ],
      "id": "U6tckpCAYAi3"
    },
    {
      "cell_type": "code",
      "metadata": {
        "execution": {
          "iopub.execute_input": "2021-11-27T00:16:45.660373Z",
          "iopub.status.busy": "2021-11-27T00:16:45.659826Z",
          "iopub.status.idle": "2021-11-27T00:16:45.733832Z",
          "shell.execute_reply": "2021-11-27T00:16:45.733365Z",
          "shell.execute_reply.started": "2021-11-26T23:46:20.011420Z"
        },
        "id": "c97bb81a",
        "papermill": {
          "duration": 0.103739,
          "end_time": "2021-11-27T00:16:45.733949",
          "exception": false,
          "start_time": "2021-11-27T00:16:45.630210",
          "status": "completed"
        },
        "tags": []
      },
      "source": [
        "from sklearn.model_selection import train_test_split\n",
        "\n",
        "\n",
        "train_set, val_set = train_test_split(train_final, test_size=0.2,  random_state=143,stratify=train_final['labels'] )"
      ],
      "id": "c97bb81a",
      "execution_count": null,
      "outputs": []
    },
    {
      "cell_type": "code",
      "metadata": {
        "execution": {
          "iopub.execute_input": "2021-11-27T00:16:45.791575Z",
          "iopub.status.busy": "2021-11-27T00:16:45.790848Z",
          "iopub.status.idle": "2021-11-27T00:16:45.793972Z",
          "shell.execute_reply": "2021-11-27T00:16:45.794682Z",
          "shell.execute_reply.started": "2021-11-26T23:46:22.993457Z"
        },
        "id": "69c253ec",
        "papermill": {
          "duration": 0.034566,
          "end_time": "2021-11-27T00:16:45.794850",
          "exception": false,
          "start_time": "2021-11-27T00:16:45.760284",
          "status": "completed"
        },
        "tags": [],
        "outputId": "bc89c53f-4882-40df-b992-47fcd879e441"
      },
      "source": [
        "print(\"The size of train set is \", train_set.shape)\n",
        "print(\"The size of validation set is\", val_set.shape)\n",
        "#print(\"The size of test set is\", test_set.shape)"
      ],
      "id": "69c253ec",
      "execution_count": null,
      "outputs": [
        {
          "name": "stdout",
          "output_type": "stream",
          "text": [
            "The size of train set is  (9696, 3)\n",
            "The size of validation set is (2424, 3)\n"
          ]
        }
      ]
    },
    {
      "cell_type": "code",
      "metadata": {
        "execution": {
          "iopub.execute_input": "2021-11-27T00:16:45.859438Z",
          "iopub.status.busy": "2021-11-27T00:16:45.858936Z",
          "iopub.status.idle": "2021-11-27T00:16:45.862299Z",
          "shell.execute_reply": "2021-11-27T00:16:45.862751Z",
          "shell.execute_reply.started": "2021-11-26T23:46:25.697443Z"
        },
        "id": "9b06313a",
        "papermill": {
          "duration": 0.039917,
          "end_time": "2021-11-27T00:16:45.862877",
          "exception": false,
          "start_time": "2021-11-27T00:16:45.822960",
          "status": "completed"
        },
        "tags": [],
        "outputId": "922213b8-04b0-4d9b-e1aa-7645badfae7c"
      },
      "source": [
        "train_set.head(2)"
      ],
      "id": "9b06313a",
      "execution_count": null,
      "outputs": [
        {
          "data": {
            "text/html": [
              "<div>\n",
              "<style scoped>\n",
              "    .dataframe tbody tr th:only-of-type {\n",
              "        vertical-align: middle;\n",
              "    }\n",
              "\n",
              "    .dataframe tbody tr th {\n",
              "        vertical-align: top;\n",
              "    }\n",
              "\n",
              "    .dataframe thead th {\n",
              "        text-align: right;\n",
              "    }\n",
              "</style>\n",
              "<table border=\"1\" class=\"dataframe\">\n",
              "  <thead>\n",
              "    <tr style=\"text-align: right;\">\n",
              "      <th></th>\n",
              "      <th>text_a</th>\n",
              "      <th>text_b</th>\n",
              "      <th>labels</th>\n",
              "    </tr>\n",
              "  </thead>\n",
              "  <tbody>\n",
              "    <tr>\n",
              "      <th>12059</th>\n",
              "      <td>Bao gồm các yếu tố như khung thời gian ngắn, v...</td>\n",
              "      <td>Họ đã xóa các tệp máy tính khỏi IBM.</td>\n",
              "      <td>1</td>\n",
              "    </tr>\n",
              "    <tr>\n",
              "      <th>10893</th>\n",
              "      <td>He was a pilot, not a platoon leader.</td>\n",
              "      <td>He was no platoon leader, but a lowly pilot.</td>\n",
              "      <td>0</td>\n",
              "    </tr>\n",
              "  </tbody>\n",
              "</table>\n",
              "</div>"
            ],
            "text/plain": [
              "                                                  text_a  \\\n",
              "12059  Bao gồm các yếu tố như khung thời gian ngắn, v...   \n",
              "10893              He was a pilot, not a platoon leader.   \n",
              "\n",
              "                                             text_b  labels  \n",
              "12059          Họ đã xóa các tệp máy tính khỏi IBM.       1  \n",
              "10893  He was no platoon leader, but a lowly pilot.       0  "
            ]
          },
          "execution_count": 15,
          "metadata": {},
          "output_type": "execute_result"
        }
      ]
    },
    {
      "cell_type": "code",
      "metadata": {
        "execution": {
          "iopub.execute_input": "2021-11-27T00:16:45.924663Z",
          "iopub.status.busy": "2021-11-27T00:16:45.923968Z",
          "iopub.status.idle": "2021-11-27T00:16:45.926674Z",
          "shell.execute_reply": "2021-11-27T00:16:45.927077Z",
          "shell.execute_reply.started": "2021-11-26T23:46:28.368893Z"
        },
        "id": "e3ce32cc",
        "papermill": {
          "duration": 0.036994,
          "end_time": "2021-11-27T00:16:45.927192",
          "exception": false,
          "start_time": "2021-11-27T00:16:45.890198",
          "status": "completed"
        },
        "tags": [],
        "outputId": "6a281b53-601b-43be-c900-723aeb36e527"
      },
      "source": [
        "val_set.head(2)"
      ],
      "id": "e3ce32cc",
      "execution_count": null,
      "outputs": [
        {
          "data": {
            "text/html": [
              "<div>\n",
              "<style scoped>\n",
              "    .dataframe tbody tr th:only-of-type {\n",
              "        vertical-align: middle;\n",
              "    }\n",
              "\n",
              "    .dataframe tbody tr th {\n",
              "        vertical-align: top;\n",
              "    }\n",
              "\n",
              "    .dataframe thead th {\n",
              "        text-align: right;\n",
              "    }\n",
              "</style>\n",
              "<table border=\"1\" class=\"dataframe\">\n",
              "  <thead>\n",
              "    <tr style=\"text-align: right;\">\n",
              "      <th></th>\n",
              "      <th>text_a</th>\n",
              "      <th>text_b</th>\n",
              "      <th>labels</th>\n",
              "    </tr>\n",
              "  </thead>\n",
              "  <tbody>\n",
              "    <tr>\n",
              "      <th>7886</th>\n",
              "      <td>Welts grew on each of the man's cheeks.</td>\n",
              "      <td>The welts on the man's cheeks were shrinking.</td>\n",
              "      <td>2</td>\n",
              "    </tr>\n",
              "    <tr>\n",
              "      <th>2900</th>\n",
              "      <td>For more than 26 centuries it has witnessed co...</td>\n",
              "      <td>Modernity has made no progress in the historic...</td>\n",
              "      <td>1</td>\n",
              "    </tr>\n",
              "  </tbody>\n",
              "</table>\n",
              "</div>"
            ],
            "text/plain": [
              "                                                 text_a  \\\n",
              "7886            Welts grew on each of the man's cheeks.   \n",
              "2900  For more than 26 centuries it has witnessed co...   \n",
              "\n",
              "                                                 text_b  labels  \n",
              "7886      The welts on the man's cheeks were shrinking.       2  \n",
              "2900  Modernity has made no progress in the historic...       1  "
            ]
          },
          "execution_count": 16,
          "metadata": {},
          "output_type": "execute_result"
        }
      ]
    },
    {
      "cell_type": "markdown",
      "metadata": {
        "id": "n6rEl9cVYICo"
      },
      "source": [
        "# Filtering required column in final test set and renaming columns as required by simpletransformer libary"
      ],
      "id": "n6rEl9cVYICo"
    },
    {
      "cell_type": "code",
      "metadata": {
        "execution": {
          "iopub.execute_input": "2021-11-27T00:16:45.987138Z",
          "iopub.status.busy": "2021-11-27T00:16:45.985959Z",
          "iopub.status.idle": "2021-11-27T00:16:45.989669Z",
          "shell.execute_reply": "2021-11-27T00:16:45.989030Z",
          "shell.execute_reply.started": "2021-11-26T23:46:30.789302Z"
        },
        "id": "59d62c3c",
        "papermill": {
          "duration": 0.034851,
          "end_time": "2021-11-27T00:16:45.989799",
          "exception": false,
          "start_time": "2021-11-27T00:16:45.954948",
          "status": "completed"
        },
        "tags": []
      },
      "source": [
        "final_test_df = test_df[[\"premise\", \"hypothesis\"]]\n",
        "final_test_df.columns = [\"text_a\", \"text_b\"]"
      ],
      "id": "59d62c3c",
      "execution_count": null,
      "outputs": []
    },
    {
      "cell_type": "code",
      "metadata": {
        "execution": {
          "iopub.execute_input": "2021-11-27T00:16:46.051085Z",
          "iopub.status.busy": "2021-11-27T00:16:46.050407Z",
          "iopub.status.idle": "2021-11-27T00:16:46.053832Z",
          "shell.execute_reply": "2021-11-27T00:16:46.054495Z",
          "shell.execute_reply.started": "2021-11-26T23:46:33.068174Z"
        },
        "id": "34d3b3ac",
        "papermill": {
          "duration": 0.036736,
          "end_time": "2021-11-27T00:16:46.054662",
          "exception": false,
          "start_time": "2021-11-27T00:16:46.017926",
          "status": "completed"
        },
        "tags": [],
        "outputId": "ca64d692-35b4-469f-ed80-81e7d1bfeb43"
      },
      "source": [
        "print(\"Final Test Shape:,\",final_test_df.shape)\n",
        "print(\"Final Test dataframe:,\",final_test_df.head(5))"
      ],
      "id": "34d3b3ac",
      "execution_count": null,
      "outputs": [
        {
          "name": "stdout",
          "output_type": "stream",
          "text": [
            "Final Test Shape:, (5195, 2)\n",
            "Final Test dataframe:,                                               text_a  \\\n",
            "0  بکس، کیسی، راہیل، یسعیاہ، کیلی، کیلی، اور کولم...   \n",
            "1                             هذا هو ما تم نصحنا به.   \n",
            "2  et cela est en grande partie dû au fait que le...   \n",
            "3                   与城市及其他公民及社区组织代表就IMA的艺术发展进行对话&amp   \n",
            "4                              Она все еще была там.   \n",
            "\n",
            "                                              text_b  \n",
            "0  کیسی کے لئے کوئی یادگار نہیں ہوگا, کولمین ہائی...  \n",
            "1  عندما يتم إخبارهم بما يجب عليهم فعله ، فشلت ال...  \n",
            "2                             Les mères se droguent.  \n",
            "3                            IMA与其他组织合作，因为它们都依靠共享资金。  \n",
            "4     Мы думали, что она ушла, однако, она осталась.  \n"
          ]
        }
      ]
    },
    {
      "cell_type": "code",
      "metadata": {
        "execution": {
          "iopub.execute_input": "2021-11-27T00:16:46.114430Z",
          "iopub.status.busy": "2021-11-27T00:16:46.113910Z",
          "iopub.status.idle": "2021-11-27T00:16:47.499677Z",
          "shell.execute_reply": "2021-11-27T00:16:47.499161Z",
          "shell.execute_reply.started": "2021-11-26T23:46:36.034444Z"
        },
        "id": "b0103f12",
        "papermill": {
          "duration": 1.41689,
          "end_time": "2021-11-27T00:16:47.499819",
          "exception": false,
          "start_time": "2021-11-27T00:16:46.082929",
          "status": "completed"
        },
        "tags": []
      },
      "source": [
        "import gc\n",
        "import torch"
      ],
      "id": "b0103f12",
      "execution_count": null,
      "outputs": []
    },
    {
      "cell_type": "code",
      "metadata": {
        "execution": {
          "iopub.execute_input": "2021-11-27T00:16:47.709902Z",
          "iopub.status.busy": "2021-11-27T00:16:47.709000Z",
          "iopub.status.idle": "2021-11-27T00:16:47.712068Z",
          "shell.execute_reply": "2021-11-27T00:16:47.711568Z",
          "shell.execute_reply.started": "2021-11-26T23:46:38.238928Z"
        },
        "id": "6926a650",
        "papermill": {
          "duration": 0.184005,
          "end_time": "2021-11-27T00:16:47.712200",
          "exception": false,
          "start_time": "2021-11-27T00:16:47.528195",
          "status": "completed"
        },
        "tags": []
      },
      "source": [
        "gc.collect()\n",
        "torch.cuda.empty_cache()"
      ],
      "id": "6926a650",
      "execution_count": null,
      "outputs": []
    },
    {
      "cell_type": "markdown",
      "metadata": {
        "id": "1lG4wcrBYRaG"
      },
      "source": [
        "# Installing simpletransformer library"
      ],
      "id": "1lG4wcrBYRaG"
    },
    {
      "cell_type": "code",
      "metadata": {
        "execution": {
          "iopub.execute_input": "2021-11-27T00:16:47.790245Z",
          "iopub.status.busy": "2021-11-27T00:16:47.776536Z",
          "iopub.status.idle": "2021-11-27T00:17:12.667824Z",
          "shell.execute_reply": "2021-11-27T00:17:12.667018Z",
          "shell.execute_reply.started": "2021-11-26T23:46:53.067256Z"
        },
        "papermill": {
          "duration": 24.925136,
          "end_time": "2021-11-27T00:17:12.667968",
          "exception": false,
          "start_time": "2021-11-27T00:16:47.742832",
          "status": "completed"
        },
        "tags": [],
        "id": "4a498073",
        "outputId": "ddfc1825-0ead-4897-d338-17fd59d3fd93"
      },
      "source": [
        "# !pip install --upgrade transformers\n",
        "!pip install git+git://github.com/AndLen/simpletransformers.git --quiet"
      ],
      "id": "4a498073",
      "execution_count": null,
      "outputs": [
        {
          "name": "stdout",
          "output_type": "stream",
          "text": [
            "\u001b[31mERROR: pip's dependency resolver does not currently take into account all the packages that are installed. This behaviour is the source of the following dependency conflicts.\r\n",
            "dask-cudf 21.8.3 requires cupy-cuda114, which is not installed.\r\n",
            "distributed 2021.7.1 requires dask==2021.07.1, but you have dask 2021.10.0 which is incompatible.\r\n",
            "dask-cudf 21.8.3 requires dask<=2021.07.1,>=2021.6.0, but you have dask 2021.10.0 which is incompatible.\r\n",
            "dask-cudf 21.8.3 requires pandas<1.3.0dev0,>=1.0, but you have pandas 1.3.4 which is incompatible.\r\n",
            "allennlp 2.7.0 requires transformers<4.10,>=4.1, but you have transformers 4.12.5 which is incompatible.\u001b[0m\r\n",
            "\u001b[33mWARNING: Running pip as the 'root' user can result in broken permissions and conflicting behaviour with the system package manager. It is recommended to use a virtual environment instead: https://pip.pypa.io/warnings/venv\u001b[0m\r\n"
          ]
        }
      ]
    },
    {
      "cell_type": "code",
      "metadata": {
        "execution": {
          "iopub.execute_input": "2021-11-27T00:17:12.729543Z",
          "iopub.status.busy": "2021-11-27T00:17:12.728714Z",
          "iopub.status.idle": "2021-11-27T00:17:12.730938Z",
          "shell.execute_reply": "2021-11-27T00:17:12.730385Z",
          "shell.execute_reply.started": "2021-11-26T23:39:23.468112Z"
        },
        "papermill": {
          "duration": 0.033941,
          "end_time": "2021-11-27T00:17:12.731056",
          "exception": false,
          "start_time": "2021-11-27T00:17:12.697115",
          "status": "completed"
        },
        "tags": [],
        "id": "f6395948"
      },
      "source": [
        "# !pip install simpletransformers"
      ],
      "id": "f6395948",
      "execution_count": null,
      "outputs": []
    },
    {
      "cell_type": "code",
      "metadata": {
        "execution": {
          "iopub.execute_input": "2021-11-27T00:17:12.793914Z",
          "iopub.status.busy": "2021-11-27T00:17:12.790998Z",
          "iopub.status.idle": "2021-11-27T00:17:14.459086Z",
          "shell.execute_reply": "2021-11-27T00:17:14.459716Z",
          "shell.execute_reply.started": "2021-11-26T23:47:36.292470Z"
        },
        "id": "1211a7f9",
        "papermill": {
          "duration": 1.700491,
          "end_time": "2021-11-27T00:17:14.459915",
          "exception": false,
          "start_time": "2021-11-27T00:17:12.759424",
          "status": "completed"
        },
        "tags": []
      },
      "source": [
        "from simpletransformers.classification import (ClassificationModel, ClassificationArgs)"
      ],
      "id": "1211a7f9",
      "execution_count": null,
      "outputs": []
    },
    {
      "cell_type": "code",
      "metadata": {
        "execution": {
          "iopub.execute_input": "2021-11-27T00:17:14.520240Z",
          "iopub.status.busy": "2021-11-27T00:17:14.519416Z",
          "iopub.status.idle": "2021-11-27T00:17:14.524185Z",
          "shell.execute_reply": "2021-11-27T00:17:14.524686Z",
          "shell.execute_reply.started": "2021-11-26T23:47:40.162998Z"
        },
        "id": "7e3936ba",
        "papermill": {
          "duration": 0.036367,
          "end_time": "2021-11-27T00:17:14.524812",
          "exception": false,
          "start_time": "2021-11-27T00:17:14.488445",
          "status": "completed"
        },
        "tags": []
      },
      "source": [
        "RANDOM_STATE = 42"
      ],
      "id": "7e3936ba",
      "execution_count": null,
      "outputs": []
    },
    {
      "cell_type": "markdown",
      "metadata": {
        "id": "nX8Db_InYZUP"
      },
      "source": [
        "# Setting hyperparameters for training the model"
      ],
      "id": "nX8Db_InYZUP"
    },
    {
      "cell_type": "code",
      "metadata": {
        "execution": {
          "iopub.execute_input": "2021-11-27T00:17:14.590178Z",
          "iopub.status.busy": "2021-11-27T00:17:14.589390Z",
          "iopub.status.idle": "2021-11-27T00:17:14.591313Z",
          "shell.execute_reply": "2021-11-27T00:17:14.591724Z",
          "shell.execute_reply.started": "2021-11-26T23:47:44.903434Z"
        },
        "id": "d5c87f31",
        "papermill": {
          "duration": 0.036019,
          "end_time": "2021-11-27T00:17:14.591851",
          "exception": false,
          "start_time": "2021-11-27T00:17:14.555832",
          "status": "completed"
        },
        "tags": []
      },
      "source": [
        "# Create a ClassificationModel\n",
        "\n",
        "model_args = ClassificationArgs(num_train_epochs=2, \n",
        "                                overwrite_output_dir=True)\n",
        "model_args.manual_seed = RANDOM_STATE\n",
        "\n",
        "model_args.train_batch_size = 16\n",
        "model_args.eval_batch_size = 16\n",
        "\n",
        "model_args.learning_rate = 4e-6\n",
        "\n"
      ],
      "id": "d5c87f31",
      "execution_count": null,
      "outputs": []
    },
    {
      "cell_type": "code",
      "metadata": {
        "execution": {
          "iopub.execute_input": "2021-11-27T00:17:14.652608Z",
          "iopub.status.busy": "2021-11-27T00:17:14.652036Z",
          "iopub.status.idle": "2021-11-27T00:19:44.011633Z",
          "shell.execute_reply": "2021-11-27T00:19:44.012064Z",
          "shell.execute_reply.started": "2021-11-26T23:47:54.270823Z"
        },
        "id": "9010bd93",
        "papermill": {
          "duration": 149.39214,
          "end_time": "2021-11-27T00:19:44.012238",
          "exception": false,
          "start_time": "2021-11-27T00:17:14.620098",
          "status": "completed"
        },
        "tags": [],
        "colab": {
          "referenced_widgets": [
            "c9d64a76b2894ae99ea1e2b4a7884dd7",
            "54e2b88714fb4f1f97c3d75f77d4b22d",
            "314e024aa502422283ecea8c8dfd7ed6",
            "58c193c3993c453e9ebb9dc93723a39c",
            "b21680ec14214cb09c187fba7b033a10"
          ]
        },
        "outputId": "c36858da-4ec7-461c-aca6-87f3de4bcb05"
      },
      "source": [
        "model = ClassificationModel(model_type='xlmroberta', \n",
        "                            model_name='joeddav/xlm-roberta-large-xnli', \n",
        "                            args = model_args, \n",
        "                            num_labels = 3,\n",
        "                           use_cuda = True)"
      ],
      "id": "9010bd93",
      "execution_count": null,
      "outputs": [
        {
          "data": {
            "application/vnd.jupyter.widget-view+json": {
              "model_id": "c9d64a76b2894ae99ea1e2b4a7884dd7",
              "version_major": 2,
              "version_minor": 0
            },
            "text/plain": [
              "Downloading:   0%|          | 0.00/734 [00:00<?, ?B/s]"
            ]
          },
          "metadata": {},
          "output_type": "display_data"
        },
        {
          "data": {
            "application/vnd.jupyter.widget-view+json": {
              "model_id": "54e2b88714fb4f1f97c3d75f77d4b22d",
              "version_major": 2,
              "version_minor": 0
            },
            "text/plain": [
              "Downloading:   0%|          | 0.00/2.09G [00:00<?, ?B/s]"
            ]
          },
          "metadata": {},
          "output_type": "display_data"
        },
        {
          "name": "stderr",
          "output_type": "stream",
          "text": [
            "Some weights of the model checkpoint at joeddav/xlm-roberta-large-xnli were not used when initializing XLMRobertaForSequenceClassification: ['roberta.pooler.dense.bias', 'roberta.pooler.dense.weight']\n",
            "- This IS expected if you are initializing XLMRobertaForSequenceClassification from the checkpoint of a model trained on another task or with another architecture (e.g. initializing a BertForSequenceClassification model from a BertForPreTraining model).\n",
            "- This IS NOT expected if you are initializing XLMRobertaForSequenceClassification from the checkpoint of a model that you expect to be exactly identical (initializing a BertForSequenceClassification model from a BertForSequenceClassification model).\n"
          ]
        },
        {
          "data": {
            "application/vnd.jupyter.widget-view+json": {
              "model_id": "314e024aa502422283ecea8c8dfd7ed6",
              "version_major": 2,
              "version_minor": 0
            },
            "text/plain": [
              "Downloading:   0%|          | 0.00/4.83M [00:00<?, ?B/s]"
            ]
          },
          "metadata": {},
          "output_type": "display_data"
        },
        {
          "data": {
            "application/vnd.jupyter.widget-view+json": {
              "model_id": "58c193c3993c453e9ebb9dc93723a39c",
              "version_major": 2,
              "version_minor": 0
            },
            "text/plain": [
              "Downloading:   0%|          | 0.00/150 [00:00<?, ?B/s]"
            ]
          },
          "metadata": {},
          "output_type": "display_data"
        },
        {
          "data": {
            "application/vnd.jupyter.widget-view+json": {
              "model_id": "b21680ec14214cb09c187fba7b033a10",
              "version_major": 2,
              "version_minor": 0
            },
            "text/plain": [
              "Downloading:   0%|          | 0.00/25.0 [00:00<?, ?B/s]"
            ]
          },
          "metadata": {},
          "output_type": "display_data"
        },
        {
          "name": "stderr",
          "output_type": "stream",
          "text": [
            "/opt/conda/lib/python3.7/site-packages/simpletransformers/classification/classification_model.py:460: UserWarning: use_multiprocessing automatically disabled as xlmroberta fails when using multiprocessing for feature conversion.\n",
            "  f\"use_multiprocessing automatically disabled as {model_type}\"\n"
          ]
        }
      ]
    },
    {
      "cell_type": "markdown",
      "metadata": {
        "id": "-WqNRgyTYfvB"
      },
      "source": [
        "# Training the network"
      ],
      "id": "-WqNRgyTYfvB"
    },
    {
      "cell_type": "code",
      "metadata": {
        "execution": {
          "iopub.execute_input": "2021-11-27T00:19:44.080421Z",
          "iopub.status.busy": "2021-11-27T00:19:44.077993Z",
          "iopub.status.idle": "2021-11-27T00:38:07.869424Z",
          "shell.execute_reply": "2021-11-27T00:38:07.870246Z",
          "shell.execute_reply.started": "2021-11-26T23:51:23.595004Z"
        },
        "id": "637183be",
        "papermill": {
          "duration": 1103.826598,
          "end_time": "2021-11-27T00:38:07.870500",
          "exception": false,
          "start_time": "2021-11-27T00:19:44.043902",
          "status": "completed"
        },
        "tags": [],
        "colab": {
          "referenced_widgets": [
            "348a3858448f4316a53434d1e794024a",
            "4c6f7eef11d84729ab4d50bd2df3846e",
            "0fe8834eb09240c2900ed3ae74bc7d89"
          ]
        },
        "outputId": "05bae9b2-9d30-4b0e-8073-9184b66f63a8"
      },
      "source": [
        "model.train_model(train_set, eval_df=val_set)\n",
        "                  #eval_df=eval_df)"
      ],
      "id": "637183be",
      "execution_count": null,
      "outputs": [
        {
          "data": {
            "application/vnd.jupyter.widget-view+json": {
              "model_id": "348a3858448f4316a53434d1e794024a",
              "version_major": 2,
              "version_minor": 0
            },
            "text/plain": [
              "Epoch:   0%|          | 0/2 [00:00<?, ?it/s]"
            ]
          },
          "metadata": {},
          "output_type": "display_data"
        },
        {
          "data": {
            "application/vnd.jupyter.widget-view+json": {
              "model_id": "4c6f7eef11d84729ab4d50bd2df3846e",
              "version_major": 2,
              "version_minor": 0
            },
            "text/plain": [
              "Running Epoch 0 of 2:   0%|          | 0/606 [00:00<?, ?it/s]"
            ]
          },
          "metadata": {},
          "output_type": "display_data"
        },
        {
          "name": "stderr",
          "output_type": "stream",
          "text": [
            "/opt/conda/lib/python3.7/site-packages/simpletransformers/classification/classification_model.py:922: FutureWarning: Non-finite norm encountered in torch.nn.utils.clip_grad_norm_; continuing anyway. Note that the default behavior will change in a future release to error out if a non-finite total norm is encountered. At that point, setting error_if_nonfinite=false will be required to retain the old behavior.\n",
            "  model.parameters(), args.max_grad_norm\n",
            "/opt/conda/lib/python3.7/site-packages/torch/optim/lr_scheduler.py:134: UserWarning: Detected call of `lr_scheduler.step()` before `optimizer.step()`. In PyTorch 1.1.0 and later, you should call them in the opposite order: `optimizer.step()` before `lr_scheduler.step()`.  Failure to do this will result in PyTorch skipping the first value of the learning rate schedule. See more details at https://pytorch.org/docs/stable/optim.html#how-to-adjust-learning-rate\n",
            "  \"https://pytorch.org/docs/stable/optim.html#how-to-adjust-learning-rate\", UserWarning)\n"
          ]
        },
        {
          "data": {
            "application/vnd.jupyter.widget-view+json": {
              "model_id": "0fe8834eb09240c2900ed3ae74bc7d89",
              "version_major": 2,
              "version_minor": 0
            },
            "text/plain": [
              "Running Epoch 1 of 2:   0%|          | 0/606 [00:00<?, ?it/s]"
            ]
          },
          "metadata": {},
          "output_type": "display_data"
        },
        {
          "data": {
            "text/plain": [
              "(1212, 0.43475202466714696)"
            ]
          },
          "execution_count": 27,
          "metadata": {},
          "output_type": "execute_result"
        }
      ]
    },
    {
      "cell_type": "markdown",
      "metadata": {
        "id": "gSLbfdGdYjJ5"
      },
      "source": [
        "# Evaluating the network"
      ],
      "id": "gSLbfdGdYjJ5"
    },
    {
      "cell_type": "code",
      "metadata": {
        "execution": {
          "iopub.execute_input": "2021-11-27T00:38:10.004748Z",
          "iopub.status.busy": "2021-11-27T00:38:10.003999Z",
          "iopub.status.idle": "2021-11-27T00:38:51.476330Z",
          "shell.execute_reply": "2021-11-27T00:38:51.475893Z",
          "shell.execute_reply.started": "2021-11-27T00:09:54.548838Z"
        },
        "id": "f4642715",
        "papermill": {
          "duration": 43.509543,
          "end_time": "2021-11-27T00:38:51.476455",
          "exception": false,
          "start_time": "2021-11-27T00:38:07.966912",
          "status": "completed"
        },
        "tags": [],
        "colab": {
          "referenced_widgets": [
            "fe57ef729e594a3199f441341ba20794",
            "cd2212c40cb9436da3020af07e8b4936"
          ]
        },
        "outputId": "098e23d1-2688-4dc2-a1dc-fe2473897af4"
      },
      "source": [
        "result, model_outputs, wrong_predictions = model.eval_model(val_set, \n",
        "                                                            acc=sklearn.metrics.accuracy_score)"
      ],
      "id": "f4642715",
      "execution_count": null,
      "outputs": [
        {
          "name": "stdout",
          "output_type": "stream",
          "text": [
            "huggingface/tokenizers: The current process just got forked, after parallelism has already been used. Disabling parallelism to avoid deadlocks...\n",
            "To disable this warning, you can either:\n",
            "\t- Avoid using `tokenizers` before the fork if possible\n",
            "\t- Explicitly set the environment variable TOKENIZERS_PARALLELISM=(true | false)\n"
          ]
        },
        {
          "data": {
            "application/vnd.jupyter.widget-view+json": {
              "model_id": "fe57ef729e594a3199f441341ba20794",
              "version_major": 2,
              "version_minor": 0
            },
            "text/plain": [
              "  0%|          | 0/2424 [00:00<?, ?it/s]"
            ]
          },
          "metadata": {},
          "output_type": "display_data"
        },
        {
          "data": {
            "application/vnd.jupyter.widget-view+json": {
              "model_id": "cd2212c40cb9436da3020af07e8b4936",
              "version_major": 2,
              "version_minor": 0
            },
            "text/plain": [
              "Running Evaluation:   0%|          | 0/152 [00:00<?, ?it/s]"
            ]
          },
          "metadata": {},
          "output_type": "display_data"
        }
      ]
    },
    {
      "cell_type": "markdown",
      "metadata": {
        "id": "yePxLELMYmlD"
      },
      "source": [
        "Evaluation Results"
      ],
      "id": "yePxLELMYmlD"
    },
    {
      "cell_type": "code",
      "metadata": {
        "execution": {
          "iopub.execute_input": "2021-11-27T00:38:51.550653Z",
          "iopub.status.busy": "2021-11-27T00:38:51.549970Z",
          "iopub.status.idle": "2021-11-27T00:38:51.552681Z",
          "shell.execute_reply": "2021-11-27T00:38:51.553132Z",
          "shell.execute_reply.started": "2021-11-27T00:11:11.954929Z"
        },
        "id": "9e66be36",
        "papermill": {
          "duration": 0.041748,
          "end_time": "2021-11-27T00:38:51.553266",
          "exception": false,
          "start_time": "2021-11-27T00:38:51.511518",
          "status": "completed"
        },
        "tags": [],
        "outputId": "d665cace-93ed-42dd-fe3e-d054b7d7baad"
      },
      "source": [
        "result"
      ],
      "id": "9e66be36",
      "execution_count": null,
      "outputs": [
        {
          "data": {
            "text/plain": [
              "{'mcc': 0.8911343212967531,\n",
              " 'acc': 0.9273927392739274,\n",
              " 'eval_loss': 0.3072476222326881}"
            ]
          },
          "execution_count": 29,
          "metadata": {},
          "output_type": "execute_result"
        }
      ]
    },
    {
      "cell_type": "markdown",
      "metadata": {
        "id": "PnkX1roSYpH2"
      },
      "source": [
        "# Predicting the labels for final test set"
      ],
      "id": "PnkX1roSYpH2"
    },
    {
      "cell_type": "code",
      "metadata": {
        "execution": {
          "iopub.execute_input": "2021-11-27T00:38:51.635049Z",
          "iopub.status.busy": "2021-11-27T00:38:51.634143Z",
          "iopub.status.idle": "2021-11-27T00:38:51.636332Z",
          "shell.execute_reply": "2021-11-27T00:38:51.636747Z",
          "shell.execute_reply.started": "2021-11-27T00:11:18.693058Z"
        },
        "id": "bcccb0c0",
        "papermill": {
          "duration": 0.049771,
          "end_time": "2021-11-27T00:38:51.636875",
          "exception": false,
          "start_time": "2021-11-27T00:38:51.587104",
          "status": "completed"
        },
        "tags": []
      },
      "source": [
        "final_pred_texts = []\n",
        "for row in final_test_df.itertuples(index = False):\n",
        "    final_pred_texts.append(list(row))"
      ],
      "id": "bcccb0c0",
      "execution_count": null,
      "outputs": []
    },
    {
      "cell_type": "code",
      "metadata": {
        "execution": {
          "iopub.execute_input": "2021-11-27T00:38:51.708646Z",
          "iopub.status.busy": "2021-11-27T00:38:51.707604Z",
          "iopub.status.idle": "2021-11-27T00:40:19.154646Z",
          "shell.execute_reply": "2021-11-27T00:40:19.154041Z",
          "shell.execute_reply.started": "2021-11-27T00:11:23.849377Z"
        },
        "id": "aa208bc4",
        "papermill": {
          "duration": 87.484311,
          "end_time": "2021-11-27T00:40:19.154851",
          "exception": false,
          "start_time": "2021-11-27T00:38:51.670540",
          "status": "completed"
        },
        "tags": [],
        "colab": {
          "referenced_widgets": [
            "9841987fb91c4df699827bfc16d8c350",
            "ef7a33c1195645b3bd096634290a2afa"
          ]
        },
        "outputId": "51435b6f-4d2c-4bdc-b942-b78b8cb3260a"
      },
      "source": [
        "predictions, raw_outputs = model.predict(final_pred_texts)"
      ],
      "id": "aa208bc4",
      "execution_count": null,
      "outputs": [
        {
          "name": "stdout",
          "output_type": "stream",
          "text": [
            "huggingface/tokenizers: The current process just got forked, after parallelism has already been used. Disabling parallelism to avoid deadlocks...\n",
            "To disable this warning, you can either:\n",
            "\t- Avoid using `tokenizers` before the fork if possible\n",
            "\t- Explicitly set the environment variable TOKENIZERS_PARALLELISM=(true | false)\n"
          ]
        },
        {
          "data": {
            "application/vnd.jupyter.widget-view+json": {
              "model_id": "9841987fb91c4df699827bfc16d8c350",
              "version_major": 2,
              "version_minor": 0
            },
            "text/plain": [
              "  0%|          | 0/5195 [00:00<?, ?it/s]"
            ]
          },
          "metadata": {},
          "output_type": "display_data"
        },
        {
          "data": {
            "application/vnd.jupyter.widget-view+json": {
              "model_id": "ef7a33c1195645b3bd096634290a2afa",
              "version_major": 2,
              "version_minor": 0
            },
            "text/plain": [
              "  0%|          | 0/325 [00:00<?, ?it/s]"
            ]
          },
          "metadata": {},
          "output_type": "display_data"
        }
      ]
    },
    {
      "cell_type": "code",
      "metadata": {
        "execution": {
          "iopub.execute_input": "2021-11-27T00:40:19.241705Z",
          "iopub.status.busy": "2021-11-27T00:40:19.239245Z",
          "iopub.status.idle": "2021-11-27T00:40:19.244182Z",
          "shell.execute_reply": "2021-11-27T00:40:19.243674Z",
          "shell.execute_reply.started": "2021-11-27T00:13:03.326991Z"
        },
        "id": "855c277c",
        "papermill": {
          "duration": 0.051882,
          "end_time": "2021-11-27T00:40:19.244295",
          "exception": false,
          "start_time": "2021-11-27T00:40:19.192413",
          "status": "completed"
        },
        "tags": []
      },
      "source": [
        "model_preds = pd.DataFrame(test_df[\"id\"])\n",
        "model_preds[\"prediction\"] = predictions"
      ],
      "id": "855c277c",
      "execution_count": null,
      "outputs": []
    },
    {
      "cell_type": "markdown",
      "metadata": {
        "id": "VrcGa9OjYzcw"
      },
      "source": [
        "# Saving the predictions in submission.csv file"
      ],
      "id": "VrcGa9OjYzcw"
    },
    {
      "cell_type": "code",
      "metadata": {
        "execution": {
          "iopub.execute_input": "2021-11-27T00:40:19.320573Z",
          "iopub.status.busy": "2021-11-27T00:40:19.320021Z",
          "iopub.status.idle": "2021-11-27T00:40:19.337562Z",
          "shell.execute_reply": "2021-11-27T00:40:19.337088Z",
          "shell.execute_reply.started": "2021-11-27T00:13:31.859860Z"
        },
        "id": "c3d53402",
        "papermill": {
          "duration": 0.056608,
          "end_time": "2021-11-27T00:40:19.337691",
          "exception": false,
          "start_time": "2021-11-27T00:40:19.281083",
          "status": "completed"
        },
        "tags": []
      },
      "source": [
        "model_preds.to_csv(\"submission.csv\", index=False)"
      ],
      "id": "c3d53402",
      "execution_count": null,
      "outputs": []
    },
    {
      "cell_type": "markdown",
      "metadata": {
        "id": "0fKZv-keY6nv"
      },
      "source": [
        "# This file was run on Kaggle using Kaggle GPU and the results were submitted on leaderboard and the Accuracy is 0.92666 on leaderboard\n",
        "\n",
        "![image.png](data:image/png;base64,iVBORw0KGgoAAAANSUhEUgAABXEAAADGCAYAAACU5sNfAAAgAElEQVR4nOzdd3iV9f3/8ed9Rs5JcrLJIiGDvacsAQc4UHGvalute/urtbZfbWtbbdU6Wmut1bprQevGheIGB8jeYQcIkJCdnOTsc//+CDnkkATCUAK8HtflVXLu8fnc50Bzzuu87/fHME3TZC82Fm+isCB/b7uJiIiIiIiIHDKBYBCP1xf1mNVqxWG3Y7NZD8oYwWAIXyBAKBQC4MHNMUyvsDF1SJjBSQdnDBEROXIcrFzVdhDmIiIiIiIiInLI2W02LHEWvD4foVAYgFAoRGMohNVqJcZmw2azYhjGPp3XNE2CwRD+YDAS3ja7szDIj3KtDExUgCsiIt8fhbgiIiIiIiJyxLBaLMTHxuLzB/D5/ZHHQ6EQnlAIfGCzWrFarVgtFiwWA8MwIsGuaZqYpkk4bBIKhwmFQgR3C26bOWJicMTYGRj7g1yaiIgcxRTiioiIiIiIyBHHEWPHbrfh9wfwBwJR24J7CGY7IsZuJybGjmUfK3pFRET2l0JcEREREREROSJZDAOno6laNhAMEggGI20W9pXVasFus2G32fa5HYOIiMiBUogrIiIiIiIiRzTDMJqqZ+12wqZJKBQiFAoTDocJm2FMs6mNQvO+hgEWw4LFYsFqtWC1WlV1KyIih5RCXBERERERETlqWAwDi82GXZ+GRUTkMGI51BMQERERERERERERkfYpxBURERERERERERHpxBTiioiIiIiIiIiIiHRi+9QFyOv1fl/zEBEREREREREREZE2dCjE7f7aOmDd9zwVERERERERERERkSOLeUf+AZ9D7RREREREREREREREOjGFuCIiIiIiIiIiIiKd2D71xAXYesP472MeIiIiIiIiIiIiIkeEnH99dVDPp0pcERERERERERERkU5MIa6IiIiIiIiIiIhIJ6YQV0RERERERERERKQTU4grIiIiIiIiIiIi0okpxBURERERERERERHpxBTiioiIiIiIiIiIiHRitkM9AREREREREZEfigFYMbFiYsHEAIyd/ztgzT0kWJz0dWYB0NuRxfDYQobGFeKyOA/ltEVE5CinEFdERERERESOaAZgI4xtZ3i7J/VhL/MaiwGY11jM1Oo5APR1ZHFJyhjGu/or0BURkR+cQlwRERERERE5IhlADGHshA/4XEW+Un5f+jYJlg85K2koV6ZNVJgrIiI/GIW4IiIiIiIicsSJIUxMO+FtCIMQBmEMwoCJgQnM7X0P7rCXtd7tNIS9rPFtZ0HjRuZ7NkWOrQ97mVo9h3dqF3N92glckHLsD3NBIiJyVFOIKyIiIiIiIkcMCyYOwq3aJoQwCGIQxLLHhgoui5NhcYUAjHf148o0cIe9zHav5N+Vn7MtUAs0hbkPlX/IFw1F/Dz9NHo6sr+vSxIREcFyqCcgIiIiIiIicjDYMIkjFBXghjDwYsWDlcBeAtz2uCxOTksczluFt/Pv3Cvoak+KbJvXWMz1W55nSePGg3AFIiIibVOIKyIiIiIiIoc9O2GchKIe82HBg5UgRvTO4RD4vRheN0ZDLYa7GqO+quk/d3XTY143+L1N+7YwJK6Qtwpv57q0EyKP1Ye9XFvyPDPqFn5v1yciIkc3hbgiIiIiIiJyWLMTxtGi/20Yg8adlbdRAj6MxrqmkNbXCAF/U0hrtqjPNc2mxwJ+DF9j076NdRDwRZ3qyrSJTM2/AZfFEXnsD6VvK8gVEZHvhUJcEREREREROWzZdvbAbRbCwIOVcMvq26B/Z3VtA4SC+z5IKIjhbcBoqIWgP/JwT0c207vfTh9HZuSxP5S+rdYKIiJy0CnEFRERERERkcOSBTOqhUJzgNuy763hbcDwuFu1Rdgv4RCGx90UBu/ksjj5Z7erooLc27e9zDrf9gMfT0REZCeFuCIiIiIiInJY2r2Fghfrro1muM02CAfFzrYMmE3jJ1icPNHtqsiCZ/VhL/eWvnXwxxURkaOWQlwRERERERE57MQQjqq59WLZ9ZMZxmis32vrBNM0CYfDBAIBPB4PHo8Hv99PKBQiHA5jtuyVu7tQsGmMnUGuy+Lkoa6XkrCzR26Rr5TXqr85kEsUERGJsB3qCYiIiIiIiIjsC4OmELeZD0tUD9yOtE8wTZOqqipqampobGwkNTUVr9dLfX09hmHgcrnIycnB4XBgGEbbJ9nZXsGMSwSaeuRemjKWpyq/AOCpyi84LWk4LovzwC5YRESOeqrEFRERERERkcNKzG4LmQVafLTtyOJlwWCQbdu2YZom2dnZ9OvXj8LCQlJTU0lOTiY+Pp7q6mrmzZtHZWXl3ityW/TIvTJtYlRbhecqP9vPqxQREdlFIa6IiIiIiIgcNgzA3iLEbRngEvTvsQduc/uEqqoqrFYreXl55OTkkJKSQnV1NbW1tdhsNlJSUsjKygKgpKQEj8ez5yA34Gsae6c/ZJ4X+fM7tYtpp45XRESkwxTiioiIiIiIyGHDtlsVbrBlGwWfZ4/HmqZJaWkpq1atwjRN6urqKC8vZ8GCBcyaNYulS5fS2NiIz+cjEAiQmppKSUkJ5eXlew5xdxt7SFxhVDXuB3UL9+dSRUREItQTt5MyTROvx0PYDON0xmK1Wve4fygUYmvJFhrdbiwWC5nZXUlMSmq/d9NRprGxgTWrVuFpbAQgIyuL/MLu2Gz6J9DQ4Mbv8xPjiCE+3tVqezAYpMFdTzhs4nK5sMfEtNrHu3MRCIvFICExCYul498PhcNh6utqAYh3Jez3a9I8h/auQ0RERESODLYWi5m1DHAJ+Nrtg2uaJqFQiOrqampqakhLS+Pbb78lPT2dpKQk4uPjqauro7GxkaqqKpxOJ1arFbfbTXl5OdXV1WRnZxPTxnvhiHCoaQ72poXNLk0ey8PlHwKw1red0w780o9IpmlSXVXJjtJSAJJSUsjIzNrrZ+D2NDS42VZSQigYxOF00jU3F4djzz2J93cO+3uc3+9n65bN+LxerDYbXXNz9/oZ5mA/T9J5BINBvB4PNrsdp1P9szuieUFKi2G0yigC/qa7ItrKLg53SrA6oQa3m/env8WnH31IRmYmN952O9ldc9rdf/3aNfz3uWfYsG5d5DFnbCynnD6FKeeeu9dfWEcyr8fDS88+zaMPPkBNdVXUtr4DBnL7Xb9l8pSz9il0PNJ89N673HL1FVxwyaX8+a9/x+VKiNq+dNFCLjnrDNzuev7xzPOcd/ElUdtN0+Sff3uEv97/J265/Vfc8bvf79P4tTU13HzV5ewoK+PJF/9Lj1699+s6PnjnbW65+gru+O3d/PzXd+3XOURERESkczMAa1SI26IXbjttFJorbmtqaqivr2f48OEYhoHP56OqqorExETsdjvjxo3D7XaTnZ1NcnIytbW1VFZW4nK52Lx5M927d99ziLtzDubOEPe0pOGkWB1McvUhweKkAdhzLe/Rx+fz8t5bbzHzg/fwenZVMo8YPZpLL7+SLunpHT5XKBTiy08/5o2Xp+F2uyOPZ+fkcM4FFzFy7LFtBp71dXW8OvUlZn32adTjQ0ccw6WXX0Fmdnab43k9Ht57+00+nvFB1NyHjjiGH/30crJzWn+GN02TdWtWM+2F56I+v7tcLs67+BKOn3QSNrv9oIwlnZ9pmqxasZzXpr7EhnXrOO/iSzj7ggsP9bQ6vcqKChbMncOOHWX06tOXY0aPifzbDoVCLJw/DyDq8SOFQtxOpOU/4LraWjIyM/d6zLatJUx9/lni4l3cdc+fyMntht/v59vZs3jnzdex222ccc55R9xf3I4IBoM8++Q/ue/u35KckspPr7yabgUFhEIhFsydyycffsBt111D4B9+zr7gokM93UOm34CBFPboyZqiIip27GgV4q5cthS3ux6ApYsXcea550d9o+Wur2P1qpUADB816qj8uyYiIiIiP4yWAW4IY9dP4VCrxcxM08TtdtPQ0EBtbS1+v5/ExETq6+ubqhqrq3G73XTr1o34+HhycnLwer34/X5iY2MxDIO0tDQaGhrYsmULZWVlxMfHY7FY2r/jMRRsmovFisvi5MzEoZE5WzGjK4ePcqFQiE9mzGDmB+8xecqZHD/pZOx2O8sWL+KNV6Yx9flnueK660lMSt7ruUzT5NOPZjD1+ecYM34CU845j5TUVKqrqnjv7Td5/t9PYgJjxo2Peu18Pi9vvfoKK5ct5aobbmLoiBEYhoV1a1bz5v9eZtqLz3Hl9TeRlBw9h2AgwNuv/Y/Zn3/G2RdcyJhxE7Db7ZHjnn3yn1x/68/pkp4RdVzxhg08+fe/kZuXH/n83tDg5tOPPuQ/zz5NKBzi5NPOiJrj/o4lnVvL4r3MrCySU1IO9ZQ6vWAwyKrly1i5fBnJySm4XEffHbhHb/lhJzR/7hz+/uADZGRlc+cf7+WY0WP3uL9pmsyf8y0ej4cf/fRy+vTrjyshgdS0NCafeRZnnH0O3341m9Jt236gK+hcVi5byjNPPE6vPn35z+tv8cDfH+em237Jrb/8Nc//73Uee/p5AF6b9l+qKisP8WwPndy8PPoPGszSRQvZXFwctc3r8bB8yeLIz0UrllNXVxe1T1lpKevXrqH/oMH7XUUrIiIiItIRu4e4EcFAq30rKiqoqKjAYrFQUFBAdnZ2023LXi8AhYWFOJ1OTNPEvrP6sXlBM5vNhtVqxWKxEBcXR0pKCsuWLcPna3/RtLbm0nKOVtXhRtlcXMxnMz/k5NNO56zzLyQ1LY2ExESOPe54fnzFVaxcvozFC+Z36FwV5TuY89Vsxh9/Aj+79jq65efjSkigW34+V15/A2PGjWf2559SW1PTag5fz/qSM8+7gAknTiQxKZmExESGHTOSSy6/guING1iysPUc1hSt4utZX/KTq67htDPPjsx92DEjufgnl7Fl0yYWzJ0bdYzP5+XTjz4gr6CQq264MfL5PTMrm3Mvupjxx5/Ad998Q2VFxQGPJZ1bQ4ObZ554nLlff8XlV1/LtTffSmJS0qGeVqcWCoVYOO87ilauYNiIYzhu4qSj8jlTJW4nYgA/u/Z6Ro4e0+YtFLsL+P1UlJfTq09fMneunNrMarXSb+Ag3njlZRobG76nGXdu69asZkdpKaeePoUBgwZHbbNYLEw85VSmnHseDQ0N1NfXkZqWFrVPdVUV8+Z8w9rVRcTYYxg59lgGDhnaqmdryebNbNlUTJeMDHr27sOGdWv56ovP8TQ2MmT4CEaMGk2Mw9FqfuFwmI3r1/Hdt99QVVlBaloXRo09lsIePaPaO/h9PpYvXUIwGKT/oEEE/AFmffYJJVs207f/AMZOOI64uHjC4TDLlyxm7tdfATB63HgGDhm611YRroREBgwaxPtvv8mSRQs4buKkyLaK8nJWrVhObl4eiUnJrF61kq1bNpPWpUtknw3r1lK0YjkXXHJp1K1G4XCYVcuXMX/uHNzuenr16cvwkaP36Zao3V8HlyuB4SNH0W/goA73zjVNk9WrVlJdWYnD6aTvgAHExcVHXePCeXMjr/PQY0YyaMhQnLGxkX12fw3cdfV8/slM3PX1nH3BRR2qmhcRERGRA2dpEYSGWy5oFt5VhWuaJo2NjbjdbjIzM8nMzKShoYE1a9ZgGAbbtm3DarVSX19PfX09VVVVpKSkUFZWhtPpJCYmJtIPNxAIYLfbSU5OZu3atVRXV+N0Ove49ogRDkZm2XKOFoW4EaZpsmzxQmIcDsaOP67V3Xx9+vdnwODBLF28iJFjjiU2Lm6P59uwbh3r167l/B9dSmxs9L4Oh5PxJ5zIw3++l43r1zHsmJGRbTtKS0nPyKBPv/6tXtO8/AK65edTXVUd9XgwGGTxwgX06tuXwcOGtTquZ5++XPyTy4iLiyMYDEY+t2zfupVlixfz06uuaVVdHBsbx8RTJ1O0YgWhYPCAx5LOzQyb5HTrxo+vuJIu6Rls37b1UE/psBAXF8+pZ0whMSm5Y1+oAY2NjWwr2YLP5yM+3kV2Tg6ONvKZw4X+hXciw0eN3qferDEOB1def2O729319ThjY4/afq/Nv8Aqysvx+bxRoRxASmoqjzzxVKvjwuEwH0x/i3t/eyclmzdHbTt+0knc8+Aj9OzdJ/LYd99+zS1XX8H/+9WdJCQm8OgD90faDwBMOfd8/vTw30jP2HV7S2VFBffd/RteeenFVuNffs11/Op3f4jcTtHQ0MAj993LjrIyfnHnb/jnXx9m0c4eLwBnnX8hd/7xXp594nGeeeLxqHPddc+fuO6Wn+/xl7lhGAw7ZhQA61YX4XbXR1oqbN+2laIVK7jkZ1fQLS+fu391O0sXLWTwsOFA85uvpkrdgYOHRo7bUVbGn393J6+/PC1qrOSUVP5w/4Oce/GP9voGY0+vw2lnns0fHniI3Ly8PZ7DNE0+/3gmd952C4lJyTzw6D8iAW4wGGTaC8/xl3v+0Kpf8sgxY7n3ob8yaOgwIPo1uO6Wn/PYQw9Eqo8nnnKqQlwRERGRH0jLCCvcckMoekGzmpoavF4vW7Zs4ZtvvmHDhg3ExsaSmpratHBvQwNVVVXExsZSV1dHSUkJiYmJ2Gy2yKJmzX8OBoNUVFRgt9vZvHkzWbsV0LTSYi4t56hGCrv4vF5Kt2+jsEePqAKRZvHxLvr07c/sLz6jprp6ryFuOBQir6CA1DbOBeBKSCAjM5PNxcVRIe64409g3PEntHmM1+vF6/FitUZ/nnbX17F540aGHTOyzcXInE4nE085tdXjG9evJz0jk4LuPdocr0ev3q3ubNzfsaRzi3e5OP9Hl2oh+n1gtVoZMHjwPj1nm4uLWbJwflSP7JTUVEaPHUeXjMOz/YhC3E7kYIatfr+fJQsX0KNXL9K67Fvl45FiwOAh9B80mBnvTic+wcUv7vwtefkFe/1H//GM97n9xuux2e3c+cd7Oev8C6mqKOf5fz/J69Om8subrucfz75At7z8VsclJSXx0ONPkJ6RyfIli3nmX4/z3ltvMGLkKK65+VYMw8Dr8fC3B/7MKy+9yEmTT+eGn/+CPv36s3rVSh576AFefPopuvfsxVU33BQ114ryHTz853s596KL+c09f2b92jX8+/HHeOeN1yjfUUZCQiLP/+914uLi+fyTmfz32Wd45onHmXDCxEjo2p7uPXtxzOgxrfriLp4/D7e7nsFDh9Gzdx8ysrJYuXwZPq8Xh9MZ6YfrciUwdOebodqaan53xy947603uODSH3PFtdeT0y2fz2Z+yD//+jC//eVtJCYnceoZZ3bodcjMzubhfz7JCZNOpqa6iif/8SivT5uK1WbjwcceJym5/d5Bc77+ijtvuwWAex58hBGjRke2vf/2m/z5d78hMzubu+97gImnTKbBXc8LTz/F048/xuN/fbjV+SvKd/DYQw8waOgwfn//X4iJcZCckrrH6xARERGRg6dFF1zMlrGoGRXp0qVLF2JjYzFNk5SUFPr164fNZmPHjh3MnTuX9evXY7FYcDqdNDY2UlJSQkFBAfHx8aSkpJCSkkJDQ9MdjR6PB4/HE1nsbK9azKXlHA1V4kZ4vR6qKirp2btPm3ctAiSnprJl06aoApk92VFWhru+7X09jY3U1dZSXVWJ3+/f6wJ1AGuLVrFl8ybOu/hHUY/X19VTXVVJbl4e9XV1fPHJx3zxyUzcbjcDBg3m5NPPoG//AVGf5cLhMJXl5WRkZRIfH8+qFcv58N13WLxgPtk5OYw/4USOn3gSCYmJBzyWdH56vfbPvjxv5WVl+H0+jp90clOBnGmyedMmFs3/jrWri0hOTT0sK9cPvxnLXpmmyYLv5rLgu7lc+rMrWzVhP1p079mLu/74J37/61/y+rSpvD5tKj169eb0s87h+EknMeyYka2qc2trqnlt6n8B+NPDf+WcCy/GMAzy8gu4/2/9ccQ4mPrCc8yY/nYklG3p/kf/Qa8+fQEYM34CqV3SufWaK/jqyy+4+KeXkZScQjAU5PhJJ5GYlMzlV18baUEwZtx4/L7b+PLTT/ju22+4+Cc/JSFxV4+XHaWl3HTbLyPh7tgJx2G12fjlTddTW1PDX/7+eOSb22NGj6Ghvp6XnnuGdWtW7zXE7ZKeTr8BA3npuWfYXFxMQfceuN31LF+6mMIePek3YCCZ2V0ZMGgwa4pWUVNdTWZ2dqQf7qBhw8jLLwDg61lf8t5bb3D5Ndfx2z/dF6l8vfgnl5HbLY+br/4Zb7zyMsdOOC7q+tp6HZJTU/jLY/9k7PgJQNPKsvf/7bHI63D+jy7hlNOntHmOb7+azc+vuwqAR596NnIOaOqnk19YyA0/v43Rx45n7ITjAEjPyOCGW29j+ZLFfPft12zauJHBw3aFuDtKS/nZNddx0y/uOCz/D19ERETkcNfy3XdUJGru+skwDBwOR1RQZxgGpmmSmppKdnY2CxYs4LvvviMUCrF9+3YAiouL6du3Lz169GDr1q2RRc6Sk5NxOp3U1tYSCLTuvduK2TJobnvuRzuPx0NDgxt7TEy7xUzN7e46sn5Jdk4OTqeTJQsX0L1nr6j2DM29NGuqq/dwhmjbtpbw8Yz3GXfc8fToHV0d6/V6KN2+nR1lZbz12v9w19cz6thxACyaP49H/3I/Z19wIaeecWZkHsFgELe7HovFwofvvcNnMz+iV5++nHfxJWzauIF333yDxQvmc9UNN5HdNeeAxhKRplxs4JChpKTuLLoyDPIKCqiprqJk8yYaG9wdWjSxs1EKcQRavWolr0/7LyPHjGX4yJFH7bc8hmFw4smnMGDQTF6d9hKv/vcl1q9dwz8eeZB/PPIgPXr15rb/u4szzj438u3v+rVrmf35Z4wcO5bjJ50c9dzFxcVz1vkXMv3115j/3Vwuqa+LCiFHjhkbCTKbxx8yfDh9BwwkFAoSDje9hXO5Ejj5tDM4+bQzWs25eR4N7nqCwehbwjKyshg19tioOTW3dRg6fARdc3IjjztjY8nq2rXDz5UzNpaBQ4YCRPriVuzYwZqiIvoPGkxuXh5x8S4GDh7K80/9i82bisnMzo70w73m5ltJTUvD5/Xy1Ref43IlcO5FP4rqPQswZMQIjjtxIsuXLqWstLTdELf5dTj3oosZNuKYqG1xcfFMOfd8pr7wHMsWL261eivA0kUL+fPv7gLg9/c/yJhx46O2W61Who4YydARI9mdzW5vqtIoLW3VZycjK4sTTz5VAa6IiIjIYWD394iGYWCz2UhNTWXSpEmMGTOGrVu3smHDBoqLiwkEAtTU1PDJJ58QExODz+cjNjaW7OxsnE4nDocDj8dziK7m6BXerVVGW3K75TF2/AQ+nvEB8fEuTjj5ZGJj4/B4Gpn5/vvMnzuHnG7dOjReXW1NpLDnpNNOx+FwtrnfC/9+kinnnseZ554fKQ6acs55vDr1Jaa//hoFhd3pv9vaLLM//5y8ggJuvePX9OzdJ/LlwrLFi3jx6ad4/+03+elV17Qac3/GEjmapXXpgishIeoxwzBITEqmunpxh3vqdjZKIo4w69asZurzz5JXUMg5F17U7i+co0lGVhY3/+IObvz57ZSXlfHN7C95+7VX+eTDD7j5qp+xbWtJpG9s8Yb1uN315BUUEh8f3+pc2Tk55BUWsmVTMZUVFVEhZEZmJg5n9PNtGEa73yzX1lSzeMECVixbwvIlSyjdtpUVS5e2ex1d0jOId7XugwRNoeSBhvWDhw0nIysr0hd3c3ExSxctZPKUM3ElJGIYBsNHjeIfjzzI4vnzOGb0mEg/3MFDh2GPiaG6qopNGzcAcP/vf9uq0rl5MbeSzZuprqpqNYdmza/DN7NnceUlF7baXl9XB0B5WSk+b3S/41mffcr7099m5bKl3PnHe5k85ax2n5uA38+qFctZNH8eq1etZMO6tZH5tWVPr4GIiIiIfP9MdlW0GrSodDWMqArY9hiGEXmPnpiYSEJCAr169WLLli28+uqrBAIBunfvTmpqKtu2bSMYDOLxeKiursblcmHvwALUGC1bKETPXfbd7p8p2mKz2znjnKZFq1956cWotUfyCgq45LKfMfuLz4hxOPbYxrC+ro5XXnqRzcUbuebmW6MKZXY3bORITj3jzKj5xbtcTDn3PLZsKmbxwgX07te/VQHI6WedE7l7E5r+Tg4aOoyTTz+DGe9MZ/vWra365u7vWCJHK6vNdkSuD6V/4UeQbVtLmPbCc3RJz+Cyq689LEvDv08Wi4XM7GzOvehHnH3BRXz+8Ufc9Yv/x2tT/8tJk0+nT7/+kX3TuqS325sJmm6HCXXgG+H2jt19Qa3cvDz6DxzM2RdcyNQXntuv8x6o3Lz8ne0SiigvK2PR/O8AGHbMqEgI2qNXb/rvbKmwo7SU1atWRtottOR21zP3m68PeE7r165h/do1+3RMy3FfevZpRowaE9VKodnCed/xuzt+weIF84GmCukBgwdz0uTT+frLL1i7uujAJi8iIiIiB52JEekta2Du6jlrWMDct/fnzYGuYRh069aNbt26kZycTGZmJn6/n6SkJOrrm26Br6ioICYmpmM9cY1dwUG7PXyPcgkJiSQlJ9PQ4CYYDLYZPlbs2AHQqpqu3XMmJnLl9Tdy/KSTWFtURDgcpkt6OgMGD8E0TT56/10KCru3G3T6fF7eevUVVq9cyVU33hz1+bAthd17kpjU+s7CpOQU8goK2VayBa/HEzX/vIICCnq0XtjMMAx69OpNTXV1myHu/owlIkcehbhHiLLt25n6/HNYrFYu+slPd/X9OEqFw2Hq62oJh82mb8x3a1xvsVg4dsLxHHfiJKa9+DybNm6gT7/+kV96pdu24vV4Wq2Capom4XCYlNTUyOJf+2r5kkX87S/3kdalC48+9TQnTDo5Mr95c749ZCFuUnIyAwcP5R+PPMiyxYtYsWwZx4weQ/eevSL7ZGZn03/gQNYUrWLF0iWsX7sm0m4BwGazEu9KoLBHT57+78v0GxABmREAACAASURBVDhov+bS/DrccvuvuON3v9+n/k7DjhnJw4//i09nfsh9d/+Wfz36V3r06k1GZmZkn9qaap742yOsW72aO357N1dcd0NkAbPqqiqKN6xXiCsiIiLSCbWsZrUAkSXErFYI71+RRXNlbp8+fdiwYUMkuA0Gg5SXl5OZmUnXrl3Ztm0bFRUVmHur+G3x3rVlHZgqcXeJiYkhNa0L27eW4PE0kpAQvaCXaZqUbt9OQY8ebYaX7TEMg569+0TazjXbsmkTleXlFPbo2eZxPp+Xd998g7lff8VlV19LvwED272bz+VKoFt+fpvb2mO32/e4IHN79mcsETlyHXm1xUehutoaXnnpRTyNDVx5/Y1RjdCPVgG/n7/c8wcG5nflf//9T5v7+P2+yC39zVXL+YXd6dWnL6tWLKe8fEerY9YUraJoxXK65eWTkJTYantHbFi3jh2lpZx9wUWcNPn0qIB5f6t7Dwar1crwUaMAmPbi86xZtZJ+AwbSJT09so/LlcDAwUOZP3cOr708laIVyxkwaBCunW+64uJddO/Rk43r17F44YJWY4TDYdzu+r2+8e2Wl09hj54sXjifyvLyVtu9Hg8Bv7/NY0+afBp9Bwzksquv5YJLf8ynH83g0b/cR2NjQ2SfivJyNhVvZNjIkfz0qmuj3lCFw+FD+jqIiIiISPvCLapZLS2rXC0HVp9ksVjo0aMHtbW1NDQ0UF9fT21tLW63m6qqKsrKyqiursbtdu/1XC3n0nKOYVXiRsQ4HBT26Mnm4mLKy8paba+tqWHt6lV0y8trWll+L9auLuKhP93DkjY+g5imyYplS0hITCIzu/W6IaFQiE9mzODjGR/wk6uuYdSx4/bYqi45JYWsrl0p31GKz+dttd1dX8+2khIyMrMi7fYMw6Cge3d2lJVR3cZCbaZpsmVTMc7YWDKysg5oLBE5cinEPcw19+ypranmsquv3WPPnqOJw+lk0NBhALz4zL+Z+83XhMOR7+mpr6/jmSf+yYx3pzN2/AS65TV9u1nYvQcTT53MovnzePLvf4sK/tauLuKJvz2Cy5XA5DPParVoV0c1375TW1MdFUS63fVMf/3V/TrnwdLcLmH255+xdnURA4cMbdWDaugxI3G5EnjnjdeA6HYLVquVE04+hYysLKY+/yxFK1dEjjNNk29nz2LS6BFceMapbN+6td15FPboyfjjT2D255/xv6n/wd+i6bjbXc8f7/o1BWmJvPTs0+2eIyEhkZt/cQfDjhnJi08/xVuv/i8SHlutVmw2G+76ehoadr0RD4fDfPHJxyyaN28fnjURERER+aGEWgSh1pa1rbYO9KrdA8MwSEhIICYmhuzsbJKSknA4HDgcDnw+Hw0NDYTDYeJ2u1OvTS3m0nKOIYW4UfoOGEBiUhLvvvkGdbU1kcdDoRBff/kF69euZfjI0VHrvAQDARbNn8eaVSujCkPSMzIxzab38i3PBU0Lf3/8wfsMHTGC1LS0qG2hUIjPP/6ID997hx//7IpWC0m3JTYujhEjRzNvzhwWzJ0bNY9gIMA3s75gU/FGBg4ZGtVDuUev3vQbOJCPZ3zQan2QrSVb+OqLzxk8dFjUAtX7O5aIHJnUTuEw5vf7efv1V/n6yy8ZPW4cK5YubXNhrNy8PIYMH3EIZnhonX3BhZFVPs87dRI9evUmNy+PQCDAymXLqKmuIjkllZ9edQ1dc5vC7xiHg0su+xnfffM1Lz79FEsXLWTCiZOoqa7is5kfUrJ5M1ffeDMTTpy43/MaNnIUI8eM5dl//ZNNGzcyYvRowqEQH8/4gK45ue3e4vNDaG6XsHLZUjKyshg8bHirffLyCxg0bBjfzp7Vqt0CwDGjx3D1jTdz392/5fzJJ3PS5Mn07teflcuW8cmMDwD4v9/fE/XmZHfO2FiuuvFmli9dwgN/uJuP3nuXCSdOAmDmB+9RtGI5p55xJpPPPHuP19OrT1/u/MO93Hz1z3jsoQfo3rMXY8dPoGtOLmMnHMdTjz3KFRdfwCmnT8GV4GLpokVUlu9g8PDhfDPry319+kRERETke7Z7iBtZ3MxiBasNQsH9PrfFYiE2Nhafz4fVaiUUCmGz2UhISMDn8xETE0NiYuKeQz6rrWkuNC1qphC3fVnZXTn97HN54d9P8vgjD3PcxEkkJCbyzexZzPlqNpNOncyAwYOjjlm2ZDGP/uV+Cnr04Maf/4LMrGygqTXchBMn8cK/n+RvD9zHhBMnkpmVzaoVy/l85kf07tef4yZOarXQ0fw53/LatKnk5OZSXVXNh+++02qesXFxHHvc8ThbVLoOHzWKtauLePGZf7Ni6RJGHTsOt9vNd998zeIF89uce2JSEpOnnMXTjz/GI/fdy3ETJ5GT242ilSsinz0u+sllxMdHL6S8P2OJyJFJIe5hzO/zUbZ9GwBzv/6auV+3vZDUeRdfclSGuHFx8dz95wfoN2AgLzz9FEUrlkctknXamWfz/371fwwcMjTqjVivPn3590sv8/Cf7+H9t99i0fymqszcvDz++JeH+ckVV3VohdT2dMvL58+PPMqD9/6RTz78gE8+/ACXK4GrbryZyVPO5Pabrt//iz5Aze0SXn95GgMGDSY3r3X/pdS0NAYOGcq3s2e1arcATZXG193yc3K75fHYww/y+svTIttGHzuO2/7vN4w7/oS9fsPd3uuQnJLKrb/8NVffdAtpXbrs9ZpGjxsfCZX/8se7efSpZyjo3oNbf/lrbFYbLz79FI899AAAJ00+nXsf+isvPv2UQlwRERGRTsikKQxtDkdthAnsvMHUtDswDiDEbRYXF0f5zpZeDoeD2NhY4uPjKS8vJzl5z4tHm/ZdiyPbdnXsJRS1xJlAU/XzmHHjcTqdvPPGazz9z38A4HK5uPTyKzjxlFOJ2W1tk645ufTo1Yvk1NSoOyObz5WUnMzbr/6PF5/+d+RcJ55yKqedeTbxruhwFKB0+3a8Hg/r165l/dq1bc5z0NChjBp7LLQIcR0OJxf/9DIys7KZ+cF7fPXlFwB0SU/nx1dcyQknndJq7gB9+vXnljt+zTtvvMbU53ethTJi9GjOueAi8goKWx2zv2OJyJHHMPfalR2Mhz6N/HnrDeO/1wmJfB9M08RdX0cw2NTrNDY2tkNBrNfjwePxYLEYxLsS2l3J9EDnFOOIafWN65Gg5QJzNpsVV8JeKhfa0fw6AG0uVHcgWr7GCYlJrb6dFxEREZHOxU4Yx86ANISBh10LiRkNtfu9wFk4HGb69Om4XC6Ki4tJSkoiKSkJl8tFXV0dlZWV+P1+Lr/88rYX3rVYMeN3LcIVSygSNvuwRMJmac00zUgrO6czdo8LGzevX9HePqZp4vV4CIVCOGNjD+pnuPbG6+jcW/L7/fh9Pmx2e1SV7/cxlogcGjn/+iryZ/OOSQd8PlXiylHBMJoCun3l7GDYuz/2d06HE4vFsl+rsO7u+3wdvs9zi4iIiMjBF8QSCXGtmNgwCe5sVWA6YjE8e198bHemaeL3+8nMzCQ9PR2Hw0FJSQlerxeLxUJtbS3QVAzS7jkcu7bZMKNaKQQV4O6RYRgdLmrZW3BpGAaxHeldfJDsy9xbiomJ2ecK2v0dS0SODPpNIiIiIiIiIocNE6KqWu0t2hZgi4EWLQ06fE7TZPv27eTk5JCSkkJMTAxxcXFYLBbKy8sJBALExsa2H7rZHU1jtzGnABa1UhARkQOmEFdEREREREQOK/4WH2WtmFGhqemMb1pgrINM04yEuLGxsQSDQUKhEC6XK7KYWWJiIg6Ho+3WW1Zb05g72QlHVeH69bFbREQOAv02ERERERERkcOKSXQ46iAcVe9qxrrA0vF+oaZpEgqFsFgsOBwObDYbcXFx2O12fD4foVCIQCBAQ0ND9IEWa9NYzT9iRlo9sHOOqsIVEZGDQSGuiIiIiIiIHHb8WAixa9FcJ+FdPxkWzLiEDlfk1tTUkJWVRWpqKl6vF5vNht1uJyMjg4SEBJKTk6mtraWqqorI2uBWW9MYRtPHamPnHJqFMFSFKyIiB41+o4iIiIiIiMhhydfiI60FEyehXRsNC2ZcYod65O7YsYP8/HxSUlLw+XzEx8djs9nw+/34/X4MwyAcDhMXF4dhGGB3NJ3b2DW+k1BU3a1PH7dFROQg6nijIBEREREREZFOJIyBF2skvLViEksIb4uutKYzHmx2DJ8HwqGo403TxO/3ExcXR1paGna7nfT0dMLhMI2NjSxbtozY2FjKy8tJTEyka7c8jPhEzBbBcFMFbiiqD64Xa8u6YBERkQOmEFdEREREREQOW0EMfFgivWh3BbmWXUGqLQbTFgMBH0bAB6EgQGRBs+TkZNxuN8FgkOTk5EjLhLS0tMgYeT160XfQkKixm6p/w60qcIMKcEVE5CBTiCsiIiIiIiKHtcDO1gXNQa4FkzhC+LBEtgFNbRDsjqaK3GCAsN9HCIPEpCTi4+Px+XwYFguhUJjk9Ax6OuOxOpwMjXe1GtNOOGoRM6D1eCIiIgeJQlwRERERERE57AWwYGJE9cV1EMaGSWD36liLFWKsWGOcdB80DIB6AGdM1DldqbGtxrFhYicc1T4BmlooqAJXRES+LwpxRURERERE5IgQxKARK44WIasVEyshQhgEMQhGNT/oGAOw7QyEdw9vQzvbOagHroiIfJ8U4oqIiIiIiMgRI4yBBysxhIlp0e7AujOAdRAmhEEIgzAGYcDEiESzBmBgYqGpLYO1jeC2mR8LfrVPEBGRH4BCXBERERERETni+Hf2p40hjH233rV7CmY7IrAzvN3/M4iIiOwbhbgiIiIiIiJyRDJpWmzMj6XddggddSDtGERERA6UQlwRERERERE5opk0Vc8GaGqX0FyJ27QUWlP7BKPFvs3tFcI72y6EWrRbEBERORQU4oqIiIiIiMhRw4SdFbVaiExERA4f6sAuIiIiIiIiIiIi0okpxBURERERERERERHpxBTiioiIiIiIiIiIiHRiCnFFREREREREREREOjHDNM09LrJpPPTpDzUXERERERERERERkSOSecek/T5WlbgiIiIiIiIiIiIinZhCXBEREREREREREZFOTCGuiIiIiIiIiIiISCemEFdERERERERERESkE1OIKyIiIiIiIiIiItKJKcQVERERERERERER6cQU4oqIiIiIiIiIiIh0YgpxRURERERERERERDoxhbgiIiIiIiIiIiIinZhCXBEREREREREREZFOTCGuiIiIiIiIiIiISCemEFdERERERERERESkE1OIKyIiIiIiIiIiItKJKcQVERERERERERER6cQU4oqIiIiIiIiIiIh0YgpxRURERERERERERDoxhbgiIiIiIiIiIiIinZhCXBEREREREREREZFOTCGuiIiIiIiIiIiISCemEFdERERERERERESkE1OIKyIiIiIiIiIiItKJKcQVERERERERERER6cQU4oqIiIiIiIiIiIh0YgpxRURERERERERERDoxhbgiIiIiIiIiIiIinZhCXBEREREREREREZFOTCGuiIiIiIiIiIiISCemEFdERERERERERESkE1OIKyIiIiIiIiIiItKJ2Q71BL5PuQkOxuckY7caVHmCvL+hot19R2Yl0jctDoCiykbmldb9UNPcJxPzUshJcOxxn0DI5KutNZTU+3j+tP6c2yud5RVurpyxijXVjT/QTPes5fO9J535tTgYfju2kOuH5rC+xsMNM4tYWdlwqKckIiIiIiIiIiKdzBEd4tb6gtw8PJdxOck0BELcNWs9jy3c0mq/3ilxPDu5H4PSXVR5A9z08epOGxzeNaaASfmpe9yn3h/ipk+K2FDjYWJeCkkOG4PTExjdNfF7CXETYqycUpBGnN3S4dD1uqE5XDWo6173e3bZNuZ9uP+vRXNY3BgIM7O4knp/aL/PdbD9/thCbh+ZT0KMla4uB9OmDOTS95YryBURERERERERkShHdDuFen+IxxeWUOUNEG+3cuWgrvROaV39eeuIbvTvEk/INHl7bTmvFJUdgtnum5Bp4vaHqG/jP3cgSCBk8vXWWt5cW05Zg58vtlTz9try72UuI7MS+fuk3vzn9AFcNzRnn441gYZA29dR7w/hDYYPaG7XDc3hP6cP4O+TejMyK/GAznUwtQxwAQxgcIaLaVMG0j8t/tBOTkREREREREREOpUjuhIX4JWiMqb06MIl/TLp3yWe64bmcPvnayPbJ+alcE6vdKyGwdrqRh6Zt/kQzrbjShv8XPb+Cj7bXL3H/W77bA23fbbmB5rVvnPvrBp+aUXpoZ7KD2b3ALdZyyBXFbkiIiIiIiIiItLsiA9xAe6bU8yo7ER6pcRxbq90Xlu9gznbaoGmSs2uLgeeYJjnlm2PCs5yExz8cmQ+Y7omEWuzUNrg5/XVO3h66dbWY0zoQW6Ck+UVbh78blPUtl+Nymdgl6ZWDU8sKmFNdSNn90zn7J7pBMJh/ruylJMLUjmlIA3TNPnTt8V77N+7L5rHLqn3ctfs9QAdHrt/Wjw3DctlTNckbBaDHY1+3l1XEdWS4lej8hmRlUCcrSmQHJAWz39OHxA13sHS8jmetqqU/xtdwNiuSQB8u62WB+YWU1LvA2BM1ySuGJjNgJ1VrXE2K9cNzeEn/bOZvq6c6evKo56bd9ZXcOPQXAalx7Ox1sv/fbmOG4flkuq0U1TVwH1zitudT7nHz9/mb46MvSf3ju/O7SPzibW1XQSvIFdERERERERERHZ3VIS4KysbmLaqjF+Pyic/0cnNw3KZs62WawbncEpBGgZNIeA/F+0KJ28YmssfxhWSERcTeWxwOpxckMo1Q7py66drIkEwwNm90umfFs+nm6pahbinFKQyKT+VrW4f76wrZ011IyOyEvhx/0x8IZN+afGMz03GoKkFRGrswXtZmsdeWdkQCVU7MnZ71aKT8lM5o0cXLpi+lHp/KHL+ZmO6JjGma1LUeAdL83M8Z1stNw7LJT/RGdk2PDOBKT26cMPMImZsrKRXSiyX9MuKzD/FaeOiPpn4Q2FK3F6mryuPzH1dtYcL+2TSMyUWgBirhTXVjYzMSuTYnCQ21Xn5bHN11Ot9Zo8uXDW4KxlxMby/oeKgBLjNFOSKiIiIiIiIiEhLR3RP3JYembeJBWV1WAyD07qncWm/LC4fmEWyw0aVN8DTS7ZGFr36Ud9M/jShOxlxMdT6gry8qoxff7mOr0pqCIVNRmYl8o9JvVsFnPsj3m5hTNckSuq9/K+ojPfWV1DlCR7weQ9k7NMK07hhaC4JMVaKa738/usNXPXhKt7fUEEobDIpP4X7j+sJwMziKl5dXUa1t2nOc7bV8tKKUqZ/T/13AYZkJJDksDF9XTnTVpWyuqoRE8hPdHLT8FwA1lZ7eHlVaSR4rfYGeXV1GVNXlrGgtD7qfAVJTrolOlhYVs9LK0r5ducxs0tqCIRNMuNiODEvJeqY47ulkOq04wmGmbWlZq9z7miA20w9ckVEREREREREpNlRUYkLuxY565cWT6rTzj3ju5PjchA2Td5dVxG1mNlPBmSR6rRT4wty56x1PLm4qX3Cg99t4r9nDOCSfpkM7OLi5uHduL+N2+z3hcUw+GJLNee8tSQSIndEqtPOY5P6EDLNVtveXLODP36zcb/Hvmd8d1KcNhoCIR6Zv4nHF5YA8Nyybbxx9iAy4mLYXOcFmp6TiXkpjMtJJgUbKyobuPrDVR2+DqfNwl1jCvjlyPxW23Y0+rlr1nrmldZFPe4Phblr1nr+tbhpXv3T4nn1rEEM6BLPkPQEJuQmM7ukhjnbanlmcj/GdE2iMRjiqcVb2+whHDZN/jpvc6vK4ZnFlfxkQBY5LgdjspOito3d2WJifY1nrwvG7WuA20wVuSIiIiIiIiIiAkdRiAvRi5z1SG66dX5tdWNU+4MJuckMSU8AYEFpXSTAbTZ1ZSkn5aeSGR/TKtjbH55gmI82Vu5TgAsQa7MwoEvbFZq7h577OrbbHyJkNo1xUn4qb68tj7QLOH/6sn2a597YLQZ9U9u+jq1uX5vVzpvrvJEAF5raZcwvrWNAl3gMo+mc+2Kb289bbQSxn22uZvGOenJcDganuxiZlci80jrO7NGFnimxmMDCsnrWVDe2e+5fjcrntmPyWgW4JfU+trp9jM5OjDzm9of4Zlstk/JTsBpN19Ac5L5wen8m/W/hPv89ERERERERERGRw99RFeICPL6ohGNzkihMisUbDDNtVVlUhWNBkpMkhw0TWF/jaXX8jI2VVHoDZMbHUJjkbLV9XwXDJtsb9t5PdXfV3iAfb6rEF2xdiftVyd5v79/T2G+vLefSflkMyXBxds90zujehc11XpZXNPDe+oo2F3bbX95gmA/bCbGrvIE2e83uaPS3eizYRkVyRzUGQ+0G319vrWVSXlNof2JeCvNK65qqjp126v1BZhZX7vHcvVPjiLdHB9El9T5u/mQ1t+xs/dDMBF5eVUp5o58f9cuMCnK7uhyMzEpss5JYRERERERERESObEddiDtnWy0bajwUJsVS6Q0wa0vboVggFKbcE9jjuaz7WPF5MO2pPcCBWlPdyPUfF/G7sYUcl5uMK8ZK9+RYuifHcmbPLtw+Mo/bPlvDjI17DjA7IhA2eXPtDl5aUXoQZn7wfVJcxbWDcyhIcjIuJxnYxLE5SdgtBstrPLyxZscej39j9Q5OLUgjN8EB7Apwp68rbxXiAoRMkxs+LgKIBLkh0+TTTVUKcEVEREREREREjlJHXYi7N95gmEA4TEKMnVyXo9X2hBgrzdltjfeHWYDsUJizrZYz3lgMwMS8FCblpzK5MI0hGS76pMZx55iCgxLidnbzSuuYu72WgiQng9NdXNovi94pcYRNk2+21u61vcGMjZXc/Mlq/jiuOwC//3oD09ftuYduvT/EDR8X0RAIcUaPLry/voJffrH2oF2TiIiIiIiIiIgcXhTi7mbJDjfljQFSnXYGZ7hIiLFGBXVn9kgnM86BCWzaubhXS/mJsfROiYv0SU2IsZIaa/+hpn/QTMxLIdZm5f0NFXy2uZrPNlfzm9nr+frSYzg2J4nuybFMzEs5KqpDZ5XUcEb3LmTGx3BhnwxSY+1UeAJ81MEQe/q68r0Gt7ur94e4bmbR/kxXRERERERERESOMJa973J0WVPdyCebqgiZJoPTXTx+Up/Itv5p8fx6dD4pThvV3gDvtAjm1lU39c8tTHZy97GFJMRYyU1w8OLpAxic7vrBr+NAvHLmQD69eDhTpwzghqG7bvnvnxZPkqMp93f7Q232qy1Mim1zMbJDzWW30qedBdT25qUV29lU5yXWZuHUwjTsFoPVVY28u77iIM9SRERERERERESkNVXituGJRSVMyE1mcLqLnw7IZnJhGhWeAHkJTlwxVoJhk3fXVfBKUVnkmOnrypmQm0yK08aP+2dxYZ+MSM/c5eUNDMk4fILct9eWc3JBKqlOO49O7MXPj+mGPxSmW0LTom/eYJg31uyIVBvPK61ju9tHjsvBiXkplN44gaXlbsZOnb/XsRJirPzn9AH85/QBbW5/dtk2rv5w1X5fy7pqD55gmCSHjccm9ebe8d25f24xj8zb3OFz1PtDzC6poV9aHLE2C4FwUysFERERERERERGRH4IqcduwsrKBS95dzsziKgKhMBlxMfRPi8cVY6XaG+TxRSX8bMbKqGOeW7aNvy/YTPXOPrkxVguBkMnzy7azoKzuUFzGfnulqIz/9+ka1lY3Yrda6J0Sx8AuLpIcNio8AR5fVMJvZq+P7F/vD3H3VxsoqmoAIM5uJTfByYTc5EN1CREPzC3mpRXbaQyEsFkMUmPt9E6J2+fzzC6podbX1FZjm9vH2/vYHkFERERERERERGR/GaZpmnvc4aFPf6i5dEq5CQ7G5yRjtxpUeYK8v2Hvt9Cf0b0LTpuFmcWVe134qrMbmZVI37Sm0HNrvW+vPXBHZiXSKyWOxTvqWVnZ8ENMsUMSYqycUpCGNxju0Gu4u4l5KfznjAHkuBy8v6GCKW8sOeA5TT93CGf17BL5ucob4PqZRby2escBn1tERERERERERDoX845J+32s2insRUm9L6ptQkfsT0jYWc0rrWNeaccrifd1/x9KvT/EG2v2Pxw9r3cGWfExeIJhZm2pOShzunPWOsoafYzITKTKG+CNNTsU4IqIiIiIiIiISCsKcUXakRBjZcYFQ8mKd5Cf6MRqGKyoqOdfi0sOyvlXVjZw7UdFB+VcIiIiIiIiIiJy5FKIK9KOyYVp9EuLJ9VpxwRWVzVy91cbDvsWGSIiIiIiIiIicnhRiCvSjhUVDdzyyRqsFjrcD1lERERERERERORgU4gr0o6VlQ2danE2ERERERERERE5OlkO9QREREREREREREREpH0KcUVEREREREREREQ6sf/f3n3Hx1nd+R7/jqZpqsqoN0suspFsIxsbG2yqswRCSKGkECAJkBASsiF5JbkkbHIJm7y2cLMs2bCwlwvkRbgJubuU0GKKvQ44YLDjblmWi2xZvUuj0WhGU+4fssYaj8aW5JKJ/Xn/Oc8z55znOefRH1+d+T2EuAAAAAAAAACQwghxAQAAAAAAACCFEeICAAAAAAAAQAojxAUAAAAAAACAFEaICwAAAAAAAAApjBAXAAAAAAAAAFIYIS4AAAAAAAAApDBCXAAAAAAAAABIYYS4AAAAAAAAAJDCCHEBAAAAAAAAIIUR4gIAAAAAAABACiPEBQAAAAAAAIAURogLAAAAAAAAACmMEBcAAAAAAAAAUhghLgAAAAAAAACkMEJcAAAAAAAAAEhhhLgAAAAAAAAAkMIIcQEAAAAAAAAghRHiAgAAAAAAAEAKI8QFAAAAAAAAgBRm+ksP4HQqcVm1sjhTI5Go3jzYLW8wnHDOtTNzlG0zqdkb0NrGytsEQAAAF1VJREFU3qRtSNL65j41eQOT7t9lMeqqco8kJe0fZ87SArfmeeyq6x7SxraBM9Zvqq6Da2fmyGUxTnldT8XYPU/2fP21Gft74A2G9dqBrtjnJ/o7AgAAAAAAcDLO6hC3Msuu/3XFHGVYTPrW2no9taMl7vjSArd++ZG5Ks9I175ev659fqvqe4fizrn5vAI9sGKm2n1BfeblHVMKu5YWuPXIqkpJ0m2v7Tqnw50zFeYdr5+7aop1x4IiPbmjRRtXn7kQN1XXwT9fPlulrnR94+06/XpX22npY+yerznUkzLXfTKuKMvSox+Zp8Pe4bgQ94fLy3VxccZZc50AAAAAACC1nNXlFNY29upQ/7Ds5jQtznclHF9W5Fau3SxJyraZdH6eM+GcKo9DNlOa9ved2d2bZ5u7aor1zMeq9cPl5WdFP8B4/tDo7urTtaMZAAAAAACc287qEFeStnR4JUmL8hJD3HnZowFtJBqV22LSssKMhHMW5DoVikS1tWPwtI8VwF+3UDT6lx4CAAAAAAA4C53V5RQkaVPbgAZHClTktGppgTtuN+2iPJciUenD1gEtL3Kr5piduNfNylGJy6qBYEgftPbHHfvKwmLdODdPBQ6LBgIhvbi3U09sb55SvdNPz8nVrdWFmpVpkz8U0dpDPfr3rU1Jd/Md2+dbh3r08KbGhD6/f+EMzct26Pf7OuW2GnXHgiJlpZtV1+PTY1uate5wr0pcVt23rFwXFY0G12sO9egXmw9P2HeJy6qv15ToyhnZR3Yl+/XrXa16cW/nCa9xeVGGvjy/UNUehySp2GXVMx+rlj8U1tM7W7Wh5eh9rfI49I1FJVpelKE0g1TfO6SndrTqjYbuU9rP2PlfrynRglyHIlHp/ZZ+/eMHB5Pe+6nO1VRMZx18fFaOyjPSFYpEtaGlX49uaVJtt2/C8z9a4dFd5xfH2n/zYLce+vDQccd07Fzs7PLpye0tWnc4vlTAl+YX6sqybK1t7FE4Go2ttRfqO/ST9xoS2vzO0jJdkD/63J1o3FNdD1Ueh75WU6wLCzNkM6WpzRfUf+3p0BPbm6c15r9dXKqb5ubJbTWpzRfUs7Wtx71nAAAAAAAAp8tZH+K+19yvDt+ICp0WLSs6GuJeWZalGRnpGgiG9MbBbs3PdWhWpj0u6D3P45DLYtKBPr9WHwmOqjwOPXn1eVpWlCHDuH5WlGTq9gVFuuftPQlB17FcFqN+8/H5urrCI1Pa0VaWFbr15QVFuv/d/XH1e5P1ubIkU7dUFehba+r1h3HB1lXl2bqkJFN5DrNWlWUr3TS64XphrlOXlmTpZxsa9N2lMzTDnR77zqJ8l64q9+jmV3fGhWq3LyjSzy6ZpQKHJfbZwlynrpuVoxf3duqO1bXHDa7nZNn0+fMK5LIYJY3ufp6X7ZA3GNb65r5YuPo/L67Qt5eUKcN6dEnW5Ln0qdm5emZXm77yxu7j3tPJ9iNJeXaLXvrUQuWPu6bF+S5dVZ6dcC+PN1e3VhfqB+/s07O106snO9W2k62Dxfkufe68fN3/7n49vjU+sPyPq+bpturC2BqQpAsL3VpWGN/GeMnm4obKPP2f7c362zX1sc9XlmTq1uoClWeka0mBW7Yj/RxbesRhNur1G2vi1tzifJdunJunH7yzP6Fe9VTXw0TnL8yV/qY8WzfOzdONv98eW6cnGvNE93lhrnRJSaZ+u/v01A4GAAAAAAA4nrO+nEJ975Bqu32ym41akHN0p+2SArey081qHRzdrdfhG1G2zaTqHEfsnMX5LtlMadrZNShvMCyXxahHVlVqWVGGGvr8+sbbe2R4aI2uf2m7tnV4VZXj0EOXz44Ficn88iNzdc1Mj/oCIf1o/QG5H1mnK57brHeb+pTvsOjvLirX8iM7ZI/X59YOr2Zn2fXIqkpVeRxxfZjSDLq8NEsv7etU6ePrdfV/bVVdj08FDosevqJS/lBY17+0Xe5H1umBPx3QQCCkqhyHbqsujLVxTYVHP1kxU7l2s9Y29uqK5zbL/cg6/Wj9AfUFQrq+Mlf/cOns417rr3e1yf3IOj15JKRbc6hHhofWyP3IutjLtL5WU6x7l5TJZkrT/9vTruqnNqj08fV6dEuTAuGovji/UD+/Ys5J9zNmVVmWDg4M6/qXtsvw0Bp9e229OoaCmp1l163jrv94c7W2sVeFToseXDkzNldTNdW2H75ydB20DgZi66D08fV6cW+nMqwm3XtBmSqz7LHz71tWHrue/72tWaWPr1fp4+v1xLZmXVSUofIMW8KYjjcXoUhUdy4s1n3LEusNX1ycoT09Pn3h1V2qfmqDfvHnw3HHz88bfZa+u25v3HrPtVv0wIoKXVmWNakxTLQebl9QpG9dUCanxaiX9naq+qkNMjy0Rneu3q3WwYCuKMvS/csrJj3mf7xsdsJ9vuK5zdrcPqDPzcuPC8QBAAAAAADOhHMijdjbO6RwJKr540Lcudl2pR8JaGu7fart9slpNmpJgTt2TpXHIX8oos3to3V1b60u1PLCDB3s9+sLr+3Sv29pkiS9uLdTd7+1Rwf7/arOcerumpKkY7mmwqOPlns0GAzrx+sP6KfvN8gbDGvd4V7duXq3dnYOqthp1cdmeuL6bB0M6J6398T1+YVXd6m2y6dZmTZ9c3FpXD9pBoM2tPTr86/sVJM3oDcauvXQh40aDIY1HIro3zY36cW9nfIGw/rJew1a3dAtc5pB540Lg2+tLlSR06LXD3Rr1e82a93hXnmDYf30/Qb9fGOjguGorp2Zo6Xj7tl03HxegdwWo/5zT4c++/LoTuAm7+j1/nLzYUWjUd1QmTftsPRYzYMB3f6H2lg5iH/982E9vaNVoUhUi/KdsRB+bK76AyF98+09cXP1qRe3aUu7VzPc6bqlqmDKY5hq264jAeUr+7r0o/UHYuugyRvQP394SE3egIqcVi0rcsfO/8y8PFmNBj1f36G73qxTkzegJm9Ad71Zp5f3dcpqTNyLe/OR3cxPbG9JmItndrXKYjToprl5Cd+r6x7SF17dpd/sblNtt0/bO+NrSEeiUf3s/YP6+cbG2HVe+/xW/bltQMVOq26amx83hqmshx2dg/pdXbt+U9uu217fFdtJ/uSOFr28r0tGg7SkILEm9kRjvvm8Aq0sztRAIKSfvn8wdp/XHe7VV9+oU0P/sMxpyfYwAwAAAAAAnB7nRIj7QWu/BoIhzchIj+34q8lzaXhcQLut0zsa4h15Adp1s3KU77CoZ3hEm478zPrSkkw5LEb9d2NvQo3VDS39+rB1QDZTWsKu2PFWzciWx2bWri6fHtvaFHesvndIC3/1gaz/8t/68foDsT6dFqM2tXnjfuYvSbXdPq1u6FYkOvoT+fGC4Yg2tMb/pH0kElFUUn8wpLpj6pAOjoz+1NxhHl0SlVmjpSUGR8J6ob4j4TpeqO9QszegHJtZC3KdCccn67pZOZqbbVdfIKTf70ussfurna1qHAgoz27RpSWZ0+5nvM3t3oQ6rLu6BzUcishlMcVC6bG52tLu1XN17XHne4Nh/fFwnyJRHXe+k5lq295gWI9tbdInX9yWUHpgIBBSKBL/Qq3LS7NU7LSqyz+i3x3TviT9fl+n+gKhuM/G5qLNF5xwzt9o6Fa3f7Q0yd+UZ8cd29Q2kLS2rTS6tp/eGT/u8dc5tn6nsx42tg3o7rfqdNvruxJKewQjEUWSvGtsojEvznfJZTFO+HzWdvu07nCvIry8DAAAAAAAnGFnfU1cSVrd0K3WwaDKM9JVleOQw2xUicsaF9BubB1QXyAUewHa0kK3Mq0mbWrzam3jaI3bHJtZ0WhUl5VmaduXliX0k5U+ejtLXNakY8lMN8mUZtDe3qFJjT3HZlYwHNGOrsEJj9d2+zQcishtMakyy676ce2eTNhU4rLKZk6TOS1N3106Q99eUpZwTp7DLIvRoPKM9AlamJzMdJNsJqOaB4djdYfHq+8d0mHvsMoz0pVnt0zQwtSNBdaTGZspzaDKbPuE8+0wG5VmUFxt3cmabtslLqu+en6xLirKUJHTqkKHVXZzmqzGtLgAc/x9nahG87aOQfX4Q3Htj30nXVE9fGVlwneMBoNcFpNCkWhcjWRJCp1grfX4Ryasnbyt0yt/KKI8u0WXlGSe1Hr49JxcXV+ZpyqPQ3l2i7LSTbKbjUlr/0405hM9n3U9PvlDkeNeKwAAAAAAwKl2ToS43mBYO7sGVZXj0KI8l+wmo1wWk7a0Hw1oX9nfpSZvQHOz7VpW5FZlll1m42i5hTFZ6WYZDAYVOiwKJ8msvMGwho4T8uTaRoOnE4Ve4/uUkgeyY7trbeY0lbiscSHuyfDYzLKZ0mQxGjTDna5ko/UeKc8wXYUOq0xpBkWiSvqCtEg0KlOaQZnpZ3a5js1Vjs2iTKt5wnN8IxH5JhkKn2zbx768yx8aPb61Y1AlLqvclqP350T3tb53SMFI/LyNfceclqaKCerlSlIoEtXgSEgjyR6AJLr8I8c9bjBI5jTDtNbDsS8iC0ej8o9E1O4Lqn0oqAvyE0spJHOi57M/EEq6sxcAAAAAAOB0OSdCXGn0J/SfmJ2rmjyXHGajrEaDtnR4487Z2uFVTZ5TF+S7NT/HqaGRcNwO2N7hEYUjUT22tVnfXbd3WuPo9AclHQ2LTqR3eESmNIOy0ycO+jKsJqUZJG8wpI1tAxOeMx3d/hH5QxGFIiO6c/VuvbK/65S1PV6rL6BQJCq7yailBe4Jr8FmMioYjqjNFzwtY0hmbK5e3tepz72y8y/a9jUVHt1dUyKnxaiX93Xpp+83xN2rXbcvjwtxT3RfryzLioXBx36n2RvQtc9vPWX/EJCUdBf12Pr1j0TU5A2o2DX19fB3F1XEXkT2Tx8c0tM7W2IB8IMrZ04pxD3R8zknyz5hLeGhUOSk/6EBAAAAAACQzDlRE1carX/ZMzyiAodFS47Uet10TEC0pWP0p90rijNU6LSoc2hEH7QcPaeuZ0hpBmmexz5hH5VZE38+Xn3PkPyhiOZm2yc8//sXztCvrqmKvdCqrmc0SFuYpO7sxUWZspuNavYGku5cnI61jb1q9wXltpg0f4K+XRbjcctGTFZd95C6/SPKsZm1tDDxBWnXVHg0K9Om4XBE+05hqDgZY3NVmW2PvexsvBKXdcLPT0fbs7JsclqM2ts7pFte2xkXbi4tcMtuim/jYP+w+gOhpPe1KsehzGNC3LG58NjMcS/4G3Mycz4z0zbhi+nG1u+hAb/qe4emtR5muNM1Eo7o6Z2t+sXmw3HPQXa6WaYpvIiscWBYgXDy57Myyy6LMfHP5ide2Cb3I+t0z9t7Jt0XAAAAAADAZJ0zIe7axl4d6h9WodOqiox0dfhG9F5z/MvJPmgZUOfQiGZm2pSVbtb+vqG4sGx9U5/6AiGtLM7UvReUxn23yuPQqzecL9+9l+vvV85MOo5X93epyTus2Vk23X9Redyxayo8+tYFpbqhMk/uIwHbmkM96vKPaGmBWz+7ZFbc+Z+Zm69VM7I0HIro7UOJdU9P1vst/TIbDbqlqiAhgPvy/CLtvv0iHbxrhT5a4TlhW8OhiCLRqGzHhI0b2wb0YVu/HBaj7jq/OO4lYS6LUXcsLFKew6L6niE9P8HLtibbz3S809SnNl9A1R6Hfnxx/Jy6LEY9d9189XzzMj11ddVpb3vsZ/w2k1HVOfGh+j2LS1Tqjg9X323q05YO74T3tcrj0FcWFsthTpyLHV2Dykw36avnFyUEtg+smKn9X7lY2760TDMzJy63kEyJy6q7a4rjPvvk7FxdXpapQCiiNUfKmkxnPfhDYZnSDPIcs1v9mgqPPjk7V2mGyYe4bx7sUctgYMLn82s1xUnX+v9YNkPrPrdYdywomnRfAAAAAAAAk3XOlFOQRnfaLi9yK81gUG23L+Hn4hvbBrS/b0jlGekKRaLa2hH/MrHn6tr1kfJsfbG6UP9w6Wx9dl6+9vb65bQYdUlJpnJsZm3vHNRvd7cnHUNtt0/P1rbpvmXlurW6UIvyXNraMSinxajLSjOVlW7WmkM9+vWuVknSi3s7de2sHH2xulDfWVKmFcUZahwIKMdu1sriTDktRq051KNHtxw+5ffrF38+rIuLM1ST59JrN5yv95r71TscUpnbqmWFGTIbDfrj3l69McELqI61rWNQA8GwLix0q/7Oi3RoYFg/fGe/NrYN6D+2NuvCggwtyHVq9U01eq+5X+FoVIvyXJrncag/ENKTO1omtdP4eP1M1YaWfv1qZ6vuW1auey8o1VXl2drZNSijwaCLizNU4kpXszeg/9yTfL5PVdsftAzoQJ9fC/Oc+r/XVmtDa7/CEak6x6G52XYNjST+jP+xLU1alOeKu6+SdHFxhuwmo5oHA3ElGCTpXzc1akGOU5eWZmnDLUv1YeuABoNhVec4tDDXqVAkqlf3d+lAn39K17u9c1A3zc3X/ByndnX5EtbvLzcfXb9TXQ/rm/u1ojhTX5pfqJmZNrX7grFn0pxmUGgKRWw3tPTrt7vb9Z0lZbr5vIKE8XYOBWU6JhS+psKjb19QpnyHRcXOdL3b1HdKS1EAAAAAAACcUyHuprYBDY4UKN2Ypm2d3gnP2doxqMtKszQQDOmD1v6E43eu3q0mb0DfWFSi5UUZsR2qoUhU65v69L0/7lNtt++443jwvQYNBsP63oUzND/XqQVHyhUEwxG9fqBLX3uzLi6wvHP1brX5gvp6TYkuK82KfT40EtZvatt091t1p7SUwpj63iF94oVt+rdVc3V1hUcfn5UTO+YNhvXMrtZJ1wZ+YnuzqnIc+vL8Qs3JsqvQYdWCXKc2tg1obWOvPv/qTj18xRwtLXTrs/PyJUlRSft6h/Tgew16trbtpPuZjgffa1Dn0Ii+f+EMLch1xspaRCXt7BzUj9Yf0B8mEWKfbNv1vUP6wTv79C9XztHcbEdsJ+xwKKJna9u04kjwO94fGrp1z9t79E+XzVZltl2fnTd6vD8Q0sObGvWZefkJIe7YXDx02WwtL8rQp+fkxo51+Uf06JYmPfCnA1O+1i3tXu3r9evTc3K1+EiN2mTrfarr4YE/HVChw6Jbqgp0VXl23LlvHezRnQuntjv2/nf3Kyrp6zUlWpzv0uJ8l6IaLYHx5I4W/eiiirjz9/f51eYLKs9h0YF+PwEuAAAAAAA45QzRaJLXsI+d8NCaMzWWvzrXzsxRts2kkXBU65v71OQNTLmNK8uyVOyyTrqNsT6HRiJ682D3aQlvJ1LismplcabMRoN6/CG9dmB6LzpzWYy6qtyj3uERrW1MLAFR5XGoJs8lY9pojdbphq8n6mc6xuYqHBl9Cd6JwvrT1fZ0xrG0wK15HvuU1ur4uWj2Bk7JfRxrU5rc2KeyHk7VGh1v7Hk7UXsui1E1eS6929R30n0CAAAAAICzU/R7q6b9XUJcAAAAAAAAADjNTibEPWdebAYAAAAAAAAAf40IcQEAAAAAAAAghRHiAgAAAAAAAEAKI8QFAAAAAAAAgBRGiAsAAAAAAAAAKYwQFwAAAAAAAABSGCEuAAAAAAAAAKQwQlwAAAAAAAAASGGEuAAAAAAAAACQwghxAQAAAAAAACCFEeICAAAAAAAAQAojxAUAAAAAAACAFEaICwAAAAAAAAApjBAXAAAAAAAAAFIYIS4AAAAAAAAApDBCXAAAAAAAAABIYYS4AAAAAAAAAJDCCHEBAAAAAAAAIIUR4gIAAAAAAABACiPEBQAAAAAAAIAURogLAAAAAAAAACmMEBcAAAAAAAAAUhghLgAAAAAAAACkMEJcAAAAAAAAAEhhhLgAAAAAAAAAkMIIcQEAAAAAAAAghRHiAgAAAAAAAEAKI8QFAAAAAAAAgBRGiAsAAAAAAAAAKcwQjUajJzqp4eAhVZTPOBPjAQAAAAAAAICzwqnKVdmJCwAAAAAAAAApjBAXAAAAAAAAAFLY/wckf7H40UpotQAAAABJRU5ErkJggg==)"
      ],
      "id": "0fKZv-keY6nv"
    },
    {
      "cell_type": "markdown",
      "metadata": {
        "id": "prmuCwFCZXwN"
      },
      "source": [
        ""
      ],
      "id": "prmuCwFCZXwN"
    }
  ]
}