{
  "nbformat": 4,
  "nbformat_minor": 0,
  "metadata": {
    "kernelspec": {
      "display_name": "Python 3",
      "language": "python",
      "name": "python3"
    },
    "language_info": {
      "codemirror_mode": {
        "name": "ipython",
        "version": 3
      },
      "file_extension": ".py",
      "mimetype": "text/x-python",
      "name": "python",
      "nbconvert_exporter": "python",
      "pygments_lexer": "ipython3",
      "version": "3.7.6"
    },
    "colab": {
      "name": "SPC_tfidf.ipynb",
      "provenance": []
    }
  },
  "cells": [
    {
      "cell_type": "markdown",
      "metadata": {
        "id": "UFtXb6_EfrXQ"
      },
      "source": [
        "# SENTENCE PAIRS CLASSIFICATION: GLOVE IMPLEMENTATION"
      ]
    },
    {
      "cell_type": "markdown",
      "metadata": {
        "id": "gBvst6m2frXT"
      },
      "source": [
        "### 1. DATA EXPLORATION"
      ]
    },
    {
      "cell_type": "code",
      "metadata": {
        "id": "qL-p188_frXU"
      },
      "source": [
        "import numpy as np\n",
        "import pandas as pd\n",
        "import csv\n",
        "import random\n",
        "\n",
        "# Import packages for pre-processing\n",
        "import nltk\n",
        "from tqdm import tqdm\n",
        "from nltk.tokenize import word_tokenize\n",
        "from nltk.stem import WordNetLemmatizer\n",
        "import re\n",
        "\n",
        "# Tf-idf\n",
        "from sklearn.feature_extraction.text import TfidfVectorizer\n",
        "\n",
        "# Cosine Similarity \n",
        "from sklearn.metrics.pairwise import cosine_similarity\n",
        "from sklearn.metrics.pairwise import euclidean_distances\n",
        "import matplotlib.pyplot as plt\n",
        "import seaborn as sb\n",
        "\n",
        "import warnings\n",
        "warnings.filterwarnings('ignore')\n",
        "\n",
        "# Data Modelling\n",
        "import time\n",
        "from sklearn.svm import SVC\n",
        "from sklearn.metrics import accuracy_score, classification_report\n",
        "from sklearn.model_selection import GridSearchCV\n",
        "from sklearn.linear_model import LogisticRegression\n",
        "from sklearn.neighbors import KNeighborsClassifier\n",
        "from sklearn.ensemble import RandomForestClassifier\n"
      ],
      "execution_count": 1,
      "outputs": []
    },
    {
      "cell_type": "code",
      "metadata": {
        "colab": {
          "base_uri": "https://localhost:8080/"
        },
        "id": "8DQ7ZC5Rf17x",
        "outputId": "62ff4b29-91b4-4a33-f677-4a08f9039732"
      },
      "source": [
        "# Download packages\n",
        "nltk.download('punkt')\n",
        "nltk.download('wordnet')"
      ],
      "execution_count": 2,
      "outputs": [
        {
          "output_type": "stream",
          "name": "stdout",
          "text": [
            "[nltk_data] Downloading package punkt to /root/nltk_data...\n",
            "[nltk_data]   Unzipping tokenizers/punkt.zip.\n",
            "[nltk_data] Downloading package wordnet to /root/nltk_data...\n",
            "[nltk_data]   Unzipping corpora/wordnet.zip.\n"
          ]
        },
        {
          "output_type": "execute_result",
          "data": {
            "text/plain": [
              "True"
            ]
          },
          "metadata": {},
          "execution_count": 2
        }
      ]
    },
    {
      "cell_type": "code",
      "metadata": {
        "colab": {
          "base_uri": "https://localhost:8080/"
        },
        "id": "8u9Dhvrhf4Ma",
        "outputId": "5efa49d0-ed07-4d3c-d6fe-7208cf83d92a"
      },
      "source": [
        "# Download dataset\n",
        "!wget \"https://nlp.stanford.edu/projects/snli/snli_1.0.zip\"\n",
        "# Extract\n",
        "!unzip \"./snli_1.0.zip\" -d \"data\""
      ],
      "execution_count": 3,
      "outputs": [
        {
          "output_type": "stream",
          "name": "stdout",
          "text": [
            "--2021-11-24 05:52:24--  https://nlp.stanford.edu/projects/snli/snli_1.0.zip\n",
            "Resolving nlp.stanford.edu (nlp.stanford.edu)... 171.64.67.140\n",
            "Connecting to nlp.stanford.edu (nlp.stanford.edu)|171.64.67.140|:443... connected.\n",
            "HTTP request sent, awaiting response... 200 OK\n",
            "Length: 94550081 (90M) [application/zip]\n",
            "Saving to: ‘snli_1.0.zip’\n",
            "\n",
            "snli_1.0.zip        100%[===================>]  90.17M  2.85MB/s    in 47s     \n",
            "\n",
            "2021-11-24 05:53:11 (1.93 MB/s) - ‘snli_1.0.zip’ saved [94550081/94550081]\n",
            "\n",
            "Archive:  ./snli_1.0.zip\n",
            "   creating: data/snli_1.0/\n",
            "  inflating: data/snli_1.0/.DS_Store  \n",
            "   creating: data/__MACOSX/\n",
            "   creating: data/__MACOSX/snli_1.0/\n",
            "  inflating: data/__MACOSX/snli_1.0/._.DS_Store  \n",
            " extracting: data/snli_1.0/Icon      \n",
            "  inflating: data/__MACOSX/snli_1.0/._Icon  \n",
            "  inflating: data/snli_1.0/README.txt  \n",
            "  inflating: data/__MACOSX/snli_1.0/._README.txt  \n",
            "  inflating: data/snli_1.0/snli_1.0_dev.jsonl  \n",
            "  inflating: data/snli_1.0/snli_1.0_dev.txt  \n",
            "  inflating: data/snli_1.0/snli_1.0_test.jsonl  \n",
            "  inflating: data/snli_1.0/snli_1.0_test.txt  \n",
            "  inflating: data/snli_1.0/snli_1.0_train.jsonl  \n",
            "  inflating: data/snli_1.0/snli_1.0_train.txt  \n",
            "  inflating: data/__MACOSX/._snli_1.0  \n"
          ]
        }
      ]
    },
    {
      "cell_type": "code",
      "metadata": {
        "colab": {
          "base_uri": "https://localhost:8080/",
          "height": 206
        },
        "id": "wkdWM1HgfrXV",
        "outputId": "84ee9584-7cf4-4089-ee2d-019121f42711"
      },
      "source": [
        "# Load the SNLI dataset\n",
        "path = './data/snli_1.0/'\n",
        "train_data = pd.read_csv(path + 'snli_1.0_train.txt', sep=\"\\t\")\n",
        "train_data = pd.DataFrame(train_data, columns=['sentence1', 'sentence2', 'gold_label'])\n",
        "\n",
        "# Remove all the rows labeled as '-' and NaN values\n",
        "train_data = train_data.loc[train_data['gold_label'] != '-']\n",
        "train_data = train_data.dropna()\n",
        "\n",
        "# Create a subset of the data in order to run de model faster\n",
        "train_data = train_data.iloc[:10000,:]\n",
        "train_data.head()"
      ],
      "execution_count": 4,
      "outputs": [
        {
          "output_type": "execute_result",
          "data": {
            "text/html": [
              "<div>\n",
              "<style scoped>\n",
              "    .dataframe tbody tr th:only-of-type {\n",
              "        vertical-align: middle;\n",
              "    }\n",
              "\n",
              "    .dataframe tbody tr th {\n",
              "        vertical-align: top;\n",
              "    }\n",
              "\n",
              "    .dataframe thead th {\n",
              "        text-align: right;\n",
              "    }\n",
              "</style>\n",
              "<table border=\"1\" class=\"dataframe\">\n",
              "  <thead>\n",
              "    <tr style=\"text-align: right;\">\n",
              "      <th></th>\n",
              "      <th>sentence1</th>\n",
              "      <th>sentence2</th>\n",
              "      <th>gold_label</th>\n",
              "    </tr>\n",
              "  </thead>\n",
              "  <tbody>\n",
              "    <tr>\n",
              "      <th>0</th>\n",
              "      <td>A person on a horse jumps over a broken down a...</td>\n",
              "      <td>A person is training his horse for a competition.</td>\n",
              "      <td>neutral</td>\n",
              "    </tr>\n",
              "    <tr>\n",
              "      <th>1</th>\n",
              "      <td>A person on a horse jumps over a broken down a...</td>\n",
              "      <td>A person is at a diner, ordering an omelette.</td>\n",
              "      <td>contradiction</td>\n",
              "    </tr>\n",
              "    <tr>\n",
              "      <th>2</th>\n",
              "      <td>A person on a horse jumps over a broken down a...</td>\n",
              "      <td>A person is outdoors, on a horse.</td>\n",
              "      <td>entailment</td>\n",
              "    </tr>\n",
              "    <tr>\n",
              "      <th>3</th>\n",
              "      <td>Children smiling and waving at camera</td>\n",
              "      <td>They are smiling at their parents</td>\n",
              "      <td>neutral</td>\n",
              "    </tr>\n",
              "    <tr>\n",
              "      <th>4</th>\n",
              "      <td>Children smiling and waving at camera</td>\n",
              "      <td>There are children present</td>\n",
              "      <td>entailment</td>\n",
              "    </tr>\n",
              "  </tbody>\n",
              "</table>\n",
              "</div>"
            ],
            "text/plain": [
              "                                           sentence1  ...     gold_label\n",
              "0  A person on a horse jumps over a broken down a...  ...        neutral\n",
              "1  A person on a horse jumps over a broken down a...  ...  contradiction\n",
              "2  A person on a horse jumps over a broken down a...  ...     entailment\n",
              "3              Children smiling and waving at camera  ...        neutral\n",
              "4              Children smiling and waving at camera  ...     entailment\n",
              "\n",
              "[5 rows x 3 columns]"
            ]
          },
          "metadata": {},
          "execution_count": 4
        }
      ]
    },
    {
      "cell_type": "code",
      "metadata": {
        "colab": {
          "base_uri": "https://localhost:8080/",
          "height": 206
        },
        "id": "S9Iq8AO9frXW",
        "outputId": "0edbe5ad-24be-48b6-f226-c2f2beba522c"
      },
      "source": [
        "# Test set\n",
        "test_data = pd.read_csv(path + 'snli_1.0_test.txt', sep=\"\\t\")\n",
        "test_data = pd.DataFrame(test_data, columns=['sentence1', 'sentence2', 'gold_label'])\n",
        "\n",
        "# Remove all the rows labeled as '-' and NaN values\n",
        "test_data = test_data.loc[test_data['gold_label'] != '-']\n",
        "test_data = test_data.dropna()\n",
        "\n",
        "# Create a subset of the data in order to run de model faster\n",
        "test_data = test_data.iloc[:2500,:]\n",
        "test_data.head()"
      ],
      "execution_count": 5,
      "outputs": [
        {
          "output_type": "execute_result",
          "data": {
            "text/html": [
              "<div>\n",
              "<style scoped>\n",
              "    .dataframe tbody tr th:only-of-type {\n",
              "        vertical-align: middle;\n",
              "    }\n",
              "\n",
              "    .dataframe tbody tr th {\n",
              "        vertical-align: top;\n",
              "    }\n",
              "\n",
              "    .dataframe thead th {\n",
              "        text-align: right;\n",
              "    }\n",
              "</style>\n",
              "<table border=\"1\" class=\"dataframe\">\n",
              "  <thead>\n",
              "    <tr style=\"text-align: right;\">\n",
              "      <th></th>\n",
              "      <th>sentence1</th>\n",
              "      <th>sentence2</th>\n",
              "      <th>gold_label</th>\n",
              "    </tr>\n",
              "  </thead>\n",
              "  <tbody>\n",
              "    <tr>\n",
              "      <th>0</th>\n",
              "      <td>This church choir sings to the masses as they ...</td>\n",
              "      <td>The church has cracks in the ceiling.</td>\n",
              "      <td>neutral</td>\n",
              "    </tr>\n",
              "    <tr>\n",
              "      <th>1</th>\n",
              "      <td>This church choir sings to the masses as they ...</td>\n",
              "      <td>The church is filled with song.</td>\n",
              "      <td>entailment</td>\n",
              "    </tr>\n",
              "    <tr>\n",
              "      <th>2</th>\n",
              "      <td>This church choir sings to the masses as they ...</td>\n",
              "      <td>A choir singing at a baseball game.</td>\n",
              "      <td>contradiction</td>\n",
              "    </tr>\n",
              "    <tr>\n",
              "      <th>3</th>\n",
              "      <td>A woman with a green headscarf, blue shirt and...</td>\n",
              "      <td>The woman is young.</td>\n",
              "      <td>neutral</td>\n",
              "    </tr>\n",
              "    <tr>\n",
              "      <th>4</th>\n",
              "      <td>A woman with a green headscarf, blue shirt and...</td>\n",
              "      <td>The woman is very happy.</td>\n",
              "      <td>entailment</td>\n",
              "    </tr>\n",
              "  </tbody>\n",
              "</table>\n",
              "</div>"
            ],
            "text/plain": [
              "                                           sentence1  ...     gold_label\n",
              "0  This church choir sings to the masses as they ...  ...        neutral\n",
              "1  This church choir sings to the masses as they ...  ...     entailment\n",
              "2  This church choir sings to the masses as they ...  ...  contradiction\n",
              "3  A woman with a green headscarf, blue shirt and...  ...        neutral\n",
              "4  A woman with a green headscarf, blue shirt and...  ...     entailment\n",
              "\n",
              "[5 rows x 3 columns]"
            ]
          },
          "metadata": {},
          "execution_count": 5
        }
      ]
    },
    {
      "cell_type": "code",
      "metadata": {
        "colab": {
          "base_uri": "https://localhost:8080/"
        },
        "id": "TSHahHkTfrXX",
        "outputId": "8eee0898-8260-4407-b88e-894f321a5077"
      },
      "source": [
        "# Shuffle data\n",
        "train_data = train_data.sample(frac=1, random_state=203)\n",
        "\n",
        "# Size of the datasets \n",
        "print('Train Data size:', train_data.shape)\n",
        "print('Test Data size:', test_data.shape)"
      ],
      "execution_count": 6,
      "outputs": [
        {
          "output_type": "stream",
          "name": "stdout",
          "text": [
            "Train Data size: (10000, 3)\n",
            "Test Data size: (2500, 3)\n"
          ]
        }
      ]
    },
    {
      "cell_type": "code",
      "metadata": {
        "colab": {
          "base_uri": "https://localhost:8080/"
        },
        "id": "pSJFtpsTfrXY",
        "outputId": "fcc05216-bd7a-42fd-8971-f3f584f85255"
      },
      "source": [
        "# Labels distributions\n",
        "print('==Labels train set:==\\n{}'.format(train_data['gold_label'].value_counts()))\n",
        "print('\\n==Labels test set:==\\n{}'.format(test_data['gold_label'].value_counts()))"
      ],
      "execution_count": 7,
      "outputs": [
        {
          "output_type": "stream",
          "name": "stdout",
          "text": [
            "==Labels train set:==\n",
            "entailment       3340\n",
            "contradiction    3334\n",
            "neutral          3326\n",
            "Name: gold_label, dtype: int64\n",
            "\n",
            "==Labels test set:==\n",
            "entailment       854\n",
            "neutral          830\n",
            "contradiction    816\n",
            "Name: gold_label, dtype: int64\n"
          ]
        }
      ]
    },
    {
      "cell_type": "markdown",
      "metadata": {
        "id": "Ipk1WrV8frXY"
      },
      "source": [
        "### 2. DATA PRE-PROCESSING"
      ]
    },
    {
      "cell_type": "code",
      "metadata": {
        "id": "3dwtS1qEfrXZ"
      },
      "source": [
        "lemmat = WordNetLemmatizer()\n",
        "\n",
        "def clean_text(sentence, lemma=False):    \n",
        "\n",
        "    # Step 1: Transform text to lower case, remove url, some punctuations and long repeated characters \n",
        "    sent = sentence.lower()\n",
        "    sent = re.sub(r'(http:)\\S+', r'', sent)\n",
        "    sent = re.sub(r'[\\.,`=_/#]', r' ', sent)\n",
        "    sent = re.sub(r'(\\w)\\1{2,}', r'\\1\\1', sent)\n",
        "\n",
        "    # Step 2: Find the tokens of each text and apply lemmatization\n",
        "    tokens = word_tokenize(sent)\n",
        "    if lemma: tokens = [lemmat.lemmatize(w) for w in tokens] \n",
        "\n",
        "    return ' '.join(tokens)\n",
        "\n",
        "# Data Cleaning in both sets\n",
        "train_data['clean_sent1'] = train_data['sentence1'].map(lambda x: clean_text(x, lemma=True))\n",
        "train_data['clean_sent2'] = train_data['sentence2'].map(lambda x: clean_text(x, lemma=True))\n",
        "\n",
        "\n",
        "test_data['clean_sent1'] = test_data['sentence1'].map(lambda x: clean_text(x, lemma=True))\n",
        "test_data['clean_sent2'] = test_data['sentence2'].map(lambda x: clean_text(x, lemma=True))"
      ],
      "execution_count": 8,
      "outputs": []
    },
    {
      "cell_type": "code",
      "metadata": {
        "id": "auAcLYjpfrXa"
      },
      "source": [
        "# Column with integer labels\n",
        "dict_label = {'entailment': 0, 'neutral': 1, 'contradiction': 2}\n",
        "train_data['int_label'] = train_data['gold_label'].map(lambda x: dict_label[x])\n",
        "test_data['int_label'] = test_data['gold_label'].map(lambda x: dict_label[x])"
      ],
      "execution_count": 9,
      "outputs": []
    },
    {
      "cell_type": "code",
      "metadata": {
        "colab": {
          "base_uri": "https://localhost:8080/",
          "height": 143
        },
        "id": "fTfBO0dLfrXa",
        "outputId": "b55d063a-421e-4aef-f86e-cae04953af25"
      },
      "source": [
        "# Preview results after pre-processing\n",
        "train_data.iloc[:3]"
      ],
      "execution_count": 10,
      "outputs": [
        {
          "output_type": "execute_result",
          "data": {
            "text/html": [
              "<div>\n",
              "<style scoped>\n",
              "    .dataframe tbody tr th:only-of-type {\n",
              "        vertical-align: middle;\n",
              "    }\n",
              "\n",
              "    .dataframe tbody tr th {\n",
              "        vertical-align: top;\n",
              "    }\n",
              "\n",
              "    .dataframe thead th {\n",
              "        text-align: right;\n",
              "    }\n",
              "</style>\n",
              "<table border=\"1\" class=\"dataframe\">\n",
              "  <thead>\n",
              "    <tr style=\"text-align: right;\">\n",
              "      <th></th>\n",
              "      <th>sentence1</th>\n",
              "      <th>sentence2</th>\n",
              "      <th>gold_label</th>\n",
              "      <th>clean_sent1</th>\n",
              "      <th>clean_sent2</th>\n",
              "      <th>int_label</th>\n",
              "    </tr>\n",
              "  </thead>\n",
              "  <tbody>\n",
              "    <tr>\n",
              "      <th>4638</th>\n",
              "      <td>Two small children playing football in yellow ...</td>\n",
              "      <td>two small children are playing football for th...</td>\n",
              "      <td>neutral</td>\n",
              "      <td>two small child playing football in yellow and...</td>\n",
              "      <td>two small child are playing football for their...</td>\n",
              "      <td>1</td>\n",
              "    </tr>\n",
              "    <tr>\n",
              "      <th>3472</th>\n",
              "      <td>Two asian females go walking.</td>\n",
              "      <td>The females are moving their legs.</td>\n",
              "      <td>entailment</td>\n",
              "      <td>two asian female go walking</td>\n",
              "      <td>the female are moving their leg</td>\n",
              "      <td>0</td>\n",
              "    </tr>\n",
              "    <tr>\n",
              "      <th>8723</th>\n",
              "      <td>A girl walking near a guy holding onto a bike ...</td>\n",
              "      <td>Two kids are riding mopeds.</td>\n",
              "      <td>contradiction</td>\n",
              "      <td>a girl walking near a guy holding onto a bike ...</td>\n",
              "      <td>two kid are riding moped</td>\n",
              "      <td>2</td>\n",
              "    </tr>\n",
              "  </tbody>\n",
              "</table>\n",
              "</div>"
            ],
            "text/plain": [
              "                                              sentence1  ... int_label\n",
              "4638  Two small children playing football in yellow ...  ...         1\n",
              "3472                      Two asian females go walking.  ...         0\n",
              "8723  A girl walking near a guy holding onto a bike ...  ...         2\n",
              "\n",
              "[3 rows x 6 columns]"
            ]
          },
          "metadata": {},
          "execution_count": 10
        }
      ]
    },
    {
      "cell_type": "markdown",
      "metadata": {
        "id": "P5QV3xLbfrXa"
      },
      "source": [
        "### 3. TEXT VECTORIZATION"
      ]
    },
    {
      "cell_type": "code",
      "metadata": {
        "id": "R2eUNP1NfrXb"
      },
      "source": [
        "max_features = 300\n",
        "\n",
        "# Fit the vectorizer to the pair of training data and transform it separetely\n",
        "vectorizer = TfidfVectorizer(max_features = max_features, max_df = 0.5)\n",
        "\n",
        "# Join pair of sentences\n",
        "pair_train = [' '.join([s1,s2]) for s1,s2 in train_data[['clean_sent1', 'clean_sent2']].values]\n",
        "train_vec = vectorizer.fit(pair_train)"
      ],
      "execution_count": 11,
      "outputs": []
    },
    {
      "cell_type": "code",
      "metadata": {
        "colab": {
          "base_uri": "https://localhost:8080/"
        },
        "id": "Vt11STHZfrXb",
        "outputId": "10911638-2c71-4e8f-bb08-33ff1ba72a20"
      },
      "source": [
        "# Transform sentence independently\n",
        "X_train1 = train_vec.transform(train_data['clean_sent1'].values)\n",
        "X_train2 = train_vec.transform(train_data['clean_sent2'].values)\n",
        "\n",
        "#Vectorize test sentences\n",
        "X_test1 = train_vec.transform(test_data['clean_sent1'].values)\n",
        "X_test2 = train_vec.transform(test_data['clean_sent2'].values)\n",
        "\n",
        "print(X_train1.shape)\n",
        "print(X_train2.shape)"
      ],
      "execution_count": 12,
      "outputs": [
        {
          "output_type": "stream",
          "name": "stdout",
          "text": [
            "(10000, 300)\n",
            "(10000, 300)\n"
          ]
        }
      ]
    },
    {
      "cell_type": "markdown",
      "metadata": {
        "id": "agafCagNfrXc"
      },
      "source": [
        "### 4. SENTENCE SIMILARITY"
      ]
    },
    {
      "cell_type": "code",
      "metadata": {
        "id": "VN_LHfdofrXc"
      },
      "source": [
        "# Create a Dictionary of labels with its cosine values\n",
        "def dic_labels(x,y):\n",
        "    \n",
        "    dic = {\n",
        "    'neutral': [],\n",
        "    'entailment': [],\n",
        "    'contradiction': []\n",
        "    }\n",
        "    \n",
        "    for i,j in zip(x,y):\n",
        "        if j == 'entailment':\n",
        "            dic[j].append(i)\n",
        "        elif j == 'neutral':\n",
        "            dic[j].append(i)\n",
        "        else:\n",
        "            dic[j].append(i)\n",
        "    \n",
        "    return dic"
      ],
      "execution_count": 13,
      "outputs": []
    },
    {
      "cell_type": "code",
      "metadata": {
        "id": "Uj9MMq8HfrXc"
      },
      "source": [
        "# Compute distance metrics\n",
        "cosine = lambda x,y: cosine_similarity(x.reshape(1,-1), y.reshape(1,-1)).flatten()[0]\n",
        "euclidean = lambda x,y: euclidean_distances(x.reshape(1,-1), y.reshape(1,-1)).flatten()[0]\n",
        "\n",
        "train_data['dist_cos'] = list(map(cosine, X_train1, X_train2))\n",
        "train_data['dist_euc'] = list(map(euclidean, X_train1, X_train2))\n",
        "\n",
        "dist_cos = dic_labels(train_data['dist_cos'].values, train_data['gold_label'].values)\n",
        "dist_euc = dic_labels(train_data['dist_euc'].values, train_data['gold_label'].values)"
      ],
      "execution_count": 14,
      "outputs": []
    },
    {
      "cell_type": "code",
      "metadata": {
        "colab": {
          "base_uri": "https://localhost:8080/",
          "height": 206
        },
        "id": "jev2D6hTfrXc",
        "outputId": "a0e24c61-7941-493c-8199-68d474f99bf2"
      },
      "source": [
        "train_data.iloc[:5]"
      ],
      "execution_count": 15,
      "outputs": [
        {
          "output_type": "execute_result",
          "data": {
            "text/html": [
              "<div>\n",
              "<style scoped>\n",
              "    .dataframe tbody tr th:only-of-type {\n",
              "        vertical-align: middle;\n",
              "    }\n",
              "\n",
              "    .dataframe tbody tr th {\n",
              "        vertical-align: top;\n",
              "    }\n",
              "\n",
              "    .dataframe thead th {\n",
              "        text-align: right;\n",
              "    }\n",
              "</style>\n",
              "<table border=\"1\" class=\"dataframe\">\n",
              "  <thead>\n",
              "    <tr style=\"text-align: right;\">\n",
              "      <th></th>\n",
              "      <th>sentence1</th>\n",
              "      <th>sentence2</th>\n",
              "      <th>gold_label</th>\n",
              "      <th>clean_sent1</th>\n",
              "      <th>clean_sent2</th>\n",
              "      <th>int_label</th>\n",
              "      <th>dist_cos</th>\n",
              "      <th>dist_euc</th>\n",
              "    </tr>\n",
              "  </thead>\n",
              "  <tbody>\n",
              "    <tr>\n",
              "      <th>4638</th>\n",
              "      <td>Two small children playing football in yellow ...</td>\n",
              "      <td>two small children are playing football for th...</td>\n",
              "      <td>neutral</td>\n",
              "      <td>two small child playing football in yellow and...</td>\n",
              "      <td>two small child are playing football for their...</td>\n",
              "      <td>1</td>\n",
              "      <td>0.464148</td>\n",
              "      <td>1.035231</td>\n",
              "    </tr>\n",
              "    <tr>\n",
              "      <th>3472</th>\n",
              "      <td>Two asian females go walking.</td>\n",
              "      <td>The females are moving their legs.</td>\n",
              "      <td>entailment</td>\n",
              "      <td>two asian female go walking</td>\n",
              "      <td>the female are moving their leg</td>\n",
              "      <td>0</td>\n",
              "      <td>0.387333</td>\n",
              "      <td>1.106948</td>\n",
              "    </tr>\n",
              "    <tr>\n",
              "      <th>8723</th>\n",
              "      <td>A girl walking near a guy holding onto a bike ...</td>\n",
              "      <td>Two kids are riding mopeds.</td>\n",
              "      <td>contradiction</td>\n",
              "      <td>a girl walking near a guy holding onto a bike ...</td>\n",
              "      <td>two kid are riding moped</td>\n",
              "      <td>2</td>\n",
              "      <td>0.000000</td>\n",
              "      <td>1.414214</td>\n",
              "    </tr>\n",
              "    <tr>\n",
              "      <th>341</th>\n",
              "      <td>A man squatting in the foreground of a photogr...</td>\n",
              "      <td>A male skateboarder performs tricks outdoors f...</td>\n",
              "      <td>neutral</td>\n",
              "      <td>a man squatting in the foreground of a photogr...</td>\n",
              "      <td>a male skateboarder performs trick outdoors fo...</td>\n",
              "      <td>1</td>\n",
              "      <td>0.176306</td>\n",
              "      <td>1.283506</td>\n",
              "    </tr>\n",
              "    <tr>\n",
              "      <th>703</th>\n",
              "      <td>A man carrying a load of fresh direct boxes on...</td>\n",
              "      <td>A young lad delivers groceries by bicycle in t...</td>\n",
              "      <td>contradiction</td>\n",
              "      <td>a man carrying a load of fresh direct box on c...</td>\n",
              "      <td>a young lad delivers grocery by bicycle in the...</td>\n",
              "      <td>2</td>\n",
              "      <td>0.206059</td>\n",
              "      <td>1.260112</td>\n",
              "    </tr>\n",
              "  </tbody>\n",
              "</table>\n",
              "</div>"
            ],
            "text/plain": [
              "                                              sentence1  ...  dist_euc\n",
              "4638  Two small children playing football in yellow ...  ...  1.035231\n",
              "3472                      Two asian females go walking.  ...  1.106948\n",
              "8723  A girl walking near a guy holding onto a bike ...  ...  1.414214\n",
              "341   A man squatting in the foreground of a photogr...  ...  1.283506\n",
              "703   A man carrying a load of fresh direct boxes on...  ...  1.260112\n",
              "\n",
              "[5 rows x 8 columns]"
            ]
          },
          "metadata": {},
          "execution_count": 15
        }
      ]
    },
    {
      "cell_type": "code",
      "metadata": {
        "colab": {
          "base_uri": "https://localhost:8080/",
          "height": 336
        },
        "id": "Nf2ony54frXd",
        "outputId": "288c1ce8-ba3f-4495-bda3-297623b879a2"
      },
      "source": [
        "# Cosine scores distribution by labels\n",
        "metric = ['Cosine', 'Euclidean']\n",
        "results = [dist_cos, dist_euc]\n",
        "fig, ax = plt.subplots(1,2, figsize=(15,5))\n",
        "\n",
        "for i in range(0,2):\n",
        "    sb.distplot(results[i]['neutral'], hist=False, ax=ax[i])\n",
        "    sb.distplot(results[i]['entailment'], hist=False, color='green', ax=ax[i])\n",
        "    sb.distplot(results[i]['contradiction'], hist=False, color='red', ax=ax[i])\n",
        "    ax[i].set_title(metric[i] + ' Distribution by labels')\n",
        "\n",
        "plt.show()\n"
      ],
      "execution_count": 16,
      "outputs": [
        {
          "output_type": "display_data",
          "data": {
            "image/png": "[encoded data removed]",
            "text/plain": [
              "<Figure size 1080x360 with 2 Axes>"
            ]
          },
          "metadata": {
            "needs_background": "light"
          }
        }
      ]
    },
    {
      "cell_type": "markdown",
      "metadata": {
        "id": "pS2HqJe5frXd"
      },
      "source": [
        "## 5. DATA MODELING. MULTI-CLASSIFICATION PROBLEM"
      ]
    },
    {
      "cell_type": "code",
      "metadata": {
        "colab": {
          "base_uri": "https://localhost:8080/"
        },
        "id": "9AdJN3RafrXd",
        "outputId": "56e81c92-8bd4-4131-c6f7-35222b1e37d4"
      },
      "source": [
        "# Transform saprse matrix to numpy\n",
        "X_train1 = X_train1.todense().A\n",
        "X_train2 = X_train2.todense().A\n",
        "\n",
        "X_test1 = X_test1.todense().A\n",
        "X_test2 = X_test2.todense().A\n",
        "\n",
        "# The approach used to represent the input is going to be substraction (A sent_vector - B sent_vector)\n",
        "\n",
        "X_train = []\n",
        "N,_ = X_train1.shape\n",
        "M,_ = X_test1.shape\n",
        "\n",
        "for i in range(0,N):\n",
        "    subs = X_train1[i] - X_train2[i]\n",
        "    X_train.append(subs)\n",
        "print('X_train Length:', len(X_train))\n",
        "    \n",
        "X_test = []\n",
        "for i in range(0,M):\n",
        "    subs = X_test1[i] - X_test2[i]\n",
        "    X_test.append(subs)\n",
        "\n",
        "\n",
        "y_train = np.array(train_data['int_label'].values)\n",
        "y_test = np.array(test_data['int_label'].values)\n",
        "print('y_train Shape:', y_train.shape)"
      ],
      "execution_count": 17,
      "outputs": [
        {
          "output_type": "stream",
          "name": "stdout",
          "text": [
            "X_train Length: 10000\n",
            "y_train Shape: (10000,)\n"
          ]
        }
      ]
    },
    {
      "cell_type": "code",
      "metadata": {
        "id": "P7VDkJYFfrXd"
      },
      "source": [
        "class EstimatorSelectionHelper:\n",
        "    \n",
        "    def __init__(self, models, params):\n",
        "        self.models = models\n",
        "        self.params = params\n",
        "        self.keys = models.keys() # list of models' names\n",
        "        self.grid_searches = {} ## empty dictionary for the Grid.fit of each model\n",
        "    \n",
        "    def fit(self, X, y, **grid_kwargs):\n",
        "        for key in self.keys:\n",
        "            print('Running GridSearchCV for %s.' % key)\n",
        "            model = self.models[key]\n",
        "            params = self.params[key]\n",
        "            grid_search = GridSearchCV(model, params, **grid_kwargs, cv=3)\n",
        "            grid_search.fit(X, y)\n",
        "            self.grid_searches[key] = grid_search ## fitting output from gird_search\n",
        "        print('Done.')\n",
        "    \n",
        "    def score_summary(self, sort_by='mean_test_score'):\n",
        "        frames = []\n",
        "        for name, grid_search in self.grid_searches.items():\n",
        "            frame = pd.DataFrame(grid_search.cv_results_) # The results for every combination of param\n",
        "            frame = frame.filter(regex='^(?!.*param_).*$') # remove columns about GRID parameters\n",
        "            frame['estimator'] = len(frame)*[name] # add the name of the model for every combo \n",
        "            frames.append(frame)\n",
        "        df = pd.concat(frames) # final dict of all the training that the grid model has done\n",
        "        \n",
        "        df = df.sort_values([sort_by], ascending=False)\n",
        "        df = df.reset_index()\n",
        "        df = df.drop(['rank_test_score', 'index'], 1)\n",
        "        \n",
        "        # Reorder the columns so estimator is the first one\n",
        "        columns = df.columns.tolist() \n",
        "        columns.remove('estimator') \n",
        "        columns = ['estimator']+columns \n",
        "        df = df[columns]\n",
        "        return df"
      ],
      "execution_count": 18,
      "outputs": []
    },
    {
      "cell_type": "code",
      "metadata": {
        "id": "0BrP1hjWfrXe"
      },
      "source": [
        "models = {\n",
        "    'LogisticRegression': LogisticRegression(n_jobs=-1),\n",
        "    'kNN': KNeighborsClassifier(n_jobs=-1),\n",
        "    'SVC': SVC(),\n",
        "    'RandomForestClassifier': RandomForestClassifier(n_jobs=-1)\n",
        "}\n",
        "\n",
        "params = {\n",
        "    'LogisticRegression': {'solver' : ['newton-cg', 'saga', 'sag'],\n",
        "                          'C' : np.logspace(-10, 0, 10)\n",
        "                          },\n",
        "    'kNN': {'n_neighbors' : [3, 5, 10],\n",
        "           'weights': [\"uniform\", \"distance\"]\n",
        "           },\n",
        "    'SVC': {'C': [0.1, 1, 10],\n",
        "              'gamma': ['auto', 'scale']\n",
        "           },\n",
        "    'RandomForestClassifier': {'n_estimators': [10,50,100],\n",
        "              'criterion': ['gini', 'entropy']\n",
        "            }\n",
        "}"
      ],
      "execution_count": 19,
      "outputs": []
    },
    {
      "cell_type": "code",
      "metadata": {
        "colab": {
          "base_uri": "https://localhost:8080/"
        },
        "id": "5ZysY1JZfrXe",
        "outputId": "b5c8ed0a-7fb1-432b-885c-16bfff77008a"
      },
      "source": [
        "t0 = time.time()\n",
        "\n",
        "combined_results=pd.DataFrame()\n",
        "\n",
        "helper = EstimatorSelectionHelper(models, params)\n",
        "\n",
        "helper.fit(X_train, y_train, scoring='accuracy')\n",
        "results = helper.score_summary()\n",
        "combined_results = pd.concat([combined_results, results], ignore_index=True)\n",
        "\n",
        "print('Time in minutes:', (time.time() - t0)/60)"
      ],
      "execution_count": 20,
      "outputs": [
        {
          "output_type": "stream",
          "name": "stdout",
          "text": [
            "Running GridSearchCV for LogisticRegression.\n",
            "Running GridSearchCV for kNN.\n",
            "Running GridSearchCV for SVC.\n",
            "Running GridSearchCV for RandomForestClassifier.\n",
            "Done.\n",
            "Time in minutes: 12.510318954785665\n"
          ]
        }
      ]
    },
    {
      "cell_type": "code",
      "metadata": {
        "colab": {
          "base_uri": "https://localhost:8080/",
          "height": 363
        },
        "id": "8as9AfyrfrXe",
        "outputId": "3504292e-4164-4d0a-ccfb-14687fecb97b"
      },
      "source": [
        "# Display the results dataframe\n",
        "results = results.sort_values(by='mean_test_score', ascending=False)\n",
        "results = results.reset_index(drop=True)\n",
        "cols = ['estimator', 'params', 'mean_test_score', 'mean_fit_time', 'mean_score_time']\n",
        "results = results[cols]\n",
        "results.head(10)"
      ],
      "execution_count": 21,
      "outputs": [
        {
          "output_type": "execute_result",
          "data": {
            "text/html": [
              "<div>\n",
              "<style scoped>\n",
              "    .dataframe tbody tr th:only-of-type {\n",
              "        vertical-align: middle;\n",
              "    }\n",
              "\n",
              "    .dataframe tbody tr th {\n",
              "        vertical-align: top;\n",
              "    }\n",
              "\n",
              "    .dataframe thead th {\n",
              "        text-align: right;\n",
              "    }\n",
              "</style>\n",
              "<table border=\"1\" class=\"dataframe\">\n",
              "  <thead>\n",
              "    <tr style=\"text-align: right;\">\n",
              "      <th></th>\n",
              "      <th>estimator</th>\n",
              "      <th>params</th>\n",
              "      <th>mean_test_score</th>\n",
              "      <th>mean_fit_time</th>\n",
              "      <th>mean_score_time</th>\n",
              "    </tr>\n",
              "  </thead>\n",
              "  <tbody>\n",
              "    <tr>\n",
              "      <th>0</th>\n",
              "      <td>SVC</td>\n",
              "      <td>{'C': 1, 'gamma': 'scale'}</td>\n",
              "      <td>0.527200</td>\n",
              "      <td>17.255413</td>\n",
              "      <td>8.736625</td>\n",
              "    </tr>\n",
              "    <tr>\n",
              "      <th>1</th>\n",
              "      <td>RandomForestClassifier</td>\n",
              "      <td>{'criterion': 'entropy', 'n_estimators': 50}</td>\n",
              "      <td>0.498899</td>\n",
              "      <td>4.216803</td>\n",
              "      <td>0.141072</td>\n",
              "    </tr>\n",
              "    <tr>\n",
              "      <th>2</th>\n",
              "      <td>RandomForestClassifier</td>\n",
              "      <td>{'criterion': 'entropy', 'n_estimators': 100}</td>\n",
              "      <td>0.497199</td>\n",
              "      <td>7.904761</td>\n",
              "      <td>0.209884</td>\n",
              "    </tr>\n",
              "    <tr>\n",
              "      <th>3</th>\n",
              "      <td>RandomForestClassifier</td>\n",
              "      <td>{'criterion': 'gini', 'n_estimators': 100}</td>\n",
              "      <td>0.495100</td>\n",
              "      <td>6.697817</td>\n",
              "      <td>0.241371</td>\n",
              "    </tr>\n",
              "    <tr>\n",
              "      <th>4</th>\n",
              "      <td>RandomForestClassifier</td>\n",
              "      <td>{'criterion': 'gini', 'n_estimators': 50}</td>\n",
              "      <td>0.493800</td>\n",
              "      <td>3.020137</td>\n",
              "      <td>0.107958</td>\n",
              "    </tr>\n",
              "    <tr>\n",
              "      <th>5</th>\n",
              "      <td>SVC</td>\n",
              "      <td>{'C': 10, 'gamma': 'auto'}</td>\n",
              "      <td>0.493000</td>\n",
              "      <td>18.999250</td>\n",
              "      <td>8.471993</td>\n",
              "    </tr>\n",
              "    <tr>\n",
              "      <th>6</th>\n",
              "      <td>SVC</td>\n",
              "      <td>{'C': 10, 'gamma': 'scale'}</td>\n",
              "      <td>0.489300</td>\n",
              "      <td>22.272233</td>\n",
              "      <td>9.201266</td>\n",
              "    </tr>\n",
              "    <tr>\n",
              "      <th>7</th>\n",
              "      <td>LogisticRegression</td>\n",
              "      <td>{'C': 0.07742636826811278, 'solver': 'saga'}</td>\n",
              "      <td>0.487700</td>\n",
              "      <td>1.265857</td>\n",
              "      <td>0.008931</td>\n",
              "    </tr>\n",
              "    <tr>\n",
              "      <th>8</th>\n",
              "      <td>LogisticRegression</td>\n",
              "      <td>{'C': 0.07742636826811278, 'solver': 'sag'}</td>\n",
              "      <td>0.487700</td>\n",
              "      <td>1.293628</td>\n",
              "      <td>0.018479</td>\n",
              "    </tr>\n",
              "    <tr>\n",
              "      <th>9</th>\n",
              "      <td>LogisticRegression</td>\n",
              "      <td>{'C': 0.07742636826811278, 'solver': 'newton-cg'}</td>\n",
              "      <td>0.487600</td>\n",
              "      <td>1.316815</td>\n",
              "      <td>0.009066</td>\n",
              "    </tr>\n",
              "  </tbody>\n",
              "</table>\n",
              "</div>"
            ],
            "text/plain": [
              "                estimator  ... mean_score_time\n",
              "0                     SVC  ...        8.736625\n",
              "1  RandomForestClassifier  ...        0.141072\n",
              "2  RandomForestClassifier  ...        0.209884\n",
              "3  RandomForestClassifier  ...        0.241371\n",
              "4  RandomForestClassifier  ...        0.107958\n",
              "5                     SVC  ...        8.471993\n",
              "6                     SVC  ...        9.201266\n",
              "7      LogisticRegression  ...        0.008931\n",
              "8      LogisticRegression  ...        0.018479\n",
              "9      LogisticRegression  ...        0.009066\n",
              "\n",
              "[10 rows x 5 columns]"
            ]
          },
          "metadata": {},
          "execution_count": 21
        }
      ]
    },
    {
      "cell_type": "code",
      "metadata": {
        "colab": {
          "base_uri": "https://localhost:8080/",
          "height": 485
        },
        "id": "TZmE9sQdfrXf",
        "outputId": "1b3a1e39-3dcc-43e6-e834-44a3b725cd20"
      },
      "source": [
        "results.boxplot(column='mean_test_score',by='estimator', figsize=(15,5), rot=90)"
      ],
      "execution_count": 22,
      "outputs": [
        {
          "output_type": "execute_result",
          "data": {
            "text/plain": [
              "<matplotlib.axes._subplots.AxesSubplot at 0x7f4f5ef1ed90>"
            ]
          },
          "metadata": {},
          "execution_count": 22
        },
        {
          "output_type": "display_data",
          "data": {
            "image/png": "[encoded data removed]",
            "text/plain": [
              "<Figure size 1080x360 with 1 Axes>"
            ]
          },
          "metadata": {
            "needs_background": "light"
          }
        }
      ]
    },
    {
      "cell_type": "markdown",
      "metadata": {
        "id": "OVEfpqkxfrXf"
      },
      "source": [
        "### 6. ERROR ANALYSIS AND TEST RESULTS"
      ]
    },
    {
      "cell_type": "code",
      "metadata": {
        "colab": {
          "base_uri": "https://localhost:8080/"
        },
        "id": "85mXBPEqfrXf",
        "outputId": "c683ca26-aad3-4956-edc5-1b65b7c41bf7"
      },
      "source": [
        "# Predictions for the test set\n",
        "param = results.loc[0, 'params']\n",
        "top_model = SVC(**param)\n",
        "top_model.fit(X_train,y_train)\n",
        "y_pred = top_model.predict(X_test)\n",
        "print(classification_report(y_test, y_pred))"
      ],
      "execution_count": 23,
      "outputs": [
        {
          "output_type": "stream",
          "name": "stdout",
          "text": [
            "              precision    recall  f1-score   support\n",
            "\n",
            "           0       0.58      0.70      0.63       854\n",
            "           1       0.57      0.48      0.52       830\n",
            "           2       0.58      0.56      0.57       816\n",
            "\n",
            "    accuracy                           0.58      2500\n",
            "   macro avg       0.58      0.58      0.57      2500\n",
            "weighted avg       0.58      0.58      0.57      2500\n",
            "\n"
          ]
        }
      ]
    },
    {
      "cell_type": "code",
      "metadata": {
        "colab": {
          "base_uri": "https://localhost:8080/",
          "height": 332
        },
        "id": "wIf8s4z6frXf",
        "outputId": "45763bfd-3cd8-4a84-df70-0a2c6d1e1e18"
      },
      "source": [
        "# Label the predictions with their correct name\n",
        "labels_name = {0:'entailment', 1:'neutral', 2:'contradiction'}\n",
        "label_pred = [labels_name[i] for i in y_pred] \n",
        "\n",
        "# Create a big data frame with the true labels and their predictions\n",
        "final_df = test_data[['sentence1', 'sentence2', 'gold_label']]\n",
        "final_df['predictions'] = label_pred \n",
        "final_df.head(9)"
      ],
      "execution_count": 24,
      "outputs": [
        {
          "output_type": "execute_result",
          "data": {
            "text/html": [
              "<div>\n",
              "<style scoped>\n",
              "    .dataframe tbody tr th:only-of-type {\n",
              "        vertical-align: middle;\n",
              "    }\n",
              "\n",
              "    .dataframe tbody tr th {\n",
              "        vertical-align: top;\n",
              "    }\n",
              "\n",
              "    .dataframe thead th {\n",
              "        text-align: right;\n",
              "    }\n",
              "</style>\n",
              "<table border=\"1\" class=\"dataframe\">\n",
              "  <thead>\n",
              "    <tr style=\"text-align: right;\">\n",
              "      <th></th>\n",
              "      <th>sentence1</th>\n",
              "      <th>sentence2</th>\n",
              "      <th>gold_label</th>\n",
              "      <th>predictions</th>\n",
              "    </tr>\n",
              "  </thead>\n",
              "  <tbody>\n",
              "    <tr>\n",
              "      <th>0</th>\n",
              "      <td>This church choir sings to the masses as they ...</td>\n",
              "      <td>The church has cracks in the ceiling.</td>\n",
              "      <td>neutral</td>\n",
              "      <td>entailment</td>\n",
              "    </tr>\n",
              "    <tr>\n",
              "      <th>1</th>\n",
              "      <td>This church choir sings to the masses as they ...</td>\n",
              "      <td>The church is filled with song.</td>\n",
              "      <td>entailment</td>\n",
              "      <td>contradiction</td>\n",
              "    </tr>\n",
              "    <tr>\n",
              "      <th>2</th>\n",
              "      <td>This church choir sings to the masses as they ...</td>\n",
              "      <td>A choir singing at a baseball game.</td>\n",
              "      <td>contradiction</td>\n",
              "      <td>contradiction</td>\n",
              "    </tr>\n",
              "    <tr>\n",
              "      <th>3</th>\n",
              "      <td>A woman with a green headscarf, blue shirt and...</td>\n",
              "      <td>The woman is young.</td>\n",
              "      <td>neutral</td>\n",
              "      <td>neutral</td>\n",
              "    </tr>\n",
              "    <tr>\n",
              "      <th>4</th>\n",
              "      <td>A woman with a green headscarf, blue shirt and...</td>\n",
              "      <td>The woman is very happy.</td>\n",
              "      <td>entailment</td>\n",
              "      <td>entailment</td>\n",
              "    </tr>\n",
              "    <tr>\n",
              "      <th>5</th>\n",
              "      <td>A woman with a green headscarf, blue shirt and...</td>\n",
              "      <td>The woman has been shot.</td>\n",
              "      <td>contradiction</td>\n",
              "      <td>entailment</td>\n",
              "    </tr>\n",
              "    <tr>\n",
              "      <th>6</th>\n",
              "      <td>An old man with a package poses in front of an...</td>\n",
              "      <td>A man poses in front of an ad.</td>\n",
              "      <td>entailment</td>\n",
              "      <td>entailment</td>\n",
              "    </tr>\n",
              "    <tr>\n",
              "      <th>7</th>\n",
              "      <td>An old man with a package poses in front of an...</td>\n",
              "      <td>A man poses in front of an ad for beer.</td>\n",
              "      <td>neutral</td>\n",
              "      <td>neutral</td>\n",
              "    </tr>\n",
              "    <tr>\n",
              "      <th>8</th>\n",
              "      <td>An old man with a package poses in front of an...</td>\n",
              "      <td>A man walks by an ad.</td>\n",
              "      <td>contradiction</td>\n",
              "      <td>entailment</td>\n",
              "    </tr>\n",
              "  </tbody>\n",
              "</table>\n",
              "</div>"
            ],
            "text/plain": [
              "                                           sentence1  ...    predictions\n",
              "0  This church choir sings to the masses as they ...  ...     entailment\n",
              "1  This church choir sings to the masses as they ...  ...  contradiction\n",
              "2  This church choir sings to the masses as they ...  ...  contradiction\n",
              "3  A woman with a green headscarf, blue shirt and...  ...        neutral\n",
              "4  A woman with a green headscarf, blue shirt and...  ...     entailment\n",
              "5  A woman with a green headscarf, blue shirt and...  ...     entailment\n",
              "6  An old man with a package poses in front of an...  ...     entailment\n",
              "7  An old man with a package poses in front of an...  ...        neutral\n",
              "8  An old man with a package poses in front of an...  ...     entailment\n",
              "\n",
              "[9 rows x 4 columns]"
            ]
          },
          "metadata": {},
          "execution_count": 24
        }
      ]
    },
    {
      "cell_type": "code",
      "metadata": {
        "colab": {
          "base_uri": "https://localhost:8080/"
        },
        "id": "PAMx6la-frXf",
        "outputId": "8ca5f0c0-8dc9-4b2c-a4b7-13621d5ae85f"
      },
      "source": [
        "# Confusion Matrix\n",
        "from sklearn import metrics\n",
        "\n",
        "print('Confusion Matrix:')\n",
        "metrics.confusion_matrix(y_test, y_pred) # Rows = true_labels and Col = predictions"
      ],
      "execution_count": 25,
      "outputs": [
        {
          "output_type": "stream",
          "name": "stdout",
          "text": [
            "Confusion Matrix:\n"
          ]
        },
        {
          "output_type": "execute_result",
          "data": {
            "text/plain": [
              "array([[596, 130, 128],\n",
              "       [241, 395, 194],\n",
              "       [199, 164, 453]])"
            ]
          },
          "metadata": {},
          "execution_count": 25
        }
      ]
    },
    {
      "cell_type": "code",
      "metadata": {
        "colab": {
          "base_uri": "https://localhost:8080/"
        },
        "id": "UNU9Js1zfrXf",
        "outputId": "90b925f0-377f-48fd-dd96-281ab0016685"
      },
      "source": [
        "# Compare svm accuracy to the baseline method ('majority class')\n",
        "baseline_acc = 854/2500\n",
        "diff = 0.58/baseline_acc\n",
        "print('Improvement of SVM: ',round(diff,2))"
      ],
      "execution_count": 26,
      "outputs": [
        {
          "output_type": "stream",
          "name": "stdout",
          "text": [
            "Improvement of SVM:  1.7\n"
          ]
        }
      ]
    }
  ]
}