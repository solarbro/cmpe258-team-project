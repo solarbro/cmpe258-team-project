{
  "nbformat": 4,
  "nbformat_minor": 5,
  "metadata": {
    "kernelspec": {
      "display_name": "Python 3",
      "language": "python",
      "name": "python3"
    },
    "language_info": {
      "codemirror_mode": {
        "name": "ipython",
        "version": 3
      },
      "file_extension": ".py",
      "mimetype": "text/x-python",
      "name": "python",
      "nbconvert_exporter": "python",
      "pygments_lexer": "ipython3",
      "version": "3.7.10"
    },
    "papermill": {
      "default_parameters": {},
      "duration": 304.992574,
      "end_time": "2021-06-16T19:20:34.211036",
      "environment_variables": {},
      "exception": null,
      "input_path": "__notebook__.ipynb",
      "output_path": "__notebook__.ipynb",
      "parameters": {},
      "start_time": "2021-06-16T19:15:29.218462",
      "version": "2.3.3"
    },
    "colab": {
      "name": "BERT.ipynb",
      "provenance": [],
      "collapsed_sections": []
    },
    "accelerator": "TPU"
  },
  "cells": [
    {
      "cell_type": "code",
      "metadata": {
        "_cell_guid": "b1076dfc-b9ad-4769-8c92-a6c4dae69d19",
        "_uuid": "8f2839f25d086af736a60e9eeb907d3b93b6e0e5",
        "execution": {
          "iopub.execute_input": "2021-06-16T19:15:37.292265Z",
          "iopub.status.busy": "2021-06-16T19:15:37.291616Z",
          "iopub.status.idle": "2021-06-16T19:15:37.298154Z",
          "shell.execute_reply": "2021-06-16T19:15:37.297279Z",
          "shell.execute_reply.started": "2021-06-16T18:57:22.309436Z"
        },
        "papermill": {
          "duration": 0.037997,
          "end_time": "2021-06-16T19:15:37.298368",
          "exception": false,
          "start_time": "2021-06-16T19:15:37.260371",
          "status": "completed"
        },
        "tags": [],
        "id": "adverse-authority"
      },
      "source": [
        "import numpy as np # linear algebra\n",
        "import pandas as pd # data processing, CSV file I/O (e.g. pd.read_csv)\n",
        "import os\n"
      ],
      "id": "adverse-authority",
      "execution_count": 1,
      "outputs": []
    },
    {
      "cell_type": "code",
      "metadata": {
        "execution": {
          "iopub.execute_input": "2021-06-16T19:15:37.339993Z",
          "iopub.status.busy": "2021-06-16T19:15:37.339353Z",
          "iopub.status.idle": "2021-06-16T19:15:37.341892Z",
          "shell.execute_reply": "2021-06-16T19:15:37.342313Z",
          "shell.execute_reply.started": "2021-06-16T18:57:22.32397Z"
        },
        "papermill": {
          "duration": 0.025244,
          "end_time": "2021-06-16T19:15:37.342472",
          "exception": false,
          "start_time": "2021-06-16T19:15:37.317228",
          "status": "completed"
        },
        "tags": [],
        "id": "perceived-dependence"
      },
      "source": [
        "os.environ[\"WANDB_API_KEY\"] = \"0\" ## to silence warning"
      ],
      "id": "perceived-dependence",
      "execution_count": 2,
      "outputs": []
    },
    {
      "cell_type": "code",
      "metadata": {
        "colab": {
          "base_uri": "https://localhost:8080/"
        },
        "id": "0hs8u3mS79-s",
        "outputId": "4229948f-502f-44f2-e33f-de71afbc60cd"
      },
      "source": [
        "pip install transformers"
      ],
      "id": "0hs8u3mS79-s",
      "execution_count": 3,
      "outputs": [
        {
          "output_type": "stream",
          "name": "stdout",
          "text": [
            "Requirement already satisfied: transformers in /usr/local/lib/python3.7/dist-packages (4.12.5)\n",
            "Requirement already satisfied: sacremoses in /usr/local/lib/python3.7/dist-packages (from transformers) (0.0.46)\n",
            "Requirement already satisfied: importlib-metadata in /usr/local/lib/python3.7/dist-packages (from transformers) (4.8.2)\n",
            "Requirement already satisfied: packaging>=20.0 in /usr/local/lib/python3.7/dist-packages (from transformers) (21.3)\n",
            "Requirement already satisfied: tqdm>=4.27 in /usr/local/lib/python3.7/dist-packages (from transformers) (4.62.3)\n",
            "Requirement already satisfied: numpy>=1.17 in /usr/local/lib/python3.7/dist-packages (from transformers) (1.19.5)\n",
            "Requirement already satisfied: requests in /usr/local/lib/python3.7/dist-packages (from transformers) (2.23.0)\n",
            "Requirement already satisfied: regex!=2019.12.17 in /usr/local/lib/python3.7/dist-packages (from transformers) (2019.12.20)\n",
            "Requirement already satisfied: tokenizers<0.11,>=0.10.1 in /usr/local/lib/python3.7/dist-packages (from transformers) (0.10.3)\n",
            "Requirement already satisfied: filelock in /usr/local/lib/python3.7/dist-packages (from transformers) (3.4.0)\n",
            "Requirement already satisfied: pyyaml>=5.1 in /usr/local/lib/python3.7/dist-packages (from transformers) (6.0)\n",
            "Requirement already satisfied: huggingface-hub<1.0,>=0.1.0 in /usr/local/lib/python3.7/dist-packages (from transformers) (0.1.2)\n",
            "Requirement already satisfied: typing-extensions>=3.7.4.3 in /usr/local/lib/python3.7/dist-packages (from huggingface-hub<1.0,>=0.1.0->transformers) (3.10.0.2)\n",
            "Requirement already satisfied: pyparsing!=3.0.5,>=2.0.2 in /usr/local/lib/python3.7/dist-packages (from packaging>=20.0->transformers) (3.0.6)\n",
            "Requirement already satisfied: zipp>=0.5 in /usr/local/lib/python3.7/dist-packages (from importlib-metadata->transformers) (3.6.0)\n",
            "Requirement already satisfied: chardet<4,>=3.0.2 in /usr/local/lib/python3.7/dist-packages (from requests->transformers) (3.0.4)\n",
            "Requirement already satisfied: idna<3,>=2.5 in /usr/local/lib/python3.7/dist-packages (from requests->transformers) (2.10)\n",
            "Requirement already satisfied: urllib3!=1.25.0,!=1.25.1,<1.26,>=1.21.1 in /usr/local/lib/python3.7/dist-packages (from requests->transformers) (1.24.3)\n",
            "Requirement already satisfied: certifi>=2017.4.17 in /usr/local/lib/python3.7/dist-packages (from requests->transformers) (2021.10.8)\n",
            "Requirement already satisfied: click in /usr/local/lib/python3.7/dist-packages (from sacremoses->transformers) (7.1.2)\n",
            "Requirement already satisfied: six in /usr/local/lib/python3.7/dist-packages (from sacremoses->transformers) (1.15.0)\n",
            "Requirement already satisfied: joblib in /usr/local/lib/python3.7/dist-packages (from sacremoses->transformers) (1.1.0)\n"
          ]
        }
      ]
    },
    {
      "cell_type": "code",
      "metadata": {
        "execution": {
          "iopub.execute_input": "2021-06-16T19:15:37.382696Z",
          "iopub.status.busy": "2021-06-16T19:15:37.381833Z",
          "iopub.status.idle": "2021-06-16T19:15:44.941471Z",
          "shell.execute_reply": "2021-06-16T19:15:44.940923Z",
          "shell.execute_reply.started": "2021-06-16T18:57:22.334668Z"
        },
        "papermill": {
          "duration": 7.581261,
          "end_time": "2021-06-16T19:15:44.941628",
          "exception": false,
          "start_time": "2021-06-16T19:15:37.360367",
          "status": "completed"
        },
        "tags": [],
        "id": "handmade-stranger"
      },
      "source": [
        "from transformers import BertTokenizer, TFBertModel\n",
        "import matplotlib.pyplot as plt\n",
        "import tensorflow as tf"
      ],
      "id": "handmade-stranger",
      "execution_count": 4,
      "outputs": []
    },
    {
      "cell_type": "code",
      "metadata": {
        "execution": {
          "iopub.execute_input": "2021-06-16T19:15:45.047739Z",
          "iopub.status.busy": "2021-06-16T19:15:45.046813Z",
          "iopub.status.idle": "2021-06-16T19:15:50.747595Z",
          "shell.execute_reply": "2021-06-16T19:15:50.748171Z",
          "shell.execute_reply.started": "2021-06-16T18:57:22.350247Z"
        },
        "papermill": {
          "duration": 5.788669,
          "end_time": "2021-06-16T19:15:50.748359",
          "exception": false,
          "start_time": "2021-06-16T19:15:44.959690",
          "status": "completed"
        },
        "tags": [],
        "colab": {
          "base_uri": "https://localhost:8080/"
        },
        "id": "informational-component",
        "outputId": "87a4895c-359b-4c4f-e551-1d678b39e48f"
      },
      "source": [
        "try:\n",
        "    tpu = tf.distribute.cluster_resolver.TPUClusterResolver()\n",
        "    tf.config.experimental_connect_to_cluster(tpu)\n",
        "    tf.tpu.experimental.initialize_tpu_system(tpu)\n",
        "    strategy = tf.distribute.experimental.TPUStrategy(tpu)\n",
        "except ValueError:\n",
        "    strategy = tf.distribute.get_strategy() # for CPU and single GPU\n",
        "    print('Number of replicas:', strategy.num_replicas_in_sync)"
      ],
      "id": "informational-component",
      "execution_count": 5,
      "outputs": [
        {
          "output_type": "stream",
          "name": "stderr",
          "text": [
            "INFO:absl:Entering into master device scope: /job:worker/replica:0/task:0/device:CPU:0\n"
          ]
        },
        {
          "output_type": "stream",
          "name": "stdout",
          "text": [
            "INFO:tensorflow:Deallocate tpu buffers before initializing tpu system.\n"
          ]
        },
        {
          "output_type": "stream",
          "name": "stderr",
          "text": [
            "INFO:tensorflow:Deallocate tpu buffers before initializing tpu system.\n"
          ]
        },
        {
          "output_type": "stream",
          "name": "stdout",
          "text": [
            "INFO:tensorflow:Initializing the TPU system: grpc://10.44.217.210:8470\n"
          ]
        },
        {
          "output_type": "stream",
          "name": "stderr",
          "text": [
            "INFO:tensorflow:Initializing the TPU system: grpc://10.44.217.210:8470\n"
          ]
        },
        {
          "output_type": "stream",
          "name": "stdout",
          "text": [
            "INFO:tensorflow:Finished initializing TPU system.\n"
          ]
        },
        {
          "output_type": "stream",
          "name": "stderr",
          "text": [
            "INFO:tensorflow:Finished initializing TPU system.\n",
            "WARNING:absl:`tf.distribute.experimental.TPUStrategy` is deprecated, please use  the non experimental symbol `tf.distribute.TPUStrategy` instead.\n"
          ]
        },
        {
          "output_type": "stream",
          "name": "stdout",
          "text": [
            "INFO:tensorflow:Found TPU system:\n"
          ]
        },
        {
          "output_type": "stream",
          "name": "stderr",
          "text": [
            "INFO:tensorflow:Found TPU system:\n"
          ]
        },
        {
          "output_type": "stream",
          "name": "stdout",
          "text": [
            "INFO:tensorflow:*** Num TPU Cores: 8\n"
          ]
        },
        {
          "output_type": "stream",
          "name": "stderr",
          "text": [
            "INFO:tensorflow:*** Num TPU Cores: 8\n"
          ]
        },
        {
          "output_type": "stream",
          "name": "stdout",
          "text": [
            "INFO:tensorflow:*** Num TPU Workers: 1\n"
          ]
        },
        {
          "output_type": "stream",
          "name": "stderr",
          "text": [
            "INFO:tensorflow:*** Num TPU Workers: 1\n"
          ]
        },
        {
          "output_type": "stream",
          "name": "stdout",
          "text": [
            "INFO:tensorflow:*** Num TPU Cores Per Worker: 8\n"
          ]
        },
        {
          "output_type": "stream",
          "name": "stderr",
          "text": [
            "INFO:tensorflow:*** Num TPU Cores Per Worker: 8\n"
          ]
        },
        {
          "output_type": "stream",
          "name": "stdout",
          "text": [
            "INFO:tensorflow:*** Available Device: _DeviceAttributes(/job:localhost/replica:0/task:0/device:CPU:0, CPU, 0, 0)\n"
          ]
        },
        {
          "output_type": "stream",
          "name": "stderr",
          "text": [
            "INFO:tensorflow:*** Available Device: _DeviceAttributes(/job:localhost/replica:0/task:0/device:CPU:0, CPU, 0, 0)\n"
          ]
        },
        {
          "output_type": "stream",
          "name": "stdout",
          "text": [
            "INFO:tensorflow:*** Available Device: _DeviceAttributes(/job:worker/replica:0/task:0/device:CPU:0, CPU, 0, 0)\n"
          ]
        },
        {
          "output_type": "stream",
          "name": "stderr",
          "text": [
            "INFO:tensorflow:*** Available Device: _DeviceAttributes(/job:worker/replica:0/task:0/device:CPU:0, CPU, 0, 0)\n"
          ]
        },
        {
          "output_type": "stream",
          "name": "stdout",
          "text": [
            "INFO:tensorflow:*** Available Device: _DeviceAttributes(/job:worker/replica:0/task:0/device:TPU:0, TPU, 0, 0)\n"
          ]
        },
        {
          "output_type": "stream",
          "name": "stderr",
          "text": [
            "INFO:tensorflow:*** Available Device: _DeviceAttributes(/job:worker/replica:0/task:0/device:TPU:0, TPU, 0, 0)\n"
          ]
        },
        {
          "output_type": "stream",
          "name": "stdout",
          "text": [
            "INFO:tensorflow:*** Available Device: _DeviceAttributes(/job:worker/replica:0/task:0/device:TPU:1, TPU, 0, 0)\n"
          ]
        },
        {
          "output_type": "stream",
          "name": "stderr",
          "text": [
            "INFO:tensorflow:*** Available Device: _DeviceAttributes(/job:worker/replica:0/task:0/device:TPU:1, TPU, 0, 0)\n"
          ]
        },
        {
          "output_type": "stream",
          "name": "stdout",
          "text": [
            "INFO:tensorflow:*** Available Device: _DeviceAttributes(/job:worker/replica:0/task:0/device:TPU:2, TPU, 0, 0)\n"
          ]
        },
        {
          "output_type": "stream",
          "name": "stderr",
          "text": [
            "INFO:tensorflow:*** Available Device: _DeviceAttributes(/job:worker/replica:0/task:0/device:TPU:2, TPU, 0, 0)\n"
          ]
        },
        {
          "output_type": "stream",
          "name": "stdout",
          "text": [
            "INFO:tensorflow:*** Available Device: _DeviceAttributes(/job:worker/replica:0/task:0/device:TPU:3, TPU, 0, 0)\n"
          ]
        },
        {
          "output_type": "stream",
          "name": "stderr",
          "text": [
            "INFO:tensorflow:*** Available Device: _DeviceAttributes(/job:worker/replica:0/task:0/device:TPU:3, TPU, 0, 0)\n"
          ]
        },
        {
          "output_type": "stream",
          "name": "stdout",
          "text": [
            "INFO:tensorflow:*** Available Device: _DeviceAttributes(/job:worker/replica:0/task:0/device:TPU:4, TPU, 0, 0)\n"
          ]
        },
        {
          "output_type": "stream",
          "name": "stderr",
          "text": [
            "INFO:tensorflow:*** Available Device: _DeviceAttributes(/job:worker/replica:0/task:0/device:TPU:4, TPU, 0, 0)\n"
          ]
        },
        {
          "output_type": "stream",
          "name": "stdout",
          "text": [
            "INFO:tensorflow:*** Available Device: _DeviceAttributes(/job:worker/replica:0/task:0/device:TPU:5, TPU, 0, 0)\n"
          ]
        },
        {
          "output_type": "stream",
          "name": "stderr",
          "text": [
            "INFO:tensorflow:*** Available Device: _DeviceAttributes(/job:worker/replica:0/task:0/device:TPU:5, TPU, 0, 0)\n"
          ]
        },
        {
          "output_type": "stream",
          "name": "stdout",
          "text": [
            "INFO:tensorflow:*** Available Device: _DeviceAttributes(/job:worker/replica:0/task:0/device:TPU:6, TPU, 0, 0)\n"
          ]
        },
        {
          "output_type": "stream",
          "name": "stderr",
          "text": [
            "INFO:tensorflow:*** Available Device: _DeviceAttributes(/job:worker/replica:0/task:0/device:TPU:6, TPU, 0, 0)\n"
          ]
        },
        {
          "output_type": "stream",
          "name": "stdout",
          "text": [
            "INFO:tensorflow:*** Available Device: _DeviceAttributes(/job:worker/replica:0/task:0/device:TPU:7, TPU, 0, 0)\n"
          ]
        },
        {
          "output_type": "stream",
          "name": "stderr",
          "text": [
            "INFO:tensorflow:*** Available Device: _DeviceAttributes(/job:worker/replica:0/task:0/device:TPU:7, TPU, 0, 0)\n"
          ]
        },
        {
          "output_type": "stream",
          "name": "stdout",
          "text": [
            "INFO:tensorflow:*** Available Device: _DeviceAttributes(/job:worker/replica:0/task:0/device:TPU_SYSTEM:0, TPU_SYSTEM, 0, 0)\n"
          ]
        },
        {
          "output_type": "stream",
          "name": "stderr",
          "text": [
            "INFO:tensorflow:*** Available Device: _DeviceAttributes(/job:worker/replica:0/task:0/device:TPU_SYSTEM:0, TPU_SYSTEM, 0, 0)\n"
          ]
        },
        {
          "output_type": "stream",
          "name": "stdout",
          "text": [
            "INFO:tensorflow:*** Available Device: _DeviceAttributes(/job:worker/replica:0/task:0/device:XLA_CPU:0, XLA_CPU, 0, 0)\n"
          ]
        },
        {
          "output_type": "stream",
          "name": "stderr",
          "text": [
            "INFO:tensorflow:*** Available Device: _DeviceAttributes(/job:worker/replica:0/task:0/device:XLA_CPU:0, XLA_CPU, 0, 0)\n"
          ]
        }
      ]
    },
    {
      "cell_type": "code",
      "metadata": {
        "colab": {
          "base_uri": "https://localhost:8080/"
        },
        "id": "qtc1y7b98HTb",
        "outputId": "7ea30de4-e75a-4142-c243-b0f55f6595ab"
      },
      "source": [
        "from google.colab import drive\n",
        "drive.mount('/content/drive')"
      ],
      "id": "qtc1y7b98HTb",
      "execution_count": 6,
      "outputs": [
        {
          "output_type": "stream",
          "name": "stdout",
          "text": [
            "Drive already mounted at /content/drive; to attempt to forcibly remount, call drive.mount(\"/content/drive\", force_remount=True).\n"
          ]
        }
      ]
    },
    {
      "cell_type": "code",
      "metadata": {
        "execution": {
          "iopub.execute_input": "2021-06-16T19:15:50.788104Z",
          "iopub.status.busy": "2021-06-16T19:15:50.787435Z",
          "iopub.status.idle": "2021-06-16T19:15:50.932735Z",
          "shell.execute_reply": "2021-06-16T19:15:50.932171Z",
          "shell.execute_reply.started": "2021-06-16T18:57:28.568792Z"
        },
        "papermill": {
          "duration": 0.166494,
          "end_time": "2021-06-16T19:15:50.932947",
          "exception": false,
          "start_time": "2021-06-16T19:15:50.766453",
          "status": "completed"
        },
        "tags": [],
        "id": "ultimate-howard"
      },
      "source": [
        "train = pd.read_csv(\"/content/drive/MyDrive/train.csv\")"
      ],
      "id": "ultimate-howard",
      "execution_count": 7,
      "outputs": []
    },
    {
      "cell_type": "code",
      "metadata": {
        "execution": {
          "iopub.execute_input": "2021-06-16T19:15:50.982476Z",
          "iopub.status.busy": "2021-06-16T19:15:50.981534Z",
          "iopub.status.idle": "2021-06-16T19:15:51.168056Z",
          "shell.execute_reply": "2021-06-16T19:15:51.167139Z",
          "shell.execute_reply.started": "2021-06-16T18:57:28.634714Z"
        },
        "papermill": {
          "duration": 0.216733,
          "end_time": "2021-06-16T19:15:51.168208",
          "exception": false,
          "start_time": "2021-06-16T19:15:50.951475",
          "status": "completed"
        },
        "tags": [],
        "colab": {
          "base_uri": "https://localhost:8080/",
          "height": 293
        },
        "id": "assumed-nerve",
        "outputId": "b1ce5040-153a-4eae-c34e-c7caf9854a33"
      },
      "source": [
        "train.head()"
      ],
      "id": "assumed-nerve",
      "execution_count": 8,
      "outputs": [
        {
          "output_type": "execute_result",
          "data": {
            "text/html": [
              "<div>\n",
              "<style scoped>\n",
              "    .dataframe tbody tr th:only-of-type {\n",
              "        vertical-align: middle;\n",
              "    }\n",
              "\n",
              "    .dataframe tbody tr th {\n",
              "        vertical-align: top;\n",
              "    }\n",
              "\n",
              "    .dataframe thead th {\n",
              "        text-align: right;\n",
              "    }\n",
              "</style>\n",
              "<table border=\"1\" class=\"dataframe\">\n",
              "  <thead>\n",
              "    <tr style=\"text-align: right;\">\n",
              "      <th></th>\n",
              "      <th>id</th>\n",
              "      <th>premise</th>\n",
              "      <th>hypothesis</th>\n",
              "      <th>lang_abv</th>\n",
              "      <th>language</th>\n",
              "      <th>label</th>\n",
              "    </tr>\n",
              "  </thead>\n",
              "  <tbody>\n",
              "    <tr>\n",
              "      <th>0</th>\n",
              "      <td>5130fd2cb5</td>\n",
              "      <td>and these comments were considered in formulat...</td>\n",
              "      <td>The rules developed in the interim were put to...</td>\n",
              "      <td>en</td>\n",
              "      <td>English</td>\n",
              "      <td>0</td>\n",
              "    </tr>\n",
              "    <tr>\n",
              "      <th>1</th>\n",
              "      <td>5b72532a0b</td>\n",
              "      <td>These are issues that we wrestle with in pract...</td>\n",
              "      <td>Practice groups are not permitted to work on t...</td>\n",
              "      <td>en</td>\n",
              "      <td>English</td>\n",
              "      <td>2</td>\n",
              "    </tr>\n",
              "    <tr>\n",
              "      <th>2</th>\n",
              "      <td>3931fbe82a</td>\n",
              "      <td>Des petites choses comme celles-là font une di...</td>\n",
              "      <td>J'essayais d'accomplir quelque chose.</td>\n",
              "      <td>fr</td>\n",
              "      <td>French</td>\n",
              "      <td>0</td>\n",
              "    </tr>\n",
              "    <tr>\n",
              "      <th>3</th>\n",
              "      <td>5622f0c60b</td>\n",
              "      <td>you know they can't really defend themselves l...</td>\n",
              "      <td>They can't defend themselves because of their ...</td>\n",
              "      <td>en</td>\n",
              "      <td>English</td>\n",
              "      <td>0</td>\n",
              "    </tr>\n",
              "    <tr>\n",
              "      <th>4</th>\n",
              "      <td>86aaa48b45</td>\n",
              "      <td>ในการเล่นบทบาทสมมุติก็เช่นกัน โอกาสที่จะได้แสด...</td>\n",
              "      <td>เด็กสามารถเห็นได้ว่าชาติพันธุ์แตกต่างกันอย่างไร</td>\n",
              "      <td>th</td>\n",
              "      <td>Thai</td>\n",
              "      <td>1</td>\n",
              "    </tr>\n",
              "  </tbody>\n",
              "</table>\n",
              "</div>"
            ],
            "text/plain": [
              "           id  ... label\n",
              "0  5130fd2cb5  ...     0\n",
              "1  5b72532a0b  ...     2\n",
              "2  3931fbe82a  ...     0\n",
              "3  5622f0c60b  ...     0\n",
              "4  86aaa48b45  ...     1\n",
              "\n",
              "[5 rows x 6 columns]"
            ]
          },
          "metadata": {},
          "execution_count": 8
        }
      ]
    },
    {
      "cell_type": "code",
      "metadata": {
        "execution": {
          "iopub.execute_input": "2021-06-16T19:15:51.542463Z",
          "iopub.status.busy": "2021-06-16T19:15:51.541807Z",
          "iopub.status.idle": "2021-06-16T19:15:53.406766Z",
          "shell.execute_reply": "2021-06-16T19:15:53.406214Z",
          "shell.execute_reply.started": "2021-06-16T18:57:28.892655Z"
        },
        "papermill": {
          "duration": 1.891794,
          "end_time": "2021-06-16T19:15:53.406936",
          "exception": false,
          "start_time": "2021-06-16T19:15:51.515142",
          "status": "completed"
        },
        "tags": [],
        "id": "industrial-france"
      },
      "source": [
        "model_name = 'bert-base-multilingual-cased'\n",
        "tokenizer = BertTokenizer.from_pretrained(model_name)"
      ],
      "id": "industrial-france",
      "execution_count": 10,
      "outputs": []
    },
    {
      "cell_type": "code",
      "metadata": {
        "execution": {
          "iopub.execute_input": "2021-06-16T19:15:53.456296Z",
          "iopub.status.busy": "2021-06-16T19:15:53.455599Z",
          "iopub.status.idle": "2021-06-16T19:15:53.458913Z",
          "shell.execute_reply": "2021-06-16T19:15:53.458303Z",
          "shell.execute_reply.started": "2021-06-16T18:57:29.990022Z"
        },
        "papermill": {
          "duration": 0.030002,
          "end_time": "2021-06-16T19:15:53.459072",
          "exception": false,
          "start_time": "2021-06-16T19:15:53.429070",
          "status": "completed"
        },
        "tags": [],
        "id": "driven-anchor"
      },
      "source": [
        "def encode_sentence(s):\n",
        "    tokens = list(tokenizer.tokenize(s))\n",
        "    tokens.append('[SEP]')\n",
        "    return tokenizer.convert_tokens_to_ids(tokens)"
      ],
      "id": "driven-anchor",
      "execution_count": 11,
      "outputs": []
    },
    {
      "cell_type": "code",
      "metadata": {
        "execution": {
          "iopub.execute_input": "2021-06-16T19:15:53.509868Z",
          "iopub.status.busy": "2021-06-16T19:15:53.509209Z",
          "iopub.status.idle": "2021-06-16T19:15:53.513350Z",
          "shell.execute_reply": "2021-06-16T19:15:53.512683Z",
          "shell.execute_reply.started": "2021-06-16T18:57:29.998854Z"
        },
        "papermill": {
          "duration": 0.032559,
          "end_time": "2021-06-16T19:15:53.513488",
          "exception": false,
          "start_time": "2021-06-16T19:15:53.480929",
          "status": "completed"
        },
        "tags": [],
        "colab": {
          "base_uri": "https://localhost:8080/"
        },
        "id": "cardiac-emission",
        "outputId": "874b28b6-6b43-4359-dd06-9b57b156ae04"
      },
      "source": [
        "encode_sentence(\"I love machine learning\")"
      ],
      "id": "cardiac-emission",
      "execution_count": 12,
      "outputs": [
        {
          "output_type": "execute_result",
          "data": {
            "text/plain": [
              "[146, 16138, 21432, 26901, 102]"
            ]
          },
          "metadata": {},
          "execution_count": 12
        }
      ]
    },
    {
      "cell_type": "code",
      "metadata": {
        "execution": {
          "iopub.execute_input": "2021-06-16T19:15:53.561883Z",
          "iopub.status.busy": "2021-06-16T19:15:53.561190Z",
          "iopub.status.idle": "2021-06-16T19:15:53.569103Z",
          "shell.execute_reply": "2021-06-16T19:15:53.569665Z",
          "shell.execute_reply.started": "2021-06-16T18:57:30.016044Z"
        },
        "papermill": {
          "duration": 0.033611,
          "end_time": "2021-06-16T19:15:53.569900",
          "exception": false,
          "start_time": "2021-06-16T19:15:53.536289",
          "status": "completed"
        },
        "tags": [],
        "id": "alike-above"
      },
      "source": [
        "def bert_encode( premises,hypotheses,tokenizer):\n",
        "    \n",
        "    num_examples = len(hypotheses)\n",
        "\n",
        "    sentence1 = tf.ragged.constant([\n",
        "        encode_sentence(s)\n",
        "        for s in np.array(hypotheses)])\n",
        "    sentence2 = tf.ragged.constant([\n",
        "        encode_sentence(s)\n",
        "        for s in np.array(premises)])\n",
        "\n",
        "    cls = [tokenizer.convert_tokens_to_ids(['[CLS]'])]*sentence1.shape[0]\n",
        "    input_word_ids = tf.concat([cls, sentence1, sentence2], axis=-1)\n",
        "\n",
        "    input_mask = tf.ones_like(input_word_ids).to_tensor()\n",
        "\n",
        "    type_cls = tf.zeros_like(cls)\n",
        "    type_s1 = tf.zeros_like(sentence1)\n",
        "    type_s2 = tf.ones_like(sentence2)\n",
        "    input_type_ids = tf.concat(\n",
        "        [type_cls, type_s1, type_s2], axis=-1).to_tensor()\n",
        "\n",
        "    inputs = {\n",
        "        'input_word_ids': input_word_ids.to_tensor(),\n",
        "        'input_mask': input_mask,\n",
        "        'input_type_ids': input_type_ids}\n",
        "\n",
        "    return inputs"
      ],
      "id": "alike-above",
      "execution_count": 13,
      "outputs": []
    },
    {
      "cell_type": "code",
      "metadata": {
        "execution": {
          "iopub.execute_input": "2021-06-16T19:15:53.617674Z",
          "iopub.status.busy": "2021-06-16T19:15:53.617057Z",
          "iopub.status.idle": "2021-06-16T19:16:07.968012Z",
          "shell.execute_reply": "2021-06-16T19:16:07.967439Z",
          "shell.execute_reply.started": "2021-06-16T18:57:30.034073Z"
        },
        "papermill": {
          "duration": 14.375898,
          "end_time": "2021-06-16T19:16:07.968173",
          "exception": false,
          "start_time": "2021-06-16T19:15:53.592275",
          "status": "completed"
        },
        "tags": [],
        "id": "transsexual-translation"
      },
      "source": [
        "train_input = bert_encode(train.premise.values, train.hypothesis.values, tokenizer)"
      ],
      "id": "transsexual-translation",
      "execution_count": 14,
      "outputs": []
    },
    {
      "cell_type": "code",
      "metadata": {
        "execution": {
          "iopub.execute_input": "2021-06-16T19:16:08.022572Z",
          "iopub.status.busy": "2021-06-16T19:16:08.021848Z",
          "iopub.status.idle": "2021-06-16T19:16:08.024571Z",
          "shell.execute_reply": "2021-06-16T19:16:08.025063Z",
          "shell.execute_reply.started": "2021-06-16T18:58:36.325395Z"
        },
        "papermill": {
          "duration": 0.033943,
          "end_time": "2021-06-16T19:16:08.025253",
          "exception": false,
          "start_time": "2021-06-16T19:16:07.991310",
          "status": "completed"
        },
        "tags": [],
        "id": "challenging-tender"
      },
      "source": [
        "\n",
        "\n",
        "def build_model():\n",
        "    bert_encoder = TFBertModel.from_pretrained(model_name)\n",
        "    input_word_ids = tf.keras.Input(shape = (None,),dtype=tf.int32, name=\"input_word_ids\")\n",
        "    input_mask = tf.keras.Input(shape = (None,),dtype=tf.int32, name=\"input_mask\")\n",
        "    input_type_ids = tf.keras.Input(shape = (None,),dtype=tf.int32, name=\"input_type_ids\")\n",
        "    \n",
        "    embedding = bert_encoder([input_word_ids, input_mask, input_type_ids])[0]\n",
        "    output = tf.keras.layers.Dense(3, activation='softmax')(embedding[:,0,:])\n",
        "    \n",
        "    model = tf.keras.Model(inputs=[input_word_ids, input_mask, input_type_ids], outputs=output)\n",
        "    model.compile(tf.keras.optimizers.Adam(lr=1e-5), loss='sparse_categorical_crossentropy', metrics=['accuracy'])\n",
        "    \n",
        "    return model"
      ],
      "id": "challenging-tender",
      "execution_count": 15,
      "outputs": []
    },
    {
      "cell_type": "code",
      "metadata": {
        "execution": {
          "iopub.execute_input": "2021-06-16T19:16:08.077662Z",
          "iopub.status.busy": "2021-06-16T19:16:08.075832Z",
          "iopub.status.idle": "2021-06-16T19:17:29.662352Z",
          "shell.execute_reply": "2021-06-16T19:17:29.661522Z",
          "shell.execute_reply.started": "2021-06-16T18:58:40.191937Z"
        },
        "papermill": {
          "duration": 81.614146,
          "end_time": "2021-06-16T19:17:29.662522",
          "exception": false,
          "start_time": "2021-06-16T19:16:08.048376",
          "status": "completed"
        },
        "tags": [],
        "colab": {
          "base_uri": "https://localhost:8080/"
        },
        "id": "strategic-compatibility",
        "outputId": "842efddc-d2c3-48b2-975d-48553fa92f56"
      },
      "source": [
        "with strategy.scope():\n",
        "    model = build_model()\n",
        "    model.summary()"
      ],
      "id": "strategic-compatibility",
      "execution_count": 16,
      "outputs": [
        {
          "output_type": "stream",
          "name": "stderr",
          "text": [
            "Some layers from the model checkpoint at bert-base-multilingual-cased were not used when initializing TFBertModel: ['nsp___cls', 'mlm___cls']\n",
            "- This IS expected if you are initializing TFBertModel from the checkpoint of a model trained on another task or with another architecture (e.g. initializing a BertForSequenceClassification model from a BertForPreTraining model).\n",
            "- This IS NOT expected if you are initializing TFBertModel from the checkpoint of a model that you expect to be exactly identical (initializing a BertForSequenceClassification model from a BertForSequenceClassification model).\n",
            "All the layers of TFBertModel were initialized from the model checkpoint at bert-base-multilingual-cased.\n",
            "If your task is similar to the task the model of the checkpoint was trained on, you can already use TFBertModel for predictions without further training.\n"
          ]
        },
        {
          "output_type": "stream",
          "name": "stdout",
          "text": [
            "Model: \"model\"\n",
            "__________________________________________________________________________________________________\n",
            " Layer (type)                   Output Shape         Param #     Connected to                     \n",
            "==================================================================================================\n",
            " input_word_ids (InputLayer)    [(None, None)]       0           []                               \n",
            "                                                                                                  \n",
            " input_mask (InputLayer)        [(None, None)]       0           []                               \n",
            "                                                                                                  \n",
            " input_type_ids (InputLayer)    [(None, None)]       0           []                               \n",
            "                                                                                                  \n",
            " tf_bert_model (TFBertModel)    TFBaseModelOutputWi  177853440   ['input_word_ids[0][0]',         \n",
            "                                thPoolingAndCrossAt               'input_mask[0][0]',             \n",
            "                                tentions(last_hidde               'input_type_ids[0][0]']         \n",
            "                                n_state=(None, None                                               \n",
            "                                , 768),                                                           \n",
            "                                 pooler_output=(Non                                               \n",
            "                                e, 768),                                                          \n",
            "                                 past_key_values=No                                               \n",
            "                                ne, hidden_states=N                                               \n",
            "                                one, attentions=Non                                               \n",
            "                                e, cross_attentions                                               \n",
            "                                =None)                                                            \n",
            "                                                                                                  \n",
            " tf.__operators__.getitem (Slic  (None, 768)         0           ['tf_bert_model[0][0]']          \n",
            " ingOpLambda)                                                                                     \n",
            "                                                                                                  \n",
            " dense (Dense)                  (None, 3)            2307        ['tf.__operators__.getitem[0][0]'\n",
            "                                                                 ]                                \n",
            "                                                                                                  \n",
            "==================================================================================================\n",
            "Total params: 177,855,747\n",
            "Trainable params: 177,855,747\n",
            "Non-trainable params: 0\n",
            "__________________________________________________________________________________________________\n"
          ]
        },
        {
          "output_type": "stream",
          "name": "stderr",
          "text": [
            "/usr/local/lib/python3.7/dist-packages/keras/optimizer_v2/adam.py:105: UserWarning: The `lr` argument is deprecated, use `learning_rate` instead.\n",
            "  super(Adam, self).__init__(name, **kwargs)\n"
          ]
        }
      ]
    },
    {
      "cell_type": "code",
      "metadata": {
        "execution": {
          "iopub.execute_input": "2021-06-16T19:17:29.724370Z",
          "iopub.status.busy": "2021-06-16T19:17:29.723600Z",
          "iopub.status.idle": "2021-06-16T19:20:03.447223Z",
          "shell.execute_reply": "2021-06-16T19:20:03.447837Z",
          "shell.execute_reply.started": "2021-06-16T18:59:14.005563Z"
        },
        "papermill": {
          "duration": 153.758022,
          "end_time": "2021-06-16T19:20:03.448241",
          "exception": false,
          "start_time": "2021-06-16T19:17:29.690219",
          "status": "completed"
        },
        "tags": [],
        "colab": {
          "base_uri": "https://localhost:8080/"
        },
        "id": "virgin-madness",
        "outputId": "2f6f9cbd-ff10-4bb2-d0de-b3db0b6a82d7"
      },
      "source": [
        "model.fit(train_input, train.label.values, epochs = 3, verbose = 1, batch_size = 16, validation_split = 0.2)"
      ],
      "id": "virgin-madness",
      "execution_count": 17,
      "outputs": [
        {
          "output_type": "stream",
          "name": "stdout",
          "text": [
            "Epoch 1/3\n",
            "WARNING:tensorflow:Gradients do not exist for variables ['tf_bert_model/bert/pooler/dense/kernel:0', 'tf_bert_model/bert/pooler/dense/bias:0'] when minimizing the loss. If you're using `model.compile()`, did you forget to provide a `loss`argument?\n"
          ]
        },
        {
          "output_type": "stream",
          "name": "stderr",
          "text": [
            "WARNING:tensorflow:Gradients do not exist for variables ['tf_bert_model/bert/pooler/dense/kernel:0', 'tf_bert_model/bert/pooler/dense/bias:0'] when minimizing the loss. If you're using `model.compile()`, did you forget to provide a `loss`argument?\n"
          ]
        },
        {
          "output_type": "stream",
          "name": "stdout",
          "text": [
            "WARNING:tensorflow:From /usr/local/lib/python3.7/dist-packages/keras/engine/training.py:2970: StrategyBase.unwrap (from tensorflow.python.distribute.distribute_lib) is deprecated and will be removed in a future version.\n",
            "Instructions for updating:\n",
            "use `experimental_local_results` instead.\n"
          ]
        },
        {
          "output_type": "stream",
          "name": "stderr",
          "text": [
            "WARNING:tensorflow:From /usr/local/lib/python3.7/dist-packages/keras/engine/training.py:2970: StrategyBase.unwrap (from tensorflow.python.distribute.distribute_lib) is deprecated and will be removed in a future version.\n",
            "Instructions for updating:\n",
            "use `experimental_local_results` instead.\n"
          ]
        },
        {
          "output_type": "stream",
          "name": "stdout",
          "text": [
            "WARNING:tensorflow:Gradients do not exist for variables ['tf_bert_model/bert/pooler/dense/kernel:0', 'tf_bert_model/bert/pooler/dense/bias:0'] when minimizing the loss. If you're using `model.compile()`, did you forget to provide a `loss`argument?\n"
          ]
        },
        {
          "output_type": "stream",
          "name": "stderr",
          "text": [
            "WARNING:tensorflow:Gradients do not exist for variables ['tf_bert_model/bert/pooler/dense/kernel:0', 'tf_bert_model/bert/pooler/dense/bias:0'] when minimizing the loss. If you're using `model.compile()`, did you forget to provide a `loss`argument?\n"
          ]
        },
        {
          "output_type": "stream",
          "name": "stdout",
          "text": [
            "606/606 [==============================] - ETA: 0s - loss: 0.9656 - accuracy: 0.5282"
          ]
        },
        {
          "output_type": "stream",
          "name": "stderr",
          "text": [
            "INFO:absl:TPU has inputs with dynamic shapes: [<tf.Tensor 'Const:0' shape=() dtype=int32>, <tf.Tensor 'cond/Identity:0' shape=(None, 259) dtype=int32>, <tf.Tensor 'cond/Identity_8:0' shape=(None, 259) dtype=int32>, <tf.Tensor 'cond/Identity_16:0' shape=(None, 259) dtype=int32>, <tf.Tensor 'cond/Identity_24:0' shape=(None,) dtype=int64>]\n"
          ]
        },
        {
          "output_type": "stream",
          "name": "stdout",
          "text": [
            "606/606 [==============================] - 143s 120ms/step - loss: 0.9656 - accuracy: 0.5282 - val_loss: 0.8126 - val_accuracy: 0.6337\n",
            "Epoch 2/3\n",
            "606/606 [==============================] - 62s 102ms/step - loss: 0.7127 - accuracy: 0.6913 - val_loss: 0.8636 - val_accuracy: 0.6361\n",
            "Epoch 3/3\n",
            "606/606 [==============================] - 62s 103ms/step - loss: 0.5038 - accuracy: 0.7964 - val_loss: 0.8671 - val_accuracy: 0.6646\n"
          ]
        },
        {
          "output_type": "execute_result",
          "data": {
            "text/plain": [
              "<keras.callbacks.History at 0x7f70a1802c90>"
            ]
          },
          "metadata": {},
          "execution_count": 17
        }
      ]
    },
    {
      "cell_type": "code",
      "metadata": {
        "execution": {
          "iopub.execute_input": "2021-06-16T19:20:04.274538Z",
          "iopub.status.busy": "2021-06-16T19:20:04.273843Z",
          "iopub.status.idle": "2021-06-16T19:20:10.583978Z",
          "shell.execute_reply": "2021-06-16T19:20:10.584501Z",
          "shell.execute_reply.started": "2021-06-16T19:02:07.584366Z"
        },
        "papermill": {
          "duration": 6.72572,
          "end_time": "2021-06-16T19:20:10.584706",
          "exception": false,
          "start_time": "2021-06-16T19:20:03.858986",
          "status": "completed"
        },
        "tags": [],
        "id": "international-heath"
      },
      "source": [
        "test = pd.read_csv(\"/content/drive/MyDrive/test.csv\")\n",
        "test_input = bert_encode(test.premise.values, test.hypothesis.values, tokenizer)\n"
      ],
      "id": "international-heath",
      "execution_count": 18,
      "outputs": []
    },
    {
      "cell_type": "code",
      "metadata": {
        "execution": {
          "iopub.execute_input": "2021-06-16T19:20:11.478636Z",
          "iopub.status.busy": "2021-06-16T19:20:11.477823Z",
          "iopub.status.idle": "2021-06-16T19:20:11.482749Z",
          "shell.execute_reply": "2021-06-16T19:20:11.482216Z",
          "shell.execute_reply.started": "2021-06-16T19:02:19.186045Z"
        },
        "papermill": {
          "duration": 0.424802,
          "end_time": "2021-06-16T19:20:11.482943",
          "exception": false,
          "start_time": "2021-06-16T19:20:11.058141",
          "status": "completed"
        },
        "tags": [],
        "colab": {
          "base_uri": "https://localhost:8080/",
          "height": 258
        },
        "id": "compliant-cattle",
        "outputId": "f73d9e4f-ea5b-4616-b3ef-a1f3c8fd16f9"
      },
      "source": [
        "test.head()"
      ],
      "id": "compliant-cattle",
      "execution_count": 19,
      "outputs": [
        {
          "output_type": "execute_result",
          "data": {
            "text/html": [
              "<div>\n",
              "<style scoped>\n",
              "    .dataframe tbody tr th:only-of-type {\n",
              "        vertical-align: middle;\n",
              "    }\n",
              "\n",
              "    .dataframe tbody tr th {\n",
              "        vertical-align: top;\n",
              "    }\n",
              "\n",
              "    .dataframe thead th {\n",
              "        text-align: right;\n",
              "    }\n",
              "</style>\n",
              "<table border=\"1\" class=\"dataframe\">\n",
              "  <thead>\n",
              "    <tr style=\"text-align: right;\">\n",
              "      <th></th>\n",
              "      <th>id</th>\n",
              "      <th>premise</th>\n",
              "      <th>hypothesis</th>\n",
              "      <th>lang_abv</th>\n",
              "      <th>language</th>\n",
              "    </tr>\n",
              "  </thead>\n",
              "  <tbody>\n",
              "    <tr>\n",
              "      <th>0</th>\n",
              "      <td>c6d58c3f69</td>\n",
              "      <td>بکس، کیسی، راہیل، یسعیاہ، کیلی، کیلی، اور کولم...</td>\n",
              "      <td>کیسی کے لئے کوئی یادگار نہیں ہوگا, کولمین ہائی...</td>\n",
              "      <td>ur</td>\n",
              "      <td>Urdu</td>\n",
              "    </tr>\n",
              "    <tr>\n",
              "      <th>1</th>\n",
              "      <td>cefcc82292</td>\n",
              "      <td>هذا هو ما تم نصحنا به.</td>\n",
              "      <td>عندما يتم إخبارهم بما يجب عليهم فعله ، فشلت ال...</td>\n",
              "      <td>ar</td>\n",
              "      <td>Arabic</td>\n",
              "    </tr>\n",
              "    <tr>\n",
              "      <th>2</th>\n",
              "      <td>e98005252c</td>\n",
              "      <td>et cela est en grande partie dû au fait que le...</td>\n",
              "      <td>Les mères se droguent.</td>\n",
              "      <td>fr</td>\n",
              "      <td>French</td>\n",
              "    </tr>\n",
              "    <tr>\n",
              "      <th>3</th>\n",
              "      <td>58518c10ba</td>\n",
              "      <td>与城市及其他公民及社区组织代表就IMA的艺术发展进行对话&amp;amp</td>\n",
              "      <td>IMA与其他组织合作，因为它们都依靠共享资金。</td>\n",
              "      <td>zh</td>\n",
              "      <td>Chinese</td>\n",
              "    </tr>\n",
              "    <tr>\n",
              "      <th>4</th>\n",
              "      <td>c32b0d16df</td>\n",
              "      <td>Она все еще была там.</td>\n",
              "      <td>Мы думали, что она ушла, однако, она осталась.</td>\n",
              "      <td>ru</td>\n",
              "      <td>Russian</td>\n",
              "    </tr>\n",
              "  </tbody>\n",
              "</table>\n",
              "</div>"
            ],
            "text/plain": [
              "           id  ... language\n",
              "0  c6d58c3f69  ...     Urdu\n",
              "1  cefcc82292  ...   Arabic\n",
              "2  e98005252c  ...   French\n",
              "3  58518c10ba  ...  Chinese\n",
              "4  c32b0d16df  ...  Russian\n",
              "\n",
              "[5 rows x 5 columns]"
            ]
          },
          "metadata": {},
          "execution_count": 19
        }
      ]
    },
    {
      "cell_type": "code",
      "metadata": {
        "execution": {
          "iopub.execute_input": "2021-06-16T19:20:12.297559Z",
          "iopub.status.busy": "2021-06-16T19:20:12.296403Z",
          "iopub.status.idle": "2021-06-16T19:20:28.523677Z",
          "shell.execute_reply": "2021-06-16T19:20:28.524232Z",
          "shell.execute_reply.started": "2021-06-16T19:02:26.178582Z"
        },
        "papermill": {
          "duration": 16.637851,
          "end_time": "2021-06-16T19:20:28.524487",
          "exception": false,
          "start_time": "2021-06-16T19:20:11.886636",
          "status": "completed"
        },
        "tags": [],
        "colab": {
          "base_uri": "https://localhost:8080/"
        },
        "id": "concrete-canberra",
        "outputId": "10e9d9f2-9365-4f3a-df2e-ad6ef67a96a4"
      },
      "source": [
        "predictions = [np.argmax(i) for i in model.predict(test_input)]"
      ],
      "id": "concrete-canberra",
      "execution_count": 20,
      "outputs": [
        {
          "output_type": "stream",
          "name": "stderr",
          "text": [
            "INFO:absl:TPU has inputs with dynamic shapes: [<tf.Tensor 'Const:0' shape=() dtype=int32>, <tf.Tensor 'cond/Identity:0' shape=(None, 234) dtype=int32>, <tf.Tensor 'cond/Identity_8:0' shape=(None, 234) dtype=int32>, <tf.Tensor 'cond/Identity_16:0' shape=(None, 234) dtype=int32>]\n"
          ]
        }
      ]
    },
    {
      "cell_type": "code",
      "metadata": {
        "execution": {
          "iopub.execute_input": "2021-06-16T19:20:29.330750Z",
          "iopub.status.busy": "2021-06-16T19:20:29.330151Z",
          "iopub.status.idle": "2021-06-16T19:20:29.339488Z",
          "shell.execute_reply": "2021-06-16T19:20:29.339969Z",
          "shell.execute_reply.started": "2021-06-16T19:02:47.537748Z"
        },
        "papermill": {
          "duration": 0.413524,
          "end_time": "2021-06-16T19:20:29.340153",
          "exception": false,
          "start_time": "2021-06-16T19:20:28.926629",
          "status": "completed"
        },
        "tags": [],
        "id": "ranging-congress"
      },
      "source": [
        "submission = test.id.copy().to_frame()\n",
        "submission['prediction'] = predictions"
      ],
      "id": "ranging-congress",
      "execution_count": 21,
      "outputs": []
    },
    {
      "cell_type": "code",
      "metadata": {
        "execution": {
          "iopub.execute_input": "2021-06-16T19:20:30.234908Z",
          "iopub.status.busy": "2021-06-16T19:20:30.234212Z",
          "iopub.status.idle": "2021-06-16T19:20:30.244566Z",
          "shell.execute_reply": "2021-06-16T19:20:30.243930Z",
          "shell.execute_reply.started": "2021-06-16T19:02:51.439818Z"
        },
        "papermill": {
          "duration": 0.503538,
          "end_time": "2021-06-16T19:20:30.244710",
          "exception": false,
          "start_time": "2021-06-16T19:20:29.741172",
          "status": "completed"
        },
        "tags": [],
        "colab": {
          "base_uri": "https://localhost:8080/",
          "height": 206
        },
        "id": "medical-illustration",
        "outputId": "306f7065-0c84-4a6e-d3ed-fb538c2a91ec"
      },
      "source": [
        "submission.head()"
      ],
      "id": "medical-illustration",
      "execution_count": 22,
      "outputs": [
        {
          "output_type": "execute_result",
          "data": {
            "text/html": [
              "<div>\n",
              "<style scoped>\n",
              "    .dataframe tbody tr th:only-of-type {\n",
              "        vertical-align: middle;\n",
              "    }\n",
              "\n",
              "    .dataframe tbody tr th {\n",
              "        vertical-align: top;\n",
              "    }\n",
              "\n",
              "    .dataframe thead th {\n",
              "        text-align: right;\n",
              "    }\n",
              "</style>\n",
              "<table border=\"1\" class=\"dataframe\">\n",
              "  <thead>\n",
              "    <tr style=\"text-align: right;\">\n",
              "      <th></th>\n",
              "      <th>id</th>\n",
              "      <th>prediction</th>\n",
              "    </tr>\n",
              "  </thead>\n",
              "  <tbody>\n",
              "    <tr>\n",
              "      <th>0</th>\n",
              "      <td>c6d58c3f69</td>\n",
              "      <td>2</td>\n",
              "    </tr>\n",
              "    <tr>\n",
              "      <th>1</th>\n",
              "      <td>cefcc82292</td>\n",
              "      <td>1</td>\n",
              "    </tr>\n",
              "    <tr>\n",
              "      <th>2</th>\n",
              "      <td>e98005252c</td>\n",
              "      <td>0</td>\n",
              "    </tr>\n",
              "    <tr>\n",
              "      <th>3</th>\n",
              "      <td>58518c10ba</td>\n",
              "      <td>1</td>\n",
              "    </tr>\n",
              "    <tr>\n",
              "      <th>4</th>\n",
              "      <td>c32b0d16df</td>\n",
              "      <td>0</td>\n",
              "    </tr>\n",
              "  </tbody>\n",
              "</table>\n",
              "</div>"
            ],
            "text/plain": [
              "           id  prediction\n",
              "0  c6d58c3f69           2\n",
              "1  cefcc82292           1\n",
              "2  e98005252c           0\n",
              "3  58518c10ba           1\n",
              "4  c32b0d16df           0"
            ]
          },
          "metadata": {},
          "execution_count": 22
        }
      ]
    },
    {
      "cell_type": "code",
      "metadata": {
        "execution": {
          "iopub.execute_input": "2021-06-16T19:20:31.055770Z",
          "iopub.status.busy": "2021-06-16T19:20:31.055060Z",
          "iopub.status.idle": "2021-06-16T19:20:31.074229Z",
          "shell.execute_reply": "2021-06-16T19:20:31.073563Z",
          "shell.execute_reply.started": "2021-06-16T19:02:56.250298Z"
        },
        "papermill": {
          "duration": 0.427442,
          "end_time": "2021-06-16T19:20:31.074589",
          "exception": false,
          "start_time": "2021-06-16T19:20:30.647147",
          "status": "completed"
        },
        "tags": [],
        "id": "manufactured-porter"
      },
      "source": [
        "submission.to_csv(\"submission1.csv\", index = False)"
      ],
      "id": "manufactured-porter",
      "execution_count": 23,
      "outputs": []
    }
  ]
}