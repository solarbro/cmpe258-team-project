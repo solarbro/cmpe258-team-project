{
  "nbformat": 4,
  "nbformat_minor": 0,
  "metadata": {
    "kernelspec": {
      "display_name": "Python 3",
      "language": "python",
      "name": "python3"
    },
    "language_info": {
      "codemirror_mode": {
        "name": "ipython",
        "version": 3
      },
      "file_extension": ".py",
      "mimetype": "text/x-python",
      "name": "python",
      "nbconvert_exporter": "python",
      "pygments_lexer": "ipython3",
      "version": "3.7.6"
    },
    "colab": {
      "name": "SPC_tfidf.ipynb",
      "provenance": []
    }
  },
  "cells": [
    {
      "cell_type": "markdown",
      "metadata": {
        "id": "UFtXb6_EfrXQ"
      },
      "source": [
        "# SENTENCE PAIRS CLASSIFICATION: GLOVE IMPLEMENTATION"
      ]
    },
    {
      "cell_type": "markdown",
      "metadata": {
        "id": "gBvst6m2frXT"
      },
      "source": [
        "### 1. DATA EXPLORATION"
      ]
    },
    {
      "cell_type": "code",
      "metadata": {
        "id": "qL-p188_frXU"
      },
      "source": [
        "import numpy as np\n",
        "import pandas as pd\n",
        "import csv\n",
        "import random\n",
        "\n",
        "# Import packages for pre-processing\n",
        "import nltk\n",
        "from tqdm import tqdm\n",
        "from nltk.tokenize import word_tokenize\n",
        "from nltk.stem import WordNetLemmatizer\n",
        "import re\n",
        "\n",
        "# Tf-idf\n",
        "from sklearn.feature_extraction.text import TfidfVectorizer\n",
        "\n",
        "# Cosine Similarity \n",
        "from sklearn.metrics.pairwise import cosine_similarity\n",
        "from sklearn.metrics.pairwise import euclidean_distances\n",
        "import matplotlib.pyplot as plt\n",
        "import seaborn as sb\n",
        "\n",
        "import warnings\n",
        "warnings.filterwarnings('ignore')\n",
        "\n",
        "# Data Modelling\n",
        "import time\n",
        "from sklearn.svm import SVC\n",
        "from sklearn.metrics import accuracy_score, classification_report\n",
        "from sklearn.model_selection import GridSearchCV\n",
        "from sklearn.linear_model import LogisticRegression\n",
        "from sklearn.neighbors import KNeighborsClassifier\n",
        "from sklearn.ensemble import RandomForestClassifier\n"
      ],
      "execution_count": 1,
      "outputs": []
    },
    {
      "cell_type": "code",
      "metadata": {
        "colab": {
          "base_uri": "https://localhost:8080/"
        },
        "id": "DrD68Hpr3Say",
        "outputId": "b302490f-0c6c-44af-d3c4-589fc8fba336"
      },
      "source": [
        "# Open drive\n",
        "from google.colab import drive\n",
        "drive.mount('/content/gdrive')"
      ],
      "execution_count": 2,
      "outputs": [
        {
          "output_type": "stream",
          "name": "stdout",
          "text": [
            "Mounted at /content/gdrive\n"
          ]
        }
      ]
    },
    {
      "cell_type": "code",
      "metadata": {
        "colab": {
          "base_uri": "https://localhost:8080/"
        },
        "id": "q2s3L1ru3VIE",
        "outputId": "c7a47b66-9204-415b-df7d-6b81a37dacd9"
      },
      "source": [
        "# Install kaggle\n",
        "!pip install kaggle\n",
        "# Setup kaggle config dir\n",
        "!mkdir ~/.kaggle\n",
        "# Copy kaggle API token to config dir\n",
        "!cp ./gdrive/MyDrive/kaggle.json ~/.kaggle/\n",
        "# Set access rights\n",
        "!chmod 600 ~/.kaggle/kaggle.json"
      ],
      "execution_count": 3,
      "outputs": [
        {
          "output_type": "stream",
          "name": "stdout",
          "text": [
            "Requirement already satisfied: kaggle in /usr/local/lib/python3.7/dist-packages (1.5.12)\n",
            "Requirement already satisfied: requests in /usr/local/lib/python3.7/dist-packages (from kaggle) (2.23.0)\n",
            "Requirement already satisfied: certifi in /usr/local/lib/python3.7/dist-packages (from kaggle) (2021.10.8)\n",
            "Requirement already satisfied: six>=1.10 in /usr/local/lib/python3.7/dist-packages (from kaggle) (1.15.0)\n",
            "Requirement already satisfied: python-slugify in /usr/local/lib/python3.7/dist-packages (from kaggle) (5.0.2)\n",
            "Requirement already satisfied: python-dateutil in /usr/local/lib/python3.7/dist-packages (from kaggle) (2.8.2)\n",
            "Requirement already satisfied: urllib3 in /usr/local/lib/python3.7/dist-packages (from kaggle) (1.24.3)\n",
            "Requirement already satisfied: tqdm in /usr/local/lib/python3.7/dist-packages (from kaggle) (4.62.3)\n",
            "Requirement already satisfied: text-unidecode>=1.3 in /usr/local/lib/python3.7/dist-packages (from python-slugify->kaggle) (1.3)\n",
            "Requirement already satisfied: chardet<4,>=3.0.2 in /usr/local/lib/python3.7/dist-packages (from requests->kaggle) (3.0.4)\n",
            "Requirement already satisfied: idna<3,>=2.5 in /usr/local/lib/python3.7/dist-packages (from requests->kaggle) (2.10)\n"
          ]
        }
      ]
    },
    {
      "cell_type": "code",
      "metadata": {
        "colab": {
          "base_uri": "https://localhost:8080/"
        },
        "id": "4-ducpZp3YeD",
        "outputId": "d9ea82e5-9f3e-4c48-adf1-6d0895eeb668"
      },
      "source": [
        "# Download dataset\n",
        "!kaggle competitions download -c contradictory-my-dear-watson"
      ],
      "execution_count": 4,
      "outputs": [
        {
          "output_type": "stream",
          "name": "stdout",
          "text": [
            "Warning: Looks like you're using an outdated API Version, please consider updating (server 1.5.12 / client 1.5.4)\n",
            "Downloading test.csv.zip to /content\n",
            "  0% 0.00/536k [00:00<?, ?B/s]\n",
            "100% 536k/536k [00:00<00:00, 78.6MB/s]\n",
            "Downloading sample_submission.csv to /content\n",
            "  0% 0.00/66.0k [00:00<?, ?B/s]\n",
            "100% 66.0k/66.0k [00:00<00:00, 65.8MB/s]\n",
            "Downloading train.csv.zip to /content\n",
            "  0% 0.00/1.23M [00:00<?, ?B/s]\n",
            "100% 1.23M/1.23M [00:00<00:00, 69.8MB/s]\n"
          ]
        }
      ]
    },
    {
      "cell_type": "code",
      "metadata": {
        "colab": {
          "base_uri": "https://localhost:8080/"
        },
        "id": "3Swxil_23dJ_",
        "outputId": "d345cce6-eb62-4d65-e838-fbb971d6b289"
      },
      "source": [
        "!mkdir data\n",
        "!unzip train.csv.zip -d ./data\n",
        "!unzip test.csv.zip -d ./data"
      ],
      "execution_count": 5,
      "outputs": [
        {
          "output_type": "stream",
          "name": "stdout",
          "text": [
            "Archive:  train.csv.zip\n",
            "  inflating: ./data/train.csv        \n",
            "Archive:  test.csv.zip\n",
            "  inflating: ./data/test.csv         \n"
          ]
        }
      ]
    },
    {
      "cell_type": "code",
      "metadata": {
        "colab": {
          "base_uri": "https://localhost:8080/",
          "height": 206
        },
        "id": "tlem7qFB3g8x",
        "outputId": "9f9a48ab-9ac7-49da-e75e-fe37db854667"
      },
      "source": [
        "# Load the train dataset\n",
        "path = './data/'\n",
        "train_data = pd.read_csv(path + 'train.csv', sep=\",\")\n",
        "train_data = pd.DataFrame(train_data, columns=['premise', 'hypothesis', 'label'])\n",
        "train_data.head()"
      ],
      "execution_count": 6,
      "outputs": [
        {
          "output_type": "execute_result",
          "data": {
            "text/html": [
              "<div>\n",
              "<style scoped>\n",
              "    .dataframe tbody tr th:only-of-type {\n",
              "        vertical-align: middle;\n",
              "    }\n",
              "\n",
              "    .dataframe tbody tr th {\n",
              "        vertical-align: top;\n",
              "    }\n",
              "\n",
              "    .dataframe thead th {\n",
              "        text-align: right;\n",
              "    }\n",
              "</style>\n",
              "<table border=\"1\" class=\"dataframe\">\n",
              "  <thead>\n",
              "    <tr style=\"text-align: right;\">\n",
              "      <th></th>\n",
              "      <th>premise</th>\n",
              "      <th>hypothesis</th>\n",
              "      <th>label</th>\n",
              "    </tr>\n",
              "  </thead>\n",
              "  <tbody>\n",
              "    <tr>\n",
              "      <th>0</th>\n",
              "      <td>and these comments were considered in formulat...</td>\n",
              "      <td>The rules developed in the interim were put to...</td>\n",
              "      <td>0</td>\n",
              "    </tr>\n",
              "    <tr>\n",
              "      <th>1</th>\n",
              "      <td>These are issues that we wrestle with in pract...</td>\n",
              "      <td>Practice groups are not permitted to work on t...</td>\n",
              "      <td>2</td>\n",
              "    </tr>\n",
              "    <tr>\n",
              "      <th>2</th>\n",
              "      <td>Des petites choses comme celles-là font une di...</td>\n",
              "      <td>J'essayais d'accomplir quelque chose.</td>\n",
              "      <td>0</td>\n",
              "    </tr>\n",
              "    <tr>\n",
              "      <th>3</th>\n",
              "      <td>you know they can't really defend themselves l...</td>\n",
              "      <td>They can't defend themselves because of their ...</td>\n",
              "      <td>0</td>\n",
              "    </tr>\n",
              "    <tr>\n",
              "      <th>4</th>\n",
              "      <td>ในการเล่นบทบาทสมมุติก็เช่นกัน โอกาสที่จะได้แสด...</td>\n",
              "      <td>เด็กสามารถเห็นได้ว่าชาติพันธุ์แตกต่างกันอย่างไร</td>\n",
              "      <td>1</td>\n",
              "    </tr>\n",
              "  </tbody>\n",
              "</table>\n",
              "</div>"
            ],
            "text/plain": [
              "                                             premise  ... label\n",
              "0  and these comments were considered in formulat...  ...     0\n",
              "1  These are issues that we wrestle with in pract...  ...     2\n",
              "2  Des petites choses comme celles-là font une di...  ...     0\n",
              "3  you know they can't really defend themselves l...  ...     0\n",
              "4  ในการเล่นบทบาทสมมุติก็เช่นกัน โอกาสที่จะได้แสด...  ...     1\n",
              "\n",
              "[5 rows x 3 columns]"
            ]
          },
          "metadata": {},
          "execution_count": 6
        }
      ]
    },
    {
      "cell_type": "code",
      "metadata": {
        "colab": {
          "base_uri": "https://localhost:8080/",
          "height": 206
        },
        "id": "z1FdLRcH3l2q",
        "outputId": "0cd9bd22-3e46-4a24-8b01-1ad1d984664e"
      },
      "source": [
        "# Load the test dataset\n",
        "test_data = pd.read_csv(path + 'test.csv', sep=\",\")\n",
        "test_data = pd.DataFrame(test_data, columns=['premise', 'hypothesis'])\n",
        "test_data.head()"
      ],
      "execution_count": 7,
      "outputs": [
        {
          "output_type": "execute_result",
          "data": {
            "text/html": [
              "<div>\n",
              "<style scoped>\n",
              "    .dataframe tbody tr th:only-of-type {\n",
              "        vertical-align: middle;\n",
              "    }\n",
              "\n",
              "    .dataframe tbody tr th {\n",
              "        vertical-align: top;\n",
              "    }\n",
              "\n",
              "    .dataframe thead th {\n",
              "        text-align: right;\n",
              "    }\n",
              "</style>\n",
              "<table border=\"1\" class=\"dataframe\">\n",
              "  <thead>\n",
              "    <tr style=\"text-align: right;\">\n",
              "      <th></th>\n",
              "      <th>premise</th>\n",
              "      <th>hypothesis</th>\n",
              "    </tr>\n",
              "  </thead>\n",
              "  <tbody>\n",
              "    <tr>\n",
              "      <th>0</th>\n",
              "      <td>بکس، کیسی، راہیل، یسعیاہ، کیلی، کیلی، اور کولم...</td>\n",
              "      <td>کیسی کے لئے کوئی یادگار نہیں ہوگا, کولمین ہائی...</td>\n",
              "    </tr>\n",
              "    <tr>\n",
              "      <th>1</th>\n",
              "      <td>هذا هو ما تم نصحنا به.</td>\n",
              "      <td>عندما يتم إخبارهم بما يجب عليهم فعله ، فشلت ال...</td>\n",
              "    </tr>\n",
              "    <tr>\n",
              "      <th>2</th>\n",
              "      <td>et cela est en grande partie dû au fait que le...</td>\n",
              "      <td>Les mères se droguent.</td>\n",
              "    </tr>\n",
              "    <tr>\n",
              "      <th>3</th>\n",
              "      <td>与城市及其他公民及社区组织代表就IMA的艺术发展进行对话&amp;amp</td>\n",
              "      <td>IMA与其他组织合作，因为它们都依靠共享资金。</td>\n",
              "    </tr>\n",
              "    <tr>\n",
              "      <th>4</th>\n",
              "      <td>Она все еще была там.</td>\n",
              "      <td>Мы думали, что она ушла, однако, она осталась.</td>\n",
              "    </tr>\n",
              "  </tbody>\n",
              "</table>\n",
              "</div>"
            ],
            "text/plain": [
              "                                             premise                                         hypothesis\n",
              "0  بکس، کیسی، راہیل، یسعیاہ، کیلی، کیلی، اور کولم...  کیسی کے لئے کوئی یادگار نہیں ہوگا, کولمین ہائی...\n",
              "1                             هذا هو ما تم نصحنا به.  عندما يتم إخبارهم بما يجب عليهم فعله ، فشلت ال...\n",
              "2  et cela est en grande partie dû au fait que le...                             Les mères se droguent.\n",
              "3                   与城市及其他公民及社区组织代表就IMA的艺术发展进行对话&amp                            IMA与其他组织合作，因为它们都依靠共享资金。\n",
              "4                              Она все еще была там.     Мы думали, что она ушла, однако, она осталась."
            ]
          },
          "metadata": {},
          "execution_count": 7
        }
      ]
    },
    {
      "cell_type": "code",
      "metadata": {
        "colab": {
          "base_uri": "https://localhost:8080/"
        },
        "id": "pC8buxeP3twG",
        "outputId": "3f784a24-e144-4607-d20c-f6c313ea9f4c"
      },
      "source": [
        "# Labels distributions\n",
        "print('==Labels train set:==\\n{}'.format(train_data['label'].value_counts()))"
      ],
      "execution_count": 8,
      "outputs": [
        {
          "output_type": "stream",
          "name": "stdout",
          "text": [
            "==Labels train set:==\n",
            "0    4176\n",
            "2    4064\n",
            "1    3880\n",
            "Name: label, dtype: int64\n"
          ]
        }
      ]
    },
    {
      "cell_type": "markdown",
      "metadata": {
        "id": "Ipk1WrV8frXY"
      },
      "source": [
        "### 2. DATA PRE-PROCESSING"
      ]
    },
    {
      "cell_type": "code",
      "metadata": {
        "colab": {
          "base_uri": "https://localhost:8080/"
        },
        "id": "8DQ7ZC5Rf17x",
        "outputId": "cb1841ec-00de-4ddf-9593-d3c8b1a85999"
      },
      "source": [
        "# Download packages\n",
        "nltk.download('punkt')\n",
        "nltk.download('wordnet')"
      ],
      "execution_count": 9,
      "outputs": [
        {
          "output_type": "stream",
          "name": "stdout",
          "text": [
            "[nltk_data] Downloading package punkt to /root/nltk_data...\n",
            "[nltk_data]   Unzipping tokenizers/punkt.zip.\n",
            "[nltk_data] Downloading package wordnet to /root/nltk_data...\n",
            "[nltk_data]   Unzipping corpora/wordnet.zip.\n"
          ]
        },
        {
          "output_type": "execute_result",
          "data": {
            "text/plain": [
              "True"
            ]
          },
          "metadata": {},
          "execution_count": 9
        }
      ]
    },
    {
      "cell_type": "code",
      "metadata": {
        "id": "3dwtS1qEfrXZ"
      },
      "source": [
        "lemmat = WordNetLemmatizer()\n",
        "\n",
        "def clean_text(sentence, lemma=False):    \n",
        "\n",
        "    # Step 1: Transform text to lower case, remove url, some punctuations and long repeated characters \n",
        "    sent = sentence.lower()\n",
        "    sent = re.sub(r'(http:)\\S+', r'', sent)\n",
        "    sent = re.sub(r'[\\.,`=_/#]', r' ', sent)\n",
        "    sent = re.sub(r'(\\w)\\1{2,}', r'\\1\\1', sent)\n",
        "\n",
        "    # Step 2: Find the tokens of each text and apply lemmatization\n",
        "    tokens = word_tokenize(sent)\n",
        "    if lemma: tokens = [lemmat.lemmatize(w) for w in tokens] \n",
        "\n",
        "    return ' '.join(tokens)\n",
        "\n",
        "# Data Cleaning in both sets\n",
        "train_data['clean_sent1'] = train_data['premise'].map(lambda x: clean_text(x, lemma=True))\n",
        "train_data['clean_sent2'] = train_data['hypothesis'].map(lambda x: clean_text(x, lemma=True))\n",
        "\n",
        "\n",
        "test_data['clean_sent1'] = test_data['premise'].map(lambda x: clean_text(x, lemma=True))\n",
        "test_data['clean_sent2'] = test_data['hypothesis'].map(lambda x: clean_text(x, lemma=True))"
      ],
      "execution_count": 10,
      "outputs": []
    },
    {
      "cell_type": "markdown",
      "metadata": {
        "id": "P5QV3xLbfrXa"
      },
      "source": [
        "### 3. TEXT VECTORIZATION"
      ]
    },
    {
      "cell_type": "code",
      "metadata": {
        "id": "R2eUNP1NfrXb"
      },
      "source": [
        "max_features = 300\n",
        "\n",
        "# Fit the vectorizer to the pair of training data and transform it separetely\n",
        "vectorizer = TfidfVectorizer(max_features = max_features, max_df = 0.5)\n",
        "\n",
        "# Join pair of sentences\n",
        "pair_train = [' '.join([s1,s2]) for s1,s2 in train_data[['clean_sent1', 'clean_sent2']].values]\n",
        "train_vec = vectorizer.fit(pair_train)"
      ],
      "execution_count": 11,
      "outputs": []
    },
    {
      "cell_type": "code",
      "metadata": {
        "colab": {
          "base_uri": "https://localhost:8080/"
        },
        "id": "Vt11STHZfrXb",
        "outputId": "b62fda1d-e63f-42f1-cda7-7a435e587601"
      },
      "source": [
        "# Transform sentence independently\n",
        "X_train1 = train_vec.transform(train_data['clean_sent1'].values)\n",
        "X_train2 = train_vec.transform(train_data['clean_sent2'].values)\n",
        "\n",
        "#Vectorize test sentences\n",
        "X_test1 = train_vec.transform(test_data['clean_sent1'].values)\n",
        "X_test2 = train_vec.transform(test_data['clean_sent2'].values)\n",
        "\n",
        "print(X_train1.shape)\n",
        "print(X_train2.shape)"
      ],
      "execution_count": 25,
      "outputs": [
        {
          "output_type": "stream",
          "name": "stdout",
          "text": [
            "(12120, 300)\n",
            "(12120, 300)\n"
          ]
        }
      ]
    },
    {
      "cell_type": "code",
      "metadata": {
        "id": "naqSZPQs5yuQ"
      },
      "source": [
        "# Column with integer labels\n",
        "dict_label = { 0 : 'entailment', 1 : 'neutral', 2 : 'contradiction' }\n",
        "train_data['gold_label'] = train_data['label'].map(lambda x: dict_label[x])"
      ],
      "execution_count": 19,
      "outputs": []
    },
    {
      "cell_type": "markdown",
      "metadata": {
        "id": "agafCagNfrXc"
      },
      "source": [
        "### 4. SENTENCE SIMILARITY"
      ]
    },
    {
      "cell_type": "code",
      "metadata": {
        "id": "VN_LHfdofrXc"
      },
      "source": [
        "# Create a Dictionary of labels with its cosine values\n",
        "def dic_labels(x,y):\n",
        "    \n",
        "    dic = {\n",
        "    'neutral': [],\n",
        "    'entailment': [],\n",
        "    'contradiction': []\n",
        "    }\n",
        "    \n",
        "    for i,j in zip(x,y):\n",
        "        if j == 'entailment':\n",
        "            dic[j].append(i)\n",
        "        elif j == 'neutral':\n",
        "            dic[j].append(i)\n",
        "        else:\n",
        "            dic[j].append(i)\n",
        "    \n",
        "    return dic"
      ],
      "execution_count": 13,
      "outputs": []
    },
    {
      "cell_type": "code",
      "metadata": {
        "colab": {
          "base_uri": "https://localhost:8080/"
        },
        "id": "0FrYt5rT5UAF",
        "outputId": "fc112439-82ef-48ab-fd80-050a3ed1e8c2"
      },
      "source": [
        "train_data['label'].values"
      ],
      "execution_count": 17,
      "outputs": [
        {
          "output_type": "execute_result",
          "data": {
            "text/plain": [
              "array([0, 2, 0, ..., 2, 2, 0])"
            ]
          },
          "metadata": {},
          "execution_count": 17
        }
      ]
    },
    {
      "cell_type": "code",
      "metadata": {
        "id": "Uj9MMq8HfrXc"
      },
      "source": [
        "# Compute distance metrics\n",
        "cosine = lambda x,y: cosine_similarity(x.reshape(1,-1), y.reshape(1,-1)).flatten()[0]\n",
        "euclidean = lambda x,y: euclidean_distances(x.reshape(1,-1), y.reshape(1,-1)).flatten()[0]\n",
        "\n",
        "train_data['dist_cos'] = list(map(cosine, X_train1, X_train2))\n",
        "train_data['dist_euc'] = list(map(euclidean, X_train1, X_train2))\n",
        "\n",
        "dist_cos = dic_labels(train_data['dist_cos'].values, train_data['gold_label'].values)\n",
        "dist_euc = dic_labels(train_data['dist_euc'].values, train_data['gold_label'].values)"
      ],
      "execution_count": 20,
      "outputs": []
    },
    {
      "cell_type": "code",
      "metadata": {
        "colab": {
          "base_uri": "https://localhost:8080/",
          "height": 501
        },
        "id": "jev2D6hTfrXc",
        "outputId": "626652dc-eaa9-4284-d1ae-c49c5eb5fc57"
      },
      "source": [
        "train_data.iloc[:5]"
      ],
      "execution_count": 21,
      "outputs": [
        {
          "output_type": "execute_result",
          "data": {
            "text/html": [
              "<div>\n",
              "<style scoped>\n",
              "    .dataframe tbody tr th:only-of-type {\n",
              "        vertical-align: middle;\n",
              "    }\n",
              "\n",
              "    .dataframe tbody tr th {\n",
              "        vertical-align: top;\n",
              "    }\n",
              "\n",
              "    .dataframe thead th {\n",
              "        text-align: right;\n",
              "    }\n",
              "</style>\n",
              "<table border=\"1\" class=\"dataframe\">\n",
              "  <thead>\n",
              "    <tr style=\"text-align: right;\">\n",
              "      <th></th>\n",
              "      <th>premise</th>\n",
              "      <th>hypothesis</th>\n",
              "      <th>label</th>\n",
              "      <th>clean_sent1</th>\n",
              "      <th>clean_sent2</th>\n",
              "      <th>dist_cos</th>\n",
              "      <th>dist_euc</th>\n",
              "      <th>gold_label</th>\n",
              "    </tr>\n",
              "  </thead>\n",
              "  <tbody>\n",
              "    <tr>\n",
              "      <th>0</th>\n",
              "      <td>and these comments were considered in formulat...</td>\n",
              "      <td>The rules developed in the interim were put to...</td>\n",
              "      <td>0</td>\n",
              "      <td>and these comment were considered in formulati...</td>\n",
              "      <td>the rule developed in the interim were put tog...</td>\n",
              "      <td>0.887788</td>\n",
              "      <td>0.473734</td>\n",
              "      <td>entailment</td>\n",
              "    </tr>\n",
              "    <tr>\n",
              "      <th>1</th>\n",
              "      <td>These are issues that we wrestle with in pract...</td>\n",
              "      <td>Practice groups are not permitted to work on t...</td>\n",
              "      <td>2</td>\n",
              "      <td>these are issue that we wrestle with in practi...</td>\n",
              "      <td>practice group are not permitted to work on th...</td>\n",
              "      <td>0.326311</td>\n",
              "      <td>1.160766</td>\n",
              "      <td>contradiction</td>\n",
              "    </tr>\n",
              "    <tr>\n",
              "      <th>2</th>\n",
              "      <td>Des petites choses comme celles-là font une di...</td>\n",
              "      <td>J'essayais d'accomplir quelque chose.</td>\n",
              "      <td>0</td>\n",
              "      <td>de petite choses comme celles-là font une diff...</td>\n",
              "      <td>j'essayais d'accomplir quelque chose</td>\n",
              "      <td>0.000000</td>\n",
              "      <td>1.000000</td>\n",
              "      <td>entailment</td>\n",
              "    </tr>\n",
              "    <tr>\n",
              "      <th>3</th>\n",
              "      <td>you know they can't really defend themselves l...</td>\n",
              "      <td>They can't defend themselves because of their ...</td>\n",
              "      <td>0</td>\n",
              "      <td>you know they ca n't really defend themselves ...</td>\n",
              "      <td>they ca n't defend themselves because of their...</td>\n",
              "      <td>0.281338</td>\n",
              "      <td>1.198885</td>\n",
              "      <td>entailment</td>\n",
              "    </tr>\n",
              "    <tr>\n",
              "      <th>4</th>\n",
              "      <td>ในการเล่นบทบาทสมมุติก็เช่นกัน โอกาสที่จะได้แสด...</td>\n",
              "      <td>เด็กสามารถเห็นได้ว่าชาติพันธุ์แตกต่างกันอย่างไร</td>\n",
              "      <td>1</td>\n",
              "      <td>ในการเล่นบทบาทสมมุติก็เช่นกัน โอกาสที่จะได้แสด...</td>\n",
              "      <td>เด็กสามารถเห็นได้ว่าชาติพันธุ์แตกต่างกันอย่างไร</td>\n",
              "      <td>0.000000</td>\n",
              "      <td>0.000000</td>\n",
              "      <td>neutral</td>\n",
              "    </tr>\n",
              "  </tbody>\n",
              "</table>\n",
              "</div>"
            ],
            "text/plain": [
              "                                             premise  ...     gold_label\n",
              "0  and these comments were considered in formulat...  ...     entailment\n",
              "1  These are issues that we wrestle with in pract...  ...  contradiction\n",
              "2  Des petites choses comme celles-là font une di...  ...     entailment\n",
              "3  you know they can't really defend themselves l...  ...     entailment\n",
              "4  ในการเล่นบทบาทสมมุติก็เช่นกัน โอกาสที่จะได้แสด...  ...        neutral\n",
              "\n",
              "[5 rows x 8 columns]"
            ]
          },
          "metadata": {},
          "execution_count": 21
        }
      ]
    },
    {
      "cell_type": "code",
      "metadata": {
        "colab": {
          "base_uri": "https://localhost:8080/",
          "height": 315
        },
        "id": "Nf2ony54frXd",
        "outputId": "4dc6f157-7b48-449e-9168-7845d1926ec0"
      },
      "source": [
        "# Cosine scores distribution by labels\n",
        "metric = ['Cosine', 'Euclidean']\n",
        "results = [dist_cos, dist_euc]\n",
        "fig, ax = plt.subplots(1,2, figsize=(15,5))\n",
        "\n",
        "for i in range(0,2):\n",
        "    sb.distplot(results[i]['neutral'], hist=False, ax=ax[i])\n",
        "    sb.distplot(results[i]['entailment'], hist=False, color='green', ax=ax[i])\n",
        "    sb.distplot(results[i]['contradiction'], hist=False, color='red', ax=ax[i])\n",
        "    ax[i].set_title(metric[i] + ' Distribution by labels')\n",
        "\n",
        "plt.show()\n"
      ],
      "execution_count": 22,
      "outputs": [
        {
          "output_type": "display_data",
          "data": {
            "image/png": "[encoded data removed]",
            "text/plain": [
              "<Figure size 1080x360 with 2 Axes>"
            ]
          },
          "metadata": {
            "needs_background": "light"
          }
        }
      ]
    },
    {
      "cell_type": "markdown",
      "metadata": {
        "id": "pS2HqJe5frXd"
      },
      "source": [
        "## 5. DATA MODELING. MULTI-CLASSIFICATION PROBLEM"
      ]
    },
    {
      "cell_type": "code",
      "metadata": {
        "colab": {
          "base_uri": "https://localhost:8080/"
        },
        "id": "9AdJN3RafrXd",
        "outputId": "b66d61f6-e92a-4142-cd32-27cfe98b1f2a"
      },
      "source": [
        "# Transform saprse matrix to numpy\n",
        "X_train1 = X_train1.todense().A\n",
        "X_train2 = X_train2.todense().A\n",
        "\n",
        "X_test1 = X_test1.todense().A\n",
        "X_test2 = X_test2.todense().A\n",
        "\n",
        "# The approach used to represent the input is going to be substraction (A sent_vector - B sent_vector)\n",
        "\n",
        "X_train = []\n",
        "N,_ = X_train1.shape\n",
        "M,_ = X_test1.shape\n",
        "\n",
        "for i in range(0,N):\n",
        "    subs = X_train1[i] - X_train2[i]\n",
        "    X_train.append(subs)\n",
        "print('X_train Length:', len(X_train))\n",
        "    \n",
        "X_test = []\n",
        "for i in range(0,M):\n",
        "    subs = X_test1[i] - X_test2[i]\n",
        "    X_test.append(subs)\n",
        "\n",
        "\n",
        "y_train = np.array(train_data['label'].values)\n",
        "#y_test = np.array(test_data['label'].values)\n",
        "print('y_train Shape:', y_train.shape)"
      ],
      "execution_count": 26,
      "outputs": [
        {
          "output_type": "stream",
          "name": "stdout",
          "text": [
            "X_train Length: 12120\n",
            "y_train Shape: (12120,)\n"
          ]
        }
      ]
    },
    {
      "cell_type": "code",
      "metadata": {
        "id": "P7VDkJYFfrXd"
      },
      "source": [
        "class EstimatorSelectionHelper:\n",
        "    \n",
        "    def __init__(self, models, params):\n",
        "        self.models = models\n",
        "        self.params = params\n",
        "        self.keys = models.keys() # list of models' names\n",
        "        self.grid_searches = {} ## empty dictionary for the Grid.fit of each model\n",
        "    \n",
        "    def fit(self, X, y, **grid_kwargs):\n",
        "        for key in self.keys:\n",
        "            print('Running GridSearchCV for %s.' % key)\n",
        "            model = self.models[key]\n",
        "            params = self.params[key]\n",
        "            grid_search = GridSearchCV(model, params, **grid_kwargs, cv=3)\n",
        "            grid_search.fit(X, y)\n",
        "            self.grid_searches[key] = grid_search ## fitting output from gird_search\n",
        "        print('Done.')\n",
        "    \n",
        "    def score_summary(self, sort_by='mean_test_score'):\n",
        "        frames = []\n",
        "        for name, grid_search in self.grid_searches.items():\n",
        "            frame = pd.DataFrame(grid_search.cv_results_) # The results for every combination of param\n",
        "            frame = frame.filter(regex='^(?!.*param_).*$') # remove columns about GRID parameters\n",
        "            frame['estimator'] = len(frame)*[name] # add the name of the model for every combo \n",
        "            frames.append(frame)\n",
        "        df = pd.concat(frames) # final dict of all the training that the grid model has done\n",
        "        \n",
        "        df = df.sort_values([sort_by], ascending=False)\n",
        "        df = df.reset_index()\n",
        "        df = df.drop(['rank_test_score', 'index'], 1)\n",
        "        \n",
        "        # Reorder the columns so estimator is the first one\n",
        "        columns = df.columns.tolist() \n",
        "        columns.remove('estimator') \n",
        "        columns = ['estimator']+columns \n",
        "        df = df[columns]\n",
        "        return df"
      ],
      "execution_count": 27,
      "outputs": []
    },
    {
      "cell_type": "code",
      "metadata": {
        "id": "0BrP1hjWfrXe"
      },
      "source": [
        "models = {\n",
        "    'LogisticRegression': LogisticRegression(n_jobs=-1),\n",
        "    'kNN': KNeighborsClassifier(n_jobs=-1),\n",
        "    'SVC': SVC(),\n",
        "    'RandomForestClassifier': RandomForestClassifier(n_jobs=-1)\n",
        "}\n",
        "\n",
        "params = {\n",
        "    'LogisticRegression': {'solver' : ['newton-cg', 'saga', 'sag'],\n",
        "                          'C' : np.logspace(-10, 0, 10)\n",
        "                          },\n",
        "    'kNN': {'n_neighbors' : [3, 5, 10],\n",
        "           'weights': [\"uniform\", \"distance\"]\n",
        "           },\n",
        "    'SVC': {'C': [0.1, 1, 10],\n",
        "              'gamma': ['auto', 'scale']\n",
        "           },\n",
        "    'RandomForestClassifier': {'n_estimators': [10,50,100],\n",
        "              'criterion': ['gini', 'entropy']\n",
        "            }\n",
        "}"
      ],
      "execution_count": 28,
      "outputs": []
    },
    {
      "cell_type": "code",
      "metadata": {
        "colab": {
          "base_uri": "https://localhost:8080/"
        },
        "id": "5ZysY1JZfrXe",
        "outputId": "c9c473f8-da20-4a78-8fc7-0651049237a2"
      },
      "source": [
        "t0 = time.time()\n",
        "\n",
        "combined_results=pd.DataFrame()\n",
        "\n",
        "helper = EstimatorSelectionHelper(models, params)\n",
        "\n",
        "helper.fit(X_train, y_train, scoring='accuracy')\n",
        "results = helper.score_summary()\n",
        "combined_results = pd.concat([combined_results, results], ignore_index=True)\n",
        "\n",
        "print('Time in minutes:', (time.time() - t0)/60)"
      ],
      "execution_count": 29,
      "outputs": [
        {
          "output_type": "stream",
          "name": "stdout",
          "text": [
            "Running GridSearchCV for LogisticRegression.\n",
            "Running GridSearchCV for kNN.\n",
            "Running GridSearchCV for SVC.\n",
            "Running GridSearchCV for RandomForestClassifier.\n",
            "Done.\n",
            "Time in minutes: 18.315337447325387\n"
          ]
        }
      ]
    },
    {
      "cell_type": "code",
      "metadata": {
        "colab": {
          "base_uri": "https://localhost:8080/",
          "height": 467
        },
        "id": "8as9AfyrfrXe",
        "outputId": "33f6e808-6b63-4a06-fc74-57320d2a24d8"
      },
      "source": [
        "# Display the results dataframe\n",
        "results = results.sort_values(by='mean_test_score', ascending=False)\n",
        "results = results.reset_index(drop=True)\n",
        "cols = ['estimator', 'params', 'mean_test_score', 'mean_fit_time', 'mean_score_time']\n",
        "results = results[cols]\n",
        "results.head(10)"
      ],
      "execution_count": 30,
      "outputs": [
        {
          "output_type": "execute_result",
          "data": {
            "text/html": [
              "<div>\n",
              "<style scoped>\n",
              "    .dataframe tbody tr th:only-of-type {\n",
              "        vertical-align: middle;\n",
              "    }\n",
              "\n",
              "    .dataframe tbody tr th {\n",
              "        vertical-align: top;\n",
              "    }\n",
              "\n",
              "    .dataframe thead th {\n",
              "        text-align: right;\n",
              "    }\n",
              "</style>\n",
              "<table border=\"1\" class=\"dataframe\">\n",
              "  <thead>\n",
              "    <tr style=\"text-align: right;\">\n",
              "      <th></th>\n",
              "      <th>estimator</th>\n",
              "      <th>params</th>\n",
              "      <th>mean_test_score</th>\n",
              "      <th>mean_fit_time</th>\n",
              "      <th>mean_score_time</th>\n",
              "    </tr>\n",
              "  </thead>\n",
              "  <tbody>\n",
              "    <tr>\n",
              "      <th>0</th>\n",
              "      <td>SVC</td>\n",
              "      <td>{'C': 1, 'gamma': 'scale'}</td>\n",
              "      <td>0.425165</td>\n",
              "      <td>25.909233</td>\n",
              "      <td>12.052509</td>\n",
              "    </tr>\n",
              "    <tr>\n",
              "      <th>1</th>\n",
              "      <td>RandomForestClassifier</td>\n",
              "      <td>{'criterion': 'gini', 'n_estimators': 50}</td>\n",
              "      <td>0.423020</td>\n",
              "      <td>5.182827</td>\n",
              "      <td>0.207817</td>\n",
              "    </tr>\n",
              "    <tr>\n",
              "      <th>2</th>\n",
              "      <td>RandomForestClassifier</td>\n",
              "      <td>{'criterion': 'gini', 'n_estimators': 100}</td>\n",
              "      <td>0.419142</td>\n",
              "      <td>10.084418</td>\n",
              "      <td>0.307785</td>\n",
              "    </tr>\n",
              "    <tr>\n",
              "      <th>3</th>\n",
              "      <td>RandomForestClassifier</td>\n",
              "      <td>{'criterion': 'entropy', 'n_estimators': 100}</td>\n",
              "      <td>0.414439</td>\n",
              "      <td>12.380223</td>\n",
              "      <td>0.307662</td>\n",
              "    </tr>\n",
              "    <tr>\n",
              "      <th>4</th>\n",
              "      <td>RandomForestClassifier</td>\n",
              "      <td>{'criterion': 'entropy', 'n_estimators': 50}</td>\n",
              "      <td>0.414026</td>\n",
              "      <td>6.322327</td>\n",
              "      <td>0.207632</td>\n",
              "    </tr>\n",
              "    <tr>\n",
              "      <th>5</th>\n",
              "      <td>LogisticRegression</td>\n",
              "      <td>{'C': 0.07742636826811278, 'solver': 'sag'}</td>\n",
              "      <td>0.408251</td>\n",
              "      <td>1.550511</td>\n",
              "      <td>0.010625</td>\n",
              "    </tr>\n",
              "    <tr>\n",
              "      <th>6</th>\n",
              "      <td>LogisticRegression</td>\n",
              "      <td>{'C': 0.07742636826811278, 'solver': 'saga'}</td>\n",
              "      <td>0.408168</td>\n",
              "      <td>1.547162</td>\n",
              "      <td>0.011412</td>\n",
              "    </tr>\n",
              "    <tr>\n",
              "      <th>7</th>\n",
              "      <td>LogisticRegression</td>\n",
              "      <td>{'C': 0.07742636826811278, 'solver': 'newton-cg'}</td>\n",
              "      <td>0.408168</td>\n",
              "      <td>1.512399</td>\n",
              "      <td>0.010590</td>\n",
              "    </tr>\n",
              "    <tr>\n",
              "      <th>8</th>\n",
              "      <td>SVC</td>\n",
              "      <td>{'C': 10, 'gamma': 'auto'}</td>\n",
              "      <td>0.404785</td>\n",
              "      <td>26.774691</td>\n",
              "      <td>12.233248</td>\n",
              "    </tr>\n",
              "    <tr>\n",
              "      <th>9</th>\n",
              "      <td>LogisticRegression</td>\n",
              "      <td>{'C': 0.005994842503189421, 'solver': 'sag'}</td>\n",
              "      <td>0.404538</td>\n",
              "      <td>1.536944</td>\n",
              "      <td>0.010993</td>\n",
              "    </tr>\n",
              "  </tbody>\n",
              "</table>\n",
              "</div>"
            ],
            "text/plain": [
              "                estimator  ... mean_score_time\n",
              "0                     SVC  ...       12.052509\n",
              "1  RandomForestClassifier  ...        0.207817\n",
              "2  RandomForestClassifier  ...        0.307785\n",
              "3  RandomForestClassifier  ...        0.307662\n",
              "4  RandomForestClassifier  ...        0.207632\n",
              "5      LogisticRegression  ...        0.010625\n",
              "6      LogisticRegression  ...        0.011412\n",
              "7      LogisticRegression  ...        0.010590\n",
              "8                     SVC  ...       12.233248\n",
              "9      LogisticRegression  ...        0.010993\n",
              "\n",
              "[10 rows x 5 columns]"
            ]
          },
          "metadata": {},
          "execution_count": 30
        }
      ]
    },
    {
      "cell_type": "code",
      "metadata": {
        "colab": {
          "base_uri": "https://localhost:8080/",
          "height": 447
        },
        "id": "TZmE9sQdfrXf",
        "outputId": "fd97478c-b6f7-4601-9831-2b545b2503ce"
      },
      "source": [
        "results.boxplot(column='mean_test_score',by='estimator', figsize=(15,5), rot=90)"
      ],
      "execution_count": 31,
      "outputs": [
        {
          "output_type": "execute_result",
          "data": {
            "text/plain": [
              "<matplotlib.axes._subplots.AxesSubplot at 0x7f0065d32150>"
            ]
          },
          "metadata": {},
          "execution_count": 31
        },
        {
          "output_type": "display_data",
          "data": {
            "image/png": "[encoded data removed]",
            "text/plain": [
              "<Figure size 1080x360 with 1 Axes>"
            ]
          },
          "metadata": {
            "needs_background": "light"
          }
        }
      ]
    },
    {
      "cell_type": "markdown",
      "metadata": {
        "id": "OVEfpqkxfrXf"
      },
      "source": [
        "### 6. ERROR ANALYSIS AND TEST RESULTS"
      ]
    },
    {
      "cell_type": "code",
      "metadata": {
        "colab": {
          "base_uri": "https://localhost:8080/"
        },
        "id": "85mXBPEqfrXf",
        "outputId": "1c76b8ce-067a-4b6d-c4f1-a702123897a0"
      },
      "source": [
        "# Predictions for the test set\n",
        "param = results.loc[1, 'params']\n",
        "top_model = RandomForestClassifier(**param)\n",
        "top_model.fit(X_train,y_train)\n",
        "y_pred = top_model.predict(X_test)\n",
        "#print(classification_report(y_test, y_pred))\n",
        "y_pred"
      ],
      "execution_count": 33,
      "outputs": [
        {
          "output_type": "execute_result",
          "data": {
            "text/plain": [
              "array([2, 2, 2, ..., 0, 0, 0])"
            ]
          },
          "metadata": {},
          "execution_count": 33
        }
      ]
    },
    {
      "cell_type": "code",
      "metadata": {
        "colab": {
          "base_uri": "https://localhost:8080/",
          "height": 310
        },
        "id": "_RJMzor7BaTm",
        "outputId": "7ae47379-2051-45f7-f23c-82fb35ea786f"
      },
      "source": [
        "test_data.head()"
      ],
      "execution_count": 35,
      "outputs": [
        {
          "output_type": "execute_result",
          "data": {
            "text/html": [
              "<div>\n",
              "<style scoped>\n",
              "    .dataframe tbody tr th:only-of-type {\n",
              "        vertical-align: middle;\n",
              "    }\n",
              "\n",
              "    .dataframe tbody tr th {\n",
              "        vertical-align: top;\n",
              "    }\n",
              "\n",
              "    .dataframe thead th {\n",
              "        text-align: right;\n",
              "    }\n",
              "</style>\n",
              "<table border=\"1\" class=\"dataframe\">\n",
              "  <thead>\n",
              "    <tr style=\"text-align: right;\">\n",
              "      <th></th>\n",
              "      <th>premise</th>\n",
              "      <th>hypothesis</th>\n",
              "      <th>clean_sent1</th>\n",
              "      <th>clean_sent2</th>\n",
              "    </tr>\n",
              "  </thead>\n",
              "  <tbody>\n",
              "    <tr>\n",
              "      <th>0</th>\n",
              "      <td>بکس، کیسی، راہیل، یسعیاہ، کیلی، کیلی، اور کولم...</td>\n",
              "      <td>کیسی کے لئے کوئی یادگار نہیں ہوگا, کولمین ہائی...</td>\n",
              "      <td>بکس، کیسی، راہیل، یسعیاہ، کیلی، کیلی، اور کولم...</td>\n",
              "      <td>کیسی کے لئے کوئی یادگار نہیں ہوگا کولمین ہائی ...</td>\n",
              "    </tr>\n",
              "    <tr>\n",
              "      <th>1</th>\n",
              "      <td>هذا هو ما تم نصحنا به.</td>\n",
              "      <td>عندما يتم إخبارهم بما يجب عليهم فعله ، فشلت ال...</td>\n",
              "      <td>هذا هو ما تم نصحنا به</td>\n",
              "      <td>عندما يتم إخبارهم بما يجب عليهم فعله ، فشلت ال...</td>\n",
              "    </tr>\n",
              "    <tr>\n",
              "      <th>2</th>\n",
              "      <td>et cela est en grande partie dû au fait que le...</td>\n",
              "      <td>Les mères se droguent.</td>\n",
              "      <td>et cela est en grande partie dû au fait que le...</td>\n",
              "      <td>le mères se droguent</td>\n",
              "    </tr>\n",
              "    <tr>\n",
              "      <th>3</th>\n",
              "      <td>与城市及其他公民及社区组织代表就IMA的艺术发展进行对话&amp;amp</td>\n",
              "      <td>IMA与其他组织合作，因为它们都依靠共享资金。</td>\n",
              "      <td>与城市及其他公民及社区组织代表就ima的艺术发展进行对话 &amp; amp</td>\n",
              "      <td>ima与其他组织合作，因为它们都依靠共享资金。</td>\n",
              "    </tr>\n",
              "    <tr>\n",
              "      <th>4</th>\n",
              "      <td>Она все еще была там.</td>\n",
              "      <td>Мы думали, что она ушла, однако, она осталась.</td>\n",
              "      <td>она все еще была там</td>\n",
              "      <td>мы думали что она ушла однако она осталась</td>\n",
              "    </tr>\n",
              "  </tbody>\n",
              "</table>\n",
              "</div>"
            ],
            "text/plain": [
              "                                             premise  ...                                        clean_sent2\n",
              "0  بکس، کیسی، راہیل، یسعیاہ، کیلی، کیلی، اور کولم...  ...  کیسی کے لئے کوئی یادگار نہیں ہوگا کولمین ہائی ...\n",
              "1                             هذا هو ما تم نصحنا به.  ...  عندما يتم إخبارهم بما يجب عليهم فعله ، فشلت ال...\n",
              "2  et cela est en grande partie dû au fait que le...  ...                               le mères se droguent\n",
              "3                   与城市及其他公民及社区组织代表就IMA的艺术发展进行对话&amp  ...                            ima与其他组织合作，因为它们都依靠共享资金。\n",
              "4                              Она все еще была там.  ...         мы думали что она ушла однако она осталась\n",
              "\n",
              "[5 rows x 4 columns]"
            ]
          },
          "metadata": {},
          "execution_count": 35
        }
      ]
    },
    {
      "cell_type": "code",
      "metadata": {
        "id": "UPcxfciCAvVx"
      },
      "source": [
        "# Export kaggle submission\n",
        "outDf = pd.read_csv(path + 'test.csv', sep=\",\")\n",
        "outDf = pd.DataFrame(outDf, columns=['id'])\n",
        "outDf[\"prediction\"] = y_pred\n",
        "outDf.to_csv(\"kaggle_result1.csv\", index=False)"
      ],
      "execution_count": 36,
      "outputs": []
    }
  ]
}