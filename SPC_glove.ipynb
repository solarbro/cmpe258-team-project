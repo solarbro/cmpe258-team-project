{
  "nbformat": 4,
  "nbformat_minor": 0,
  "metadata": {
    "kernelspec": {
      "display_name": "Python 3",
      "language": "python",
      "name": "python3"
    },
    "language_info": {
      "codemirror_mode": {
        "name": "ipython",
        "version": 3
      },
      "file_extension": ".py",
      "mimetype": "text/x-python",
      "name": "python",
      "nbconvert_exporter": "python",
      "pygments_lexer": "ipython3",
      "version": "3.7.6"
    },
    "colab": {
      "name": "SPC_glove.ipynb",
      "provenance": [],
      "collapsed_sections": []
    }
  },
  "cells": [
    {
      "cell_type": "markdown",
      "metadata": {
        "id": "u1Sno7IjUjr_"
      },
      "source": [
        "# SENTENCE PAIRS CLASSIFICATION: GLOVE IMPLEMENTATION"
      ]
    },
    {
      "cell_type": "markdown",
      "metadata": {
        "id": "P-eq9wVxUjsC"
      },
      "source": [
        "### 1. DATA EXPLORATION"
      ]
    },
    {
      "cell_type": "code",
      "metadata": {
        "id": "l-mHSLVwUjsD"
      },
      "source": [
        "import numpy as np\n",
        "import pandas as pd\n",
        "import csv\n",
        "\n",
        "# Import packages for pre-processing\n",
        "import nltk\n",
        "from tqdm import tqdm\n",
        "from nltk.tokenize import word_tokenize\n",
        "from nltk.stem import WordNetLemmatizer\n",
        "import re\n",
        "\n",
        "# Packages for pretrained glove and tfidf\n",
        "from gensim.test.utils import datapath, get_tmpfile\n",
        "from gensim.models import KeyedVectors\n",
        "from gensim.scripts.glove2word2vec import glove2word2vec\n",
        "\n",
        "# Cosine Similarity \n",
        "from sklearn.metrics.pairwise import cosine_similarity\n",
        "from sklearn.metrics.pairwise import euclidean_distances\n",
        "import matplotlib.pyplot as plt\n",
        "import seaborn as sb\n",
        "\n",
        "import warnings\n",
        "warnings.filterwarnings('ignore')\n",
        "\n",
        "# Data Modelling\n",
        "import time\n",
        "from sklearn.svm import SVC\n",
        "from sklearn.metrics import accuracy_score, classification_report\n",
        "from sklearn.model_selection import GridSearchCV\n",
        "from sklearn.linear_model import LogisticRegression\n",
        "from sklearn.neighbors import KNeighborsClassifier\n",
        "from sklearn.ensemble import RandomForestClassifier\n"
      ],
      "execution_count": 2,
      "outputs": []
    },
    {
      "cell_type": "code",
      "metadata": {
        "id": "3SFdhCOxXcCP",
        "colab": {
          "base_uri": "https://localhost:8080/"
        },
        "outputId": "61c9816e-be1e-4a34-c33e-c1e5afecb9d2"
      },
      "source": [
        "# Download packages\n",
        "nltk.download('punkt')\n",
        "nltk.download('wordnet')"
      ],
      "execution_count": 3,
      "outputs": [
        {
          "output_type": "stream",
          "name": "stdout",
          "text": [
            "[nltk_data] Downloading package punkt to /root/nltk_data...\n",
            "[nltk_data]   Unzipping tokenizers/punkt.zip.\n",
            "[nltk_data] Downloading package wordnet to /root/nltk_data...\n",
            "[nltk_data]   Unzipping corpora/wordnet.zip.\n"
          ]
        },
        {
          "output_type": "execute_result",
          "data": {
            "text/plain": [
              "True"
            ]
          },
          "metadata": {},
          "execution_count": 3
        }
      ]
    },
    {
      "cell_type": "code",
      "metadata": {
        "id": "lS1U7yFPVU6b",
        "colab": {
          "base_uri": "https://localhost:8080/"
        },
        "outputId": "cc2390ea-8e59-4052-dbf3-fa37a4873881"
      },
      "source": [
        "# Download dataset\n",
        "!wget \"https://nlp.stanford.edu/projects/snli/snli_1.0.zip\"\n",
        "# Extract\n",
        "!unzip \"./snli_1.0.zip\" -d \"data\""
      ],
      "execution_count": 4,
      "outputs": [
        {
          "output_type": "stream",
          "name": "stdout",
          "text": [
            "--2021-11-30 07:42:37--  https://nlp.stanford.edu/projects/snli/snli_1.0.zip\n",
            "Resolving nlp.stanford.edu (nlp.stanford.edu)... 171.64.67.140\n",
            "Connecting to nlp.stanford.edu (nlp.stanford.edu)|171.64.67.140|:443... connected.\n",
            "HTTP request sent, awaiting response... 200 OK\n",
            "Length: 94550081 (90M) [application/zip]\n",
            "Saving to: ‘snli_1.0.zip’\n",
            "\n",
            "snli_1.0.zip        100%[===================>]  90.17M  9.56MB/s    in 6.3s    \n",
            "\n",
            "2021-11-30 07:42:44 (14.3 MB/s) - ‘snli_1.0.zip’ saved [94550081/94550081]\n",
            "\n",
            "Archive:  ./snli_1.0.zip\n",
            "   creating: data/snli_1.0/\n",
            "  inflating: data/snli_1.0/.DS_Store  \n",
            "   creating: data/__MACOSX/\n",
            "   creating: data/__MACOSX/snli_1.0/\n",
            "  inflating: data/__MACOSX/snli_1.0/._.DS_Store  \n",
            " extracting: data/snli_1.0/Icon      \n",
            "  inflating: data/__MACOSX/snli_1.0/._Icon  \n",
            "  inflating: data/snli_1.0/README.txt  \n",
            "  inflating: data/__MACOSX/snli_1.0/._README.txt  \n",
            "  inflating: data/snli_1.0/snli_1.0_dev.jsonl  \n",
            "  inflating: data/snli_1.0/snli_1.0_dev.txt  \n",
            "  inflating: data/snli_1.0/snli_1.0_test.jsonl  \n",
            "  inflating: data/snli_1.0/snli_1.0_test.txt  \n",
            "  inflating: data/snli_1.0/snli_1.0_train.jsonl  \n",
            "  inflating: data/snli_1.0/snli_1.0_train.txt  \n",
            "  inflating: data/__MACOSX/._snli_1.0  \n"
          ]
        }
      ]
    },
    {
      "cell_type": "code",
      "metadata": {
        "id": "sEZrDwcdUjsE",
        "colab": {
          "base_uri": "https://localhost:8080/",
          "height": 206
        },
        "outputId": "e615e686-d8b0-43ef-cfee-79e42f9c349f"
      },
      "source": [
        "# Load the SNLI dataset\n",
        "\n",
        "path = './data/snli_1.0/'\n",
        "train_data = pd.read_csv(path + 'snli_1.0_train.txt', sep=\"\\t\")\n",
        "train_data = pd.DataFrame(train_data, columns=['sentence1', 'sentence2', 'gold_label'])\n",
        "\n",
        "# Remove all the rows labeled as '-' and NaN values\n",
        "train_data = train_data.loc[train_data['gold_label'] != '-']\n",
        "train_data = train_data.dropna()\n",
        "\n",
        "# Create a subset of the data in order to run de model faster\n",
        "train_data = train_data.iloc[:10000,:]\n",
        "train_data.head()"
      ],
      "execution_count": 5,
      "outputs": [
        {
          "output_type": "execute_result",
          "data": {
            "text/html": [
              "<div>\n",
              "<style scoped>\n",
              "    .dataframe tbody tr th:only-of-type {\n",
              "        vertical-align: middle;\n",
              "    }\n",
              "\n",
              "    .dataframe tbody tr th {\n",
              "        vertical-align: top;\n",
              "    }\n",
              "\n",
              "    .dataframe thead th {\n",
              "        text-align: right;\n",
              "    }\n",
              "</style>\n",
              "<table border=\"1\" class=\"dataframe\">\n",
              "  <thead>\n",
              "    <tr style=\"text-align: right;\">\n",
              "      <th></th>\n",
              "      <th>sentence1</th>\n",
              "      <th>sentence2</th>\n",
              "      <th>gold_label</th>\n",
              "    </tr>\n",
              "  </thead>\n",
              "  <tbody>\n",
              "    <tr>\n",
              "      <th>0</th>\n",
              "      <td>A person on a horse jumps over a broken down a...</td>\n",
              "      <td>A person is training his horse for a competition.</td>\n",
              "      <td>neutral</td>\n",
              "    </tr>\n",
              "    <tr>\n",
              "      <th>1</th>\n",
              "      <td>A person on a horse jumps over a broken down a...</td>\n",
              "      <td>A person is at a diner, ordering an omelette.</td>\n",
              "      <td>contradiction</td>\n",
              "    </tr>\n",
              "    <tr>\n",
              "      <th>2</th>\n",
              "      <td>A person on a horse jumps over a broken down a...</td>\n",
              "      <td>A person is outdoors, on a horse.</td>\n",
              "      <td>entailment</td>\n",
              "    </tr>\n",
              "    <tr>\n",
              "      <th>3</th>\n",
              "      <td>Children smiling and waving at camera</td>\n",
              "      <td>They are smiling at their parents</td>\n",
              "      <td>neutral</td>\n",
              "    </tr>\n",
              "    <tr>\n",
              "      <th>4</th>\n",
              "      <td>Children smiling and waving at camera</td>\n",
              "      <td>There are children present</td>\n",
              "      <td>entailment</td>\n",
              "    </tr>\n",
              "  </tbody>\n",
              "</table>\n",
              "</div>"
            ],
            "text/plain": [
              "                                           sentence1  ...     gold_label\n",
              "0  A person on a horse jumps over a broken down a...  ...        neutral\n",
              "1  A person on a horse jumps over a broken down a...  ...  contradiction\n",
              "2  A person on a horse jumps over a broken down a...  ...     entailment\n",
              "3              Children smiling and waving at camera  ...        neutral\n",
              "4              Children smiling and waving at camera  ...     entailment\n",
              "\n",
              "[5 rows x 3 columns]"
            ]
          },
          "metadata": {},
          "execution_count": 5
        }
      ]
    },
    {
      "cell_type": "code",
      "metadata": {
        "id": "7P00BkjyUjsF",
        "colab": {
          "base_uri": "https://localhost:8080/",
          "height": 206
        },
        "outputId": "796eedc5-604d-4988-a476-60190cf2fe9f"
      },
      "source": [
        "# Test set\n",
        "test_data = pd.read_csv(path + 'snli_1.0_test.txt', sep=\"\\t\")\n",
        "test_data = pd.DataFrame(test_data, columns=['sentence1', 'sentence2', 'gold_label'])\n",
        "\n",
        "# Remove all the rows labeled as '-' and NaN values\n",
        "test_data = test_data.loc[test_data['gold_label'] != '-']\n",
        "test_data = test_data.dropna()\n",
        "\n",
        "# Create a subset of the data in order to run de model faster\n",
        "test_data = test_data.iloc[:2500,:]\n",
        "test_data.head()"
      ],
      "execution_count": 6,
      "outputs": [
        {
          "output_type": "execute_result",
          "data": {
            "text/html": [
              "<div>\n",
              "<style scoped>\n",
              "    .dataframe tbody tr th:only-of-type {\n",
              "        vertical-align: middle;\n",
              "    }\n",
              "\n",
              "    .dataframe tbody tr th {\n",
              "        vertical-align: top;\n",
              "    }\n",
              "\n",
              "    .dataframe thead th {\n",
              "        text-align: right;\n",
              "    }\n",
              "</style>\n",
              "<table border=\"1\" class=\"dataframe\">\n",
              "  <thead>\n",
              "    <tr style=\"text-align: right;\">\n",
              "      <th></th>\n",
              "      <th>sentence1</th>\n",
              "      <th>sentence2</th>\n",
              "      <th>gold_label</th>\n",
              "    </tr>\n",
              "  </thead>\n",
              "  <tbody>\n",
              "    <tr>\n",
              "      <th>0</th>\n",
              "      <td>This church choir sings to the masses as they ...</td>\n",
              "      <td>The church has cracks in the ceiling.</td>\n",
              "      <td>neutral</td>\n",
              "    </tr>\n",
              "    <tr>\n",
              "      <th>1</th>\n",
              "      <td>This church choir sings to the masses as they ...</td>\n",
              "      <td>The church is filled with song.</td>\n",
              "      <td>entailment</td>\n",
              "    </tr>\n",
              "    <tr>\n",
              "      <th>2</th>\n",
              "      <td>This church choir sings to the masses as they ...</td>\n",
              "      <td>A choir singing at a baseball game.</td>\n",
              "      <td>contradiction</td>\n",
              "    </tr>\n",
              "    <tr>\n",
              "      <th>3</th>\n",
              "      <td>A woman with a green headscarf, blue shirt and...</td>\n",
              "      <td>The woman is young.</td>\n",
              "      <td>neutral</td>\n",
              "    </tr>\n",
              "    <tr>\n",
              "      <th>4</th>\n",
              "      <td>A woman with a green headscarf, blue shirt and...</td>\n",
              "      <td>The woman is very happy.</td>\n",
              "      <td>entailment</td>\n",
              "    </tr>\n",
              "  </tbody>\n",
              "</table>\n",
              "</div>"
            ],
            "text/plain": [
              "                                           sentence1  ...     gold_label\n",
              "0  This church choir sings to the masses as they ...  ...        neutral\n",
              "1  This church choir sings to the masses as they ...  ...     entailment\n",
              "2  This church choir sings to the masses as they ...  ...  contradiction\n",
              "3  A woman with a green headscarf, blue shirt and...  ...        neutral\n",
              "4  A woman with a green headscarf, blue shirt and...  ...     entailment\n",
              "\n",
              "[5 rows x 3 columns]"
            ]
          },
          "metadata": {},
          "execution_count": 6
        }
      ]
    },
    {
      "cell_type": "code",
      "metadata": {
        "id": "lNJLMAPMUjsG",
        "colab": {
          "base_uri": "https://localhost:8080/"
        },
        "outputId": "f97c0ac2-5405-44b3-e11e-a0deb0a43f9d"
      },
      "source": [
        "# Shuffle data\n",
        "train_data = train_data.sample(frac=1, random_state=203)\n",
        "\n",
        "# Size of the datasets \n",
        "print('Train Data size:', train_data.shape)\n",
        "print('Test Data size:', test_data.shape)"
      ],
      "execution_count": 7,
      "outputs": [
        {
          "output_type": "stream",
          "name": "stdout",
          "text": [
            "Train Data size: (10000, 3)\n",
            "Test Data size: (2500, 3)\n"
          ]
        }
      ]
    },
    {
      "cell_type": "code",
      "metadata": {
        "id": "uaN-40Y8UjsG",
        "colab": {
          "base_uri": "https://localhost:8080/"
        },
        "outputId": "bc56058c-494f-4993-9850-fe069f2da143"
      },
      "source": [
        "# Labels distributions\n",
        "print('==Labels train set:==\\n{}'.format(train_data['gold_label'].value_counts()))\n",
        "print('\\n==Labels test set:==\\n{}'.format(test_data['gold_label'].value_counts()))"
      ],
      "execution_count": 8,
      "outputs": [
        {
          "output_type": "stream",
          "name": "stdout",
          "text": [
            "==Labels train set:==\n",
            "entailment       3340\n",
            "contradiction    3334\n",
            "neutral          3326\n",
            "Name: gold_label, dtype: int64\n",
            "\n",
            "==Labels test set:==\n",
            "entailment       854\n",
            "neutral          830\n",
            "contradiction    816\n",
            "Name: gold_label, dtype: int64\n"
          ]
        }
      ]
    },
    {
      "cell_type": "markdown",
      "metadata": {
        "id": "--0L9ZLzUjsH"
      },
      "source": [
        "### 2. DATA PRE-PROCESSING"
      ]
    },
    {
      "cell_type": "code",
      "metadata": {
        "id": "HUeQB5WqUjsH"
      },
      "source": [
        "lemmat = WordNetLemmatizer()\n",
        "\n",
        "def clean_text(sentence, lemma=False):    \n",
        "\n",
        "    # Step 1: Transform text to lower case, remove url, some punctuations and long repeated characters \n",
        "    sent = sentence.lower()\n",
        "    sent = re.sub(r'(http:)\\S+', r'', sent)\n",
        "    sent = re.sub(r'[\\.,`=_/#]', r' ', sent)\n",
        "    sent = re.sub(r'(\\w)\\1{2,}', r'\\1\\1', sent)\n",
        "\n",
        "    # Step 2: Find the tokens of each text and apply lemmatization\n",
        "    tokens = word_tokenize(sent)\n",
        "    if lemma: tokens = [lemmat.lemmatize(w) for w in tokens] \n",
        "\n",
        "    return ' '.join(tokens)\n",
        "\n",
        "# Data Cleaning in both sets\n",
        "train_data['clean_sent1'] = train_data['sentence1'].map(lambda x: clean_text(x, lemma=True))\n",
        "train_data['clean_sent2'] = train_data['sentence2'].map(lambda x: clean_text(x, lemma=True))\n",
        "\n",
        "test_data['clean_sent1'] = test_data['sentence1'].map(lambda x: clean_text(x, lemma=True))\n",
        "test_data['clean_sent2'] = test_data['sentence2'].map(lambda x: clean_text(x, lemma=True))"
      ],
      "execution_count": 9,
      "outputs": []
    },
    {
      "cell_type": "code",
      "metadata": {
        "id": "LQ1pLLNAUjsI"
      },
      "source": [
        "# Column with integer labels\n",
        "dict_label = {'entailment': 0, 'neutral': 1, 'contradiction': 2}\n",
        "train_data['int_label'] = train_data['gold_label'].map(lambda x: dict_label[x])\n",
        "test_data['int_label'] = test_data['gold_label'].map(lambda x: dict_label[x])"
      ],
      "execution_count": 10,
      "outputs": []
    },
    {
      "cell_type": "code",
      "metadata": {
        "id": "usKLCrGzUjsI",
        "colab": {
          "base_uri": "https://localhost:8080/",
          "height": 143
        },
        "outputId": "6b353438-e35b-4964-c49a-08f1f5f00aa9"
      },
      "source": [
        "# Preview results after pre-processing\n",
        "train_data.iloc[:3]"
      ],
      "execution_count": 11,
      "outputs": [
        {
          "output_type": "execute_result",
          "data": {
            "text/html": [
              "<div>\n",
              "<style scoped>\n",
              "    .dataframe tbody tr th:only-of-type {\n",
              "        vertical-align: middle;\n",
              "    }\n",
              "\n",
              "    .dataframe tbody tr th {\n",
              "        vertical-align: top;\n",
              "    }\n",
              "\n",
              "    .dataframe thead th {\n",
              "        text-align: right;\n",
              "    }\n",
              "</style>\n",
              "<table border=\"1\" class=\"dataframe\">\n",
              "  <thead>\n",
              "    <tr style=\"text-align: right;\">\n",
              "      <th></th>\n",
              "      <th>sentence1</th>\n",
              "      <th>sentence2</th>\n",
              "      <th>gold_label</th>\n",
              "      <th>clean_sent1</th>\n",
              "      <th>clean_sent2</th>\n",
              "      <th>int_label</th>\n",
              "    </tr>\n",
              "  </thead>\n",
              "  <tbody>\n",
              "    <tr>\n",
              "      <th>4638</th>\n",
              "      <td>Two small children playing football in yellow ...</td>\n",
              "      <td>two small children are playing football for th...</td>\n",
              "      <td>neutral</td>\n",
              "      <td>two small child playing football in yellow and...</td>\n",
              "      <td>two small child are playing football for their...</td>\n",
              "      <td>1</td>\n",
              "    </tr>\n",
              "    <tr>\n",
              "      <th>3472</th>\n",
              "      <td>Two asian females go walking.</td>\n",
              "      <td>The females are moving their legs.</td>\n",
              "      <td>entailment</td>\n",
              "      <td>two asian female go walking</td>\n",
              "      <td>the female are moving their leg</td>\n",
              "      <td>0</td>\n",
              "    </tr>\n",
              "    <tr>\n",
              "      <th>8723</th>\n",
              "      <td>A girl walking near a guy holding onto a bike ...</td>\n",
              "      <td>Two kids are riding mopeds.</td>\n",
              "      <td>contradiction</td>\n",
              "      <td>a girl walking near a guy holding onto a bike ...</td>\n",
              "      <td>two kid are riding moped</td>\n",
              "      <td>2</td>\n",
              "    </tr>\n",
              "  </tbody>\n",
              "</table>\n",
              "</div>"
            ],
            "text/plain": [
              "                                              sentence1  ... int_label\n",
              "4638  Two small children playing football in yellow ...  ...         1\n",
              "3472                      Two asian females go walking.  ...         0\n",
              "8723  A girl walking near a guy holding onto a bike ...  ...         2\n",
              "\n",
              "[3 rows x 6 columns]"
            ]
          },
          "metadata": {},
          "execution_count": 11
        }
      ]
    },
    {
      "cell_type": "markdown",
      "metadata": {
        "id": "UXr6YXlLUjsJ"
      },
      "source": [
        "### 3. TEXT VECTORIZATION"
      ]
    },
    {
      "cell_type": "code",
      "metadata": {
        "id": "vHcPzcsXYaNe",
        "colab": {
          "base_uri": "https://localhost:8080/"
        },
        "outputId": "fd6bdae6-aa26-4e11-cee6-e1838fb95161"
      },
      "source": [
        "# Download glove vectors\n",
        "!wget \"https://nlp.stanford.edu/data/glove.6B.zip\"\n",
        "# Extract\n",
        "!unzip \"glove.6B.zip\" -d \"data\""
      ],
      "execution_count": 12,
      "outputs": [
        {
          "output_type": "stream",
          "name": "stdout",
          "text": [
            "--2021-11-30 07:43:01--  https://nlp.stanford.edu/data/glove.6B.zip\n",
            "Resolving nlp.stanford.edu (nlp.stanford.edu)... 171.64.67.140\n",
            "Connecting to nlp.stanford.edu (nlp.stanford.edu)|171.64.67.140|:443... connected.\n",
            "HTTP request sent, awaiting response... 301 Moved Permanently\n",
            "Location: http://downloads.cs.stanford.edu/nlp/data/glove.6B.zip [following]\n",
            "--2021-11-30 07:43:02--  http://downloads.cs.stanford.edu/nlp/data/glove.6B.zip\n",
            "Resolving downloads.cs.stanford.edu (downloads.cs.stanford.edu)... 171.64.64.22\n",
            "Connecting to downloads.cs.stanford.edu (downloads.cs.stanford.edu)|171.64.64.22|:80... connected.\n",
            "HTTP request sent, awaiting response... 200 OK\n",
            "Length: 862182613 (822M) [application/zip]\n",
            "Saving to: ‘glove.6B.zip’\n",
            "\n",
            "glove.6B.zip        100%[===================>] 822.24M  3.74MB/s    in 2m 48s  \n",
            "\n",
            "2021-11-30 07:45:50 (4.88 MB/s) - ‘glove.6B.zip’ saved [862182613/862182613]\n",
            "\n",
            "Archive:  glove.6B.zip\n",
            "  inflating: data/glove.6B.50d.txt   \n",
            "  inflating: data/glove.6B.100d.txt  \n",
            "  inflating: data/glove.6B.200d.txt  \n",
            "  inflating: data/glove.6B.300d.txt  \n"
          ]
        }
      ]
    },
    {
      "cell_type": "code",
      "metadata": {
        "id": "SKxYaF72UjsJ"
      },
      "source": [
        "# Loading the 300-dimension vectors\n",
        "path = \"data/glove.6B.300d.txt\"\n",
        "\n",
        "#glove_file = datapath(path)\n",
        "glove_vec_file = get_tmpfile(\"glove.6B.300d.txt\")\n",
        "glove2word2vec(path, glove_vec_file)\n",
        "word_vectors = KeyedVectors.load_word2vec_format(glove_vec_file)"
      ],
      "execution_count": 13,
      "outputs": []
    },
    {
      "cell_type": "code",
      "metadata": {
        "id": "0e5w8PXgUjsJ",
        "colab": {
          "base_uri": "https://localhost:8080/"
        },
        "outputId": "4c09a0a2-8654-41ac-ce8c-23436fce2f87"
      },
      "source": [
        "# Size of the data vocabulary\n",
        "all_sent = np.concatenate([train_data['clean_sent1'].values,train_data['clean_sent2'].values], axis=0)\n",
        "words = []\n",
        "for i in all_sent:\n",
        "    tokens = word_tokenize(i.lower())\n",
        "    words.extend(tokens)    \n",
        "vocab = list(set(words))\n",
        "\n",
        "print('Size of the data vocab:', len(vocab))\n",
        "\n",
        "# Size of the GloVe vocabulary\n",
        "print(\"Size of GloVe's vocab:\", len(list(word_vectors.vocab)))\n",
        "\n",
        "# Number of words out of the GloVe vocabulary (OOV)\n",
        "out_vocab = []\n",
        "for i in vocab:\n",
        "    if i in word_vectors.vocab: continue\n",
        "    out_vocab.append(i)\n",
        "print('Number of OOV:', round(len(out_vocab)/len(vocab),2))\n"
      ],
      "execution_count": 14,
      "outputs": [
        {
          "output_type": "stream",
          "name": "stdout",
          "text": [
            "Size of the data vocab: 5132\n",
            "Size of GloVe's vocab: 400000\n",
            "Number of OOV: 0.04\n"
          ]
        }
      ]
    },
    {
      "cell_type": "code",
      "metadata": {
        "id": "xMkLZonDUjsK"
      },
      "source": [
        "# Compute the embedding of a sentence by computing the average embedding of contained words\n",
        "def vectorize_sent(word_vectors, sent):\n",
        "    word_vecs = []\n",
        "    for token in sent.split():\n",
        "        if token not in word_vectors: continue\n",
        "        else:\n",
        "            word_vecs.append(word_vectors[token])\n",
        "\n",
        "    return np.mean(np.array(word_vecs),axis=0)"
      ],
      "execution_count": 15,
      "outputs": []
    },
    {
      "cell_type": "code",
      "metadata": {
        "id": "I8816l8MUjsK"
      },
      "source": [
        "# Vectorize the sentences\n",
        "X_train1 = np.array([vectorize_sent(word_vectors, sent) for sent in train_data['clean_sent1'].values])\n",
        "X_train2 = np.array([vectorize_sent(word_vectors, sent) for sent in train_data['clean_sent2'].values])\n",
        "\n",
        "X_test1 = np.array([vectorize_sent(word_vectors, sent) for sent in test_data['clean_sent1'].values])\n",
        "X_test2 = np.array([vectorize_sent(word_vectors, sent) for sent in test_data['clean_sent2'].values])"
      ],
      "execution_count": 16,
      "outputs": []
    },
    {
      "cell_type": "code",
      "metadata": {
        "id": "tgXI7p4BUjsK",
        "colab": {
          "base_uri": "https://localhost:8080/"
        },
        "outputId": "ad31e8bf-7797-4e8f-b2b3-5271acc03512"
      },
      "source": [
        "print(X_train1.shape, X_train2.shape, X_test1.shape, X_test2.shape)"
      ],
      "execution_count": 17,
      "outputs": [
        {
          "output_type": "stream",
          "name": "stdout",
          "text": [
            "(10000, 300) (10000, 300) (2500, 300) (2500, 300)\n"
          ]
        }
      ]
    },
    {
      "cell_type": "markdown",
      "metadata": {
        "id": "dT3P6H-sUjsK"
      },
      "source": [
        "### 4. SENTENCE SIMILARITY"
      ]
    },
    {
      "cell_type": "code",
      "metadata": {
        "id": "GV8IEdA8UjsK"
      },
      "source": [
        "# Create a Dictionary of labels with its cosine values\n",
        "def dic_labels(x,y):\n",
        "    \n",
        "    dic = {\n",
        "    'neutral': [],\n",
        "    'entailment': [],\n",
        "    'contradiction': []\n",
        "    }\n",
        "    \n",
        "    for i,j in zip(x,y):\n",
        "        if j == 'entailment':\n",
        "            dic[j].append(i)\n",
        "        elif j == 'neutral':\n",
        "            dic[j].append(i)\n",
        "        else:\n",
        "            dic[j].append(i)\n",
        "    \n",
        "    return dic"
      ],
      "execution_count": 18,
      "outputs": []
    },
    {
      "cell_type": "code",
      "metadata": {
        "id": "5FOnyQEJUjsL"
      },
      "source": [
        "# Compute distance metrics\n",
        "cosine = lambda x,y: cosine_similarity(x.reshape(1,-1), y.reshape(1,-1)).flatten()[0]\n",
        "euclidean = lambda x,y: euclidean_distances(x.reshape(1,-1), y.reshape(1,-1)).flatten()[0]\n",
        "\n",
        "train_data['dist_cos'] = list(map(cosine, X_train1, X_train2))\n",
        "train_data['dist_euc'] = list(map(euclidean, X_train1, X_train2))\n",
        "\n",
        "dist_cos = dic_labels(train_data['dist_cos'].values, train_data['gold_label'].values)\n",
        "dist_euc = dic_labels(train_data['dist_euc'].values, train_data['gold_label'].values)"
      ],
      "execution_count": 19,
      "outputs": []
    },
    {
      "cell_type": "code",
      "metadata": {
        "id": "s78L7jLPUjsL",
        "colab": {
          "base_uri": "https://localhost:8080/",
          "height": 206
        },
        "outputId": "cf5dd358-a912-43b9-eea7-6e705af01fca"
      },
      "source": [
        "train_data.iloc[:5]"
      ],
      "execution_count": 20,
      "outputs": [
        {
          "output_type": "execute_result",
          "data": {
            "text/html": [
              "<div>\n",
              "<style scoped>\n",
              "    .dataframe tbody tr th:only-of-type {\n",
              "        vertical-align: middle;\n",
              "    }\n",
              "\n",
              "    .dataframe tbody tr th {\n",
              "        vertical-align: top;\n",
              "    }\n",
              "\n",
              "    .dataframe thead th {\n",
              "        text-align: right;\n",
              "    }\n",
              "</style>\n",
              "<table border=\"1\" class=\"dataframe\">\n",
              "  <thead>\n",
              "    <tr style=\"text-align: right;\">\n",
              "      <th></th>\n",
              "      <th>sentence1</th>\n",
              "      <th>sentence2</th>\n",
              "      <th>gold_label</th>\n",
              "      <th>clean_sent1</th>\n",
              "      <th>clean_sent2</th>\n",
              "      <th>int_label</th>\n",
              "      <th>dist_cos</th>\n",
              "      <th>dist_euc</th>\n",
              "    </tr>\n",
              "  </thead>\n",
              "  <tbody>\n",
              "    <tr>\n",
              "      <th>4638</th>\n",
              "      <td>Two small children playing football in yellow ...</td>\n",
              "      <td>two small children are playing football for th...</td>\n",
              "      <td>neutral</td>\n",
              "      <td>two small child playing football in yellow and...</td>\n",
              "      <td>two small child are playing football for their...</td>\n",
              "      <td>1</td>\n",
              "      <td>0.840819</td>\n",
              "      <td>2.261548</td>\n",
              "    </tr>\n",
              "    <tr>\n",
              "      <th>3472</th>\n",
              "      <td>Two asian females go walking.</td>\n",
              "      <td>The females are moving their legs.</td>\n",
              "      <td>entailment</td>\n",
              "      <td>two asian female go walking</td>\n",
              "      <td>the female are moving their leg</td>\n",
              "      <td>0</td>\n",
              "      <td>0.813364</td>\n",
              "      <td>2.440572</td>\n",
              "    </tr>\n",
              "    <tr>\n",
              "      <th>8723</th>\n",
              "      <td>A girl walking near a guy holding onto a bike ...</td>\n",
              "      <td>Two kids are riding mopeds.</td>\n",
              "      <td>contradiction</td>\n",
              "      <td>a girl walking near a guy holding onto a bike ...</td>\n",
              "      <td>two kid are riding moped</td>\n",
              "      <td>2</td>\n",
              "      <td>0.661259</td>\n",
              "      <td>2.913282</td>\n",
              "    </tr>\n",
              "    <tr>\n",
              "      <th>341</th>\n",
              "      <td>A man squatting in the foreground of a photogr...</td>\n",
              "      <td>A male skateboarder performs tricks outdoors f...</td>\n",
              "      <td>neutral</td>\n",
              "      <td>a man squatting in the foreground of a photogr...</td>\n",
              "      <td>a male skateboarder performs trick outdoors fo...</td>\n",
              "      <td>1</td>\n",
              "      <td>0.680849</td>\n",
              "      <td>2.531323</td>\n",
              "    </tr>\n",
              "    <tr>\n",
              "      <th>703</th>\n",
              "      <td>A man carrying a load of fresh direct boxes on...</td>\n",
              "      <td>A young lad delivers groceries by bicycle in t...</td>\n",
              "      <td>contradiction</td>\n",
              "      <td>a man carrying a load of fresh direct box on c...</td>\n",
              "      <td>a young lad delivers grocery by bicycle in the...</td>\n",
              "      <td>2</td>\n",
              "      <td>0.860120</td>\n",
              "      <td>1.836156</td>\n",
              "    </tr>\n",
              "  </tbody>\n",
              "</table>\n",
              "</div>"
            ],
            "text/plain": [
              "                                              sentence1  ...  dist_euc\n",
              "4638  Two small children playing football in yellow ...  ...  2.261548\n",
              "3472                      Two asian females go walking.  ...  2.440572\n",
              "8723  A girl walking near a guy holding onto a bike ...  ...  2.913282\n",
              "341   A man squatting in the foreground of a photogr...  ...  2.531323\n",
              "703   A man carrying a load of fresh direct boxes on...  ...  1.836156\n",
              "\n",
              "[5 rows x 8 columns]"
            ]
          },
          "metadata": {},
          "execution_count": 20
        }
      ]
    },
    {
      "cell_type": "code",
      "metadata": {
        "id": "gR28p8p6UjsL",
        "colab": {
          "base_uri": "https://localhost:8080/",
          "height": 336
        },
        "outputId": "18e46281-72ad-4a82-a6af-0d14b21f6896"
      },
      "source": [
        "# Cosine scores distribution by labels\n",
        "metric = ['Cosine', 'Euclidean']\n",
        "results = [dist_cos, dist_euc]\n",
        "fig, ax = plt.subplots(1,2, figsize=(15,5))\n",
        "\n",
        "for i in range(0,2):\n",
        "    sb.distplot(results[i]['neutral'], hist=False, ax=ax[i])\n",
        "    sb.distplot(results[i]['entailment'], hist=False, color='green', ax=ax[i])\n",
        "    sb.distplot(results[i]['contradiction'], hist=False, color='red', ax=ax[i])\n",
        "    ax[i].set_title(metric[i] + ' Distribution by labels')\n",
        "\n",
        "plt.show()\n"
      ],
      "execution_count": 21,
      "outputs": [
        {
          "output_type": "display_data",
          "data": {
            "image/png": "[encoded data removed]",
            "text/plain": [
              "<Figure size 1080x360 with 2 Axes>"
            ]
          },
          "metadata": {
            "needs_background": "light"
          }
        }
      ]
    },
    {
      "cell_type": "markdown",
      "metadata": {
        "id": "E1jCBZzbUjsL"
      },
      "source": [
        "## 5. DATA MODELING. MULTI-CLASSIFICATION PROBLEM"
      ]
    },
    {
      "cell_type": "code",
      "metadata": {
        "id": "eNTIPzpsUjsM",
        "colab": {
          "base_uri": "https://localhost:8080/"
        },
        "outputId": "6961d46b-ba18-4b04-ac6c-396b9161d1d5"
      },
      "source": [
        "# The approach used to represent the input is going to be subtraction (A sent_vector - B sent_vector)\n",
        "X_train = []\n",
        "for i in range(0,len(X_train1)):\n",
        "    subs = X_train1[i] - X_train2[i]\n",
        "    X_train.append(subs)\n",
        "    \n",
        "X_test = []\n",
        "for i in range(0,len(X_test1)):\n",
        "    subs = X_test1[i] - X_test2[i]\n",
        "    X_test.append(subs)\n",
        "\n",
        "y_train = np.array(train_data['int_label'])\n",
        "y_test = np.array(test_data['int_label'])\n",
        "\n",
        "print('X_train Shape:', len(X_train))\n",
        "print('y_train Shape:', y_train.shape)"
      ],
      "execution_count": 22,
      "outputs": [
        {
          "output_type": "stream",
          "name": "stdout",
          "text": [
            "X_train Shape: 10000\n",
            "y_train Shape: (10000,)\n"
          ]
        }
      ]
    },
    {
      "cell_type": "code",
      "metadata": {
        "id": "9ZWsAmOrUjsM"
      },
      "source": [
        "class EstimatorSelectionHelper:\n",
        "    \n",
        "    def __init__(self, models, params):\n",
        "        self.models = models\n",
        "        self.params = params\n",
        "        self.keys = models.keys() # list of models' names\n",
        "        self.grid_searches = {} ## empty dictionary for the Grid.fit of each model\n",
        "    \n",
        "    def fit(self, X, y, **grid_kwargs):\n",
        "        for key in self.keys:\n",
        "            print('Running GridSearchCV for %s.' % key)\n",
        "            model = self.models[key]\n",
        "            params = self.params[key]\n",
        "            grid_search = GridSearchCV(model, params, **grid_kwargs, cv=3)\n",
        "            grid_search.fit(X, y)\n",
        "            self.grid_searches[key] = grid_search ## fitting output from gird_search\n",
        "        print('Done.')\n",
        "    \n",
        "    def score_summary(self, sort_by='mean_test_score'):\n",
        "        frames = []\n",
        "        for name, grid_search in self.grid_searches.items():\n",
        "            frame = pd.DataFrame(grid_search.cv_results_) # The results for every combination of param\n",
        "            frame = frame.filter(regex='^(?!.*param_).*$') # remove columns about GRID parameters\n",
        "            frame['estimator'] = len(frame)*[name] # add the name of the model for every combo \n",
        "            frames.append(frame)\n",
        "        df = pd.concat(frames) # final dict of all the training that the grid model has done\n",
        "        \n",
        "        df = df.sort_values([sort_by], ascending=False)\n",
        "        df = df.reset_index()\n",
        "        df = df.drop(['rank_test_score', 'index'], 1)\n",
        "        \n",
        "        # Reorder the columns so estimator is the first one\n",
        "        columns = df.columns.tolist() \n",
        "        columns.remove('estimator') \n",
        "        columns = ['estimator']+columns \n",
        "        df = df[columns]\n",
        "        return df"
      ],
      "execution_count": 23,
      "outputs": []
    },
    {
      "cell_type": "code",
      "metadata": {
        "id": "j-tCfs_uUjsM"
      },
      "source": [
        "models = {\n",
        "    'LogisticRegression': LogisticRegression(n_jobs=-1),\n",
        "    'kNN': KNeighborsClassifier(n_jobs=-1),\n",
        "    'SVC': SVC(),\n",
        "    'RandomForestClassifier': RandomForestClassifier(n_jobs=-1)\n",
        "}\n",
        "\n",
        "params = {\n",
        "    'LogisticRegression': {'solver' : ['newton-cg', 'saga', 'sag'],\n",
        "                          'C' : np.logspace(-10, 0, 10)\n",
        "                          },\n",
        "    'kNN': {'n_neighbors' : [3, 5, 10],\n",
        "           'weights': [\"uniform\", \"distance\"]\n",
        "           },\n",
        "    'SVC': {'C': [0.1, 1, 10],\n",
        "              'gamma': ['auto', 'scale']\n",
        "           },\n",
        "    'RandomForestClassifier': {'n_estimators': [10,50,100],\n",
        "              'criterion': ['gini', 'entropy']\n",
        "            }\n",
        "}"
      ],
      "execution_count": 24,
      "outputs": []
    },
    {
      "cell_type": "code",
      "metadata": {
        "id": "WLKHan_7UjsM",
        "colab": {
          "base_uri": "https://localhost:8080/"
        },
        "outputId": "d8a27e6e-65a7-4b58-97e3-d9ebe49a5528"
      },
      "source": [
        "t0 = time.time()\n",
        "\n",
        "combined_results=pd.DataFrame()\n",
        "\n",
        "#X_train_vect, X_test_vect = vectorize_text(X_train, X_test, mode=vocab)\n",
        "helper = EstimatorSelectionHelper(models, params)\n",
        "#print(vocab)\n",
        "helper.fit(X_train, y_train, scoring='accuracy')\n",
        "results = helper.score_summary()\n",
        "#results['vectorizer'] = vocab\n",
        "combined_results = pd.concat([combined_results, results], ignore_index=True)\n",
        "\n",
        "print('Time in minutes:', (time.time() - t0)/60)"
      ],
      "execution_count": 25,
      "outputs": [
        {
          "output_type": "stream",
          "name": "stdout",
          "text": [
            "Running GridSearchCV for LogisticRegression.\n",
            "Running GridSearchCV for kNN.\n",
            "Running GridSearchCV for SVC.\n",
            "Running GridSearchCV for RandomForestClassifier.\n",
            "Done.\n",
            "Time in minutes: 9.588767755031586\n"
          ]
        }
      ]
    },
    {
      "cell_type": "code",
      "metadata": {
        "id": "8qtw3K87UjsM",
        "colab": {
          "base_uri": "https://localhost:8080/",
          "height": 363
        },
        "outputId": "fd1bc63e-2d81-4a59-a01f-7889682a93fb"
      },
      "source": [
        "# Display the results dataframe\n",
        "results = results.sort_values(by='mean_test_score', ascending=False)\n",
        "results = results.reset_index(drop=True)\n",
        "cols = ['estimator', 'params', 'mean_test_score', 'mean_fit_time', 'mean_score_time']\n",
        "results = results[cols]\n",
        "results.head(10)"
      ],
      "execution_count": 26,
      "outputs": [
        {
          "output_type": "execute_result",
          "data": {
            "text/html": [
              "<div>\n",
              "<style scoped>\n",
              "    .dataframe tbody tr th:only-of-type {\n",
              "        vertical-align: middle;\n",
              "    }\n",
              "\n",
              "    .dataframe tbody tr th {\n",
              "        vertical-align: top;\n",
              "    }\n",
              "\n",
              "    .dataframe thead th {\n",
              "        text-align: right;\n",
              "    }\n",
              "</style>\n",
              "<table border=\"1\" class=\"dataframe\">\n",
              "  <thead>\n",
              "    <tr style=\"text-align: right;\">\n",
              "      <th></th>\n",
              "      <th>estimator</th>\n",
              "      <th>params</th>\n",
              "      <th>mean_test_score</th>\n",
              "      <th>mean_fit_time</th>\n",
              "      <th>mean_score_time</th>\n",
              "    </tr>\n",
              "  </thead>\n",
              "  <tbody>\n",
              "    <tr>\n",
              "      <th>0</th>\n",
              "      <td>SVC</td>\n",
              "      <td>{'C': 1, 'gamma': 'scale'}</td>\n",
              "      <td>0.588800</td>\n",
              "      <td>9.426089</td>\n",
              "      <td>5.415230</td>\n",
              "    </tr>\n",
              "    <tr>\n",
              "      <th>1</th>\n",
              "      <td>SVC</td>\n",
              "      <td>{'C': 10, 'gamma': 'scale'}</td>\n",
              "      <td>0.574099</td>\n",
              "      <td>11.443250</td>\n",
              "      <td>5.452768</td>\n",
              "    </tr>\n",
              "    <tr>\n",
              "      <th>2</th>\n",
              "      <td>SVC</td>\n",
              "      <td>{'C': 10, 'gamma': 'auto'}</td>\n",
              "      <td>0.553700</td>\n",
              "      <td>8.919082</td>\n",
              "      <td>5.026462</td>\n",
              "    </tr>\n",
              "    <tr>\n",
              "      <th>3</th>\n",
              "      <td>SVC</td>\n",
              "      <td>{'C': 0.1, 'gamma': 'scale'}</td>\n",
              "      <td>0.545900</td>\n",
              "      <td>9.932705</td>\n",
              "      <td>5.595882</td>\n",
              "    </tr>\n",
              "    <tr>\n",
              "      <th>4</th>\n",
              "      <td>LogisticRegression</td>\n",
              "      <td>{'C': 1.0, 'solver': 'sag'}</td>\n",
              "      <td>0.542701</td>\n",
              "      <td>1.945065</td>\n",
              "      <td>0.009470</td>\n",
              "    </tr>\n",
              "    <tr>\n",
              "      <th>5</th>\n",
              "      <td>LogisticRegression</td>\n",
              "      <td>{'C': 1.0, 'solver': 'saga'}</td>\n",
              "      <td>0.542701</td>\n",
              "      <td>4.158167</td>\n",
              "      <td>0.009898</td>\n",
              "    </tr>\n",
              "    <tr>\n",
              "      <th>6</th>\n",
              "      <td>LogisticRegression</td>\n",
              "      <td>{'C': 1.0, 'solver': 'newton-cg'}</td>\n",
              "      <td>0.542701</td>\n",
              "      <td>3.120840</td>\n",
              "      <td>0.009936</td>\n",
              "    </tr>\n",
              "    <tr>\n",
              "      <th>7</th>\n",
              "      <td>LogisticRegression</td>\n",
              "      <td>{'C': 0.07742636826811278, 'solver': 'newton-cg'}</td>\n",
              "      <td>0.541301</td>\n",
              "      <td>1.837284</td>\n",
              "      <td>0.009975</td>\n",
              "    </tr>\n",
              "    <tr>\n",
              "      <th>8</th>\n",
              "      <td>LogisticRegression</td>\n",
              "      <td>{'C': 0.07742636826811278, 'solver': 'saga'}</td>\n",
              "      <td>0.541301</td>\n",
              "      <td>0.939007</td>\n",
              "      <td>0.009594</td>\n",
              "    </tr>\n",
              "    <tr>\n",
              "      <th>9</th>\n",
              "      <td>LogisticRegression</td>\n",
              "      <td>{'C': 0.07742636826811278, 'solver': 'sag'}</td>\n",
              "      <td>0.541301</td>\n",
              "      <td>0.915761</td>\n",
              "      <td>0.008141</td>\n",
              "    </tr>\n",
              "  </tbody>\n",
              "</table>\n",
              "</div>"
            ],
            "text/plain": [
              "            estimator  ... mean_score_time\n",
              "0                 SVC  ...        5.415230\n",
              "1                 SVC  ...        5.452768\n",
              "2                 SVC  ...        5.026462\n",
              "3                 SVC  ...        5.595882\n",
              "4  LogisticRegression  ...        0.009470\n",
              "5  LogisticRegression  ...        0.009898\n",
              "6  LogisticRegression  ...        0.009936\n",
              "7  LogisticRegression  ...        0.009975\n",
              "8  LogisticRegression  ...        0.009594\n",
              "9  LogisticRegression  ...        0.008141\n",
              "\n",
              "[10 rows x 5 columns]"
            ]
          },
          "metadata": {},
          "execution_count": 26
        }
      ]
    },
    {
      "cell_type": "code",
      "metadata": {
        "id": "pSODWWniUjsN",
        "colab": {
          "base_uri": "https://localhost:8080/",
          "height": 485
        },
        "outputId": "3f48ae72-7d00-4265-cbb7-b3b63bc6a75e"
      },
      "source": [
        "results.boxplot(column='mean_test_score',by='estimator', figsize=(15,5), rot=90)"
      ],
      "execution_count": 27,
      "outputs": [
        {
          "output_type": "execute_result",
          "data": {
            "text/plain": [
              "<matplotlib.axes._subplots.AxesSubplot at 0x7fb8cc310990>"
            ]
          },
          "metadata": {},
          "execution_count": 27
        },
        {
          "output_type": "display_data",
          "data": {
            "image/png": "[encoded data removed]",
            "text/plain": [
              "<Figure size 1080x360 with 1 Axes>"
            ]
          },
          "metadata": {
            "needs_background": "light"
          }
        }
      ]
    },
    {
      "cell_type": "markdown",
      "metadata": {
        "id": "oZvVKAP9UjsN"
      },
      "source": [
        "### 6. ERROR ANALYSIS AND TEST RESULTS"
      ]
    },
    {
      "cell_type": "code",
      "metadata": {
        "id": "YAks4brZUjsN",
        "colab": {
          "base_uri": "https://localhost:8080/"
        },
        "outputId": "8e4a075e-7c73-41d5-9f53-ba29c130e4a6"
      },
      "source": [
        "# Predictions for the test set\n",
        "param = results.loc[0, 'params']\n",
        "top_model = SVC(**param)\n",
        "top_model.fit(X_train,y_train)\n",
        "y_pred = top_model.predict(X_test)\n",
        "print(classification_report(y_test, y_pred))"
      ],
      "execution_count": 28,
      "outputs": [
        {
          "output_type": "stream",
          "name": "stdout",
          "text": [
            "              precision    recall  f1-score   support\n",
            "\n",
            "           0       0.61      0.72      0.66       854\n",
            "           1       0.64      0.58      0.61       830\n",
            "           2       0.63      0.57      0.60       816\n",
            "\n",
            "    accuracy                           0.62      2500\n",
            "   macro avg       0.63      0.62      0.62      2500\n",
            "weighted avg       0.63      0.62      0.62      2500\n",
            "\n"
          ]
        }
      ]
    },
    {
      "cell_type": "code",
      "metadata": {
        "id": "zfXahpEQUjsN",
        "colab": {
          "base_uri": "https://localhost:8080/",
          "height": 332
        },
        "outputId": "713df18a-f381-4453-a634-248f63f8128f"
      },
      "source": [
        "# Label the predictions with their correct name\n",
        "labels_name = {0:'entailment', 1:'neutral', 2:'contradiction'}\n",
        "label_pred = [labels_name[i] for i in y_pred] \n",
        "\n",
        "# Create a big data frame with the true labels and their predictions\n",
        "final_df = test_data[['sentence1', 'sentence2', 'gold_label']]\n",
        "final_df['predictions'] = label_pred \n",
        "final_df.head(9)"
      ],
      "execution_count": 29,
      "outputs": [
        {
          "output_type": "execute_result",
          "data": {
            "text/html": [
              "<div>\n",
              "<style scoped>\n",
              "    .dataframe tbody tr th:only-of-type {\n",
              "        vertical-align: middle;\n",
              "    }\n",
              "\n",
              "    .dataframe tbody tr th {\n",
              "        vertical-align: top;\n",
              "    }\n",
              "\n",
              "    .dataframe thead th {\n",
              "        text-align: right;\n",
              "    }\n",
              "</style>\n",
              "<table border=\"1\" class=\"dataframe\">\n",
              "  <thead>\n",
              "    <tr style=\"text-align: right;\">\n",
              "      <th></th>\n",
              "      <th>sentence1</th>\n",
              "      <th>sentence2</th>\n",
              "      <th>gold_label</th>\n",
              "      <th>predictions</th>\n",
              "    </tr>\n",
              "  </thead>\n",
              "  <tbody>\n",
              "    <tr>\n",
              "      <th>0</th>\n",
              "      <td>This church choir sings to the masses as they ...</td>\n",
              "      <td>The church has cracks in the ceiling.</td>\n",
              "      <td>neutral</td>\n",
              "      <td>contradiction</td>\n",
              "    </tr>\n",
              "    <tr>\n",
              "      <th>1</th>\n",
              "      <td>This church choir sings to the masses as they ...</td>\n",
              "      <td>The church is filled with song.</td>\n",
              "      <td>entailment</td>\n",
              "      <td>contradiction</td>\n",
              "    </tr>\n",
              "    <tr>\n",
              "      <th>2</th>\n",
              "      <td>This church choir sings to the masses as they ...</td>\n",
              "      <td>A choir singing at a baseball game.</td>\n",
              "      <td>contradiction</td>\n",
              "      <td>contradiction</td>\n",
              "    </tr>\n",
              "    <tr>\n",
              "      <th>3</th>\n",
              "      <td>A woman with a green headscarf, blue shirt and...</td>\n",
              "      <td>The woman is young.</td>\n",
              "      <td>neutral</td>\n",
              "      <td>entailment</td>\n",
              "    </tr>\n",
              "    <tr>\n",
              "      <th>4</th>\n",
              "      <td>A woman with a green headscarf, blue shirt and...</td>\n",
              "      <td>The woman is very happy.</td>\n",
              "      <td>entailment</td>\n",
              "      <td>neutral</td>\n",
              "    </tr>\n",
              "    <tr>\n",
              "      <th>5</th>\n",
              "      <td>A woman with a green headscarf, blue shirt and...</td>\n",
              "      <td>The woman has been shot.</td>\n",
              "      <td>contradiction</td>\n",
              "      <td>contradiction</td>\n",
              "    </tr>\n",
              "    <tr>\n",
              "      <th>6</th>\n",
              "      <td>An old man with a package poses in front of an...</td>\n",
              "      <td>A man poses in front of an ad.</td>\n",
              "      <td>entailment</td>\n",
              "      <td>entailment</td>\n",
              "    </tr>\n",
              "    <tr>\n",
              "      <th>7</th>\n",
              "      <td>An old man with a package poses in front of an...</td>\n",
              "      <td>A man poses in front of an ad for beer.</td>\n",
              "      <td>neutral</td>\n",
              "      <td>neutral</td>\n",
              "    </tr>\n",
              "    <tr>\n",
              "      <th>8</th>\n",
              "      <td>An old man with a package poses in front of an...</td>\n",
              "      <td>A man walks by an ad.</td>\n",
              "      <td>contradiction</td>\n",
              "      <td>entailment</td>\n",
              "    </tr>\n",
              "  </tbody>\n",
              "</table>\n",
              "</div>"
            ],
            "text/plain": [
              "                                           sentence1  ...    predictions\n",
              "0  This church choir sings to the masses as they ...  ...  contradiction\n",
              "1  This church choir sings to the masses as they ...  ...  contradiction\n",
              "2  This church choir sings to the masses as they ...  ...  contradiction\n",
              "3  A woman with a green headscarf, blue shirt and...  ...     entailment\n",
              "4  A woman with a green headscarf, blue shirt and...  ...        neutral\n",
              "5  A woman with a green headscarf, blue shirt and...  ...  contradiction\n",
              "6  An old man with a package poses in front of an...  ...     entailment\n",
              "7  An old man with a package poses in front of an...  ...        neutral\n",
              "8  An old man with a package poses in front of an...  ...     entailment\n",
              "\n",
              "[9 rows x 4 columns]"
            ]
          },
          "metadata": {},
          "execution_count": 29
        }
      ]
    },
    {
      "cell_type": "code",
      "metadata": {
        "id": "hbtwDYUCUjsN",
        "colab": {
          "base_uri": "https://localhost:8080/"
        },
        "outputId": "11541373-d23f-4be0-867f-7c632d9b2be9"
      },
      "source": [
        "# Confusion Matrix\n",
        "from sklearn import metrics\n",
        "\n",
        "print('Confusion Matrix:')\n",
        "metrics.confusion_matrix(y_test, y_pred) # Rows = true_labels and Col = predictions"
      ],
      "execution_count": 30,
      "outputs": [
        {
          "output_type": "stream",
          "name": "stdout",
          "text": [
            "Confusion Matrix:\n"
          ]
        },
        {
          "output_type": "execute_result",
          "data": {
            "text/plain": [
              "array([[612, 123, 119],\n",
              "       [198, 479, 153],\n",
              "       [197, 151, 468]])"
            ]
          },
          "metadata": {},
          "execution_count": 30
        }
      ]
    },
    {
      "cell_type": "code",
      "metadata": {
        "id": "BnAuGmE9UjsN",
        "colab": {
          "base_uri": "https://localhost:8080/"
        },
        "outputId": "8b65ef2c-409e-4502-8180-48dc5beb046a"
      },
      "source": [
        "# Compare svm accuracy to the baseline method ('majority class')\n",
        "baseline_acc = 854/2500\n",
        "diff = 0.62/baseline_acc\n",
        "print('Improvement of SVM: ',round(diff,2))"
      ],
      "execution_count": 31,
      "outputs": [
        {
          "output_type": "stream",
          "name": "stdout",
          "text": [
            "Improvement of SVM:  1.81\n"
          ]
        }
      ]
    }
  ]
}